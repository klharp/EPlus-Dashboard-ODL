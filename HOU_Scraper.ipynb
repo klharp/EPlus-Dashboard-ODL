{
 "cells": [
  {
   "cell_type": "markdown",
   "metadata": {},
   "source": [
    "# Houston, TX Simulations\n",
    "8760 rows per simulation<br>\n",
    "50 files (removed cell-in-cell)"
   ]
  },
  {
   "cell_type": "code",
   "execution_count": 1,
   "metadata": {},
   "outputs": [],
   "source": [
    "# Dependencies\n",
    "import pandas as pd\n",
    "import os\n",
    "import numpy as np\n",
    "import pprint\n",
    "from pathlib import Path\n",
    "from datetime import datetime"
   ]
  },
  {
   "cell_type": "markdown",
   "metadata": {},
   "source": [
    "## Energy Conversions\n",
    "\n",
    "As per E* Documentation<br>\n",
    "\n",
    "Joules --> kBtu (multiply by .00000094781712)<br>\n",
    "Joules --> kWh (multiply by .000000277777778) or (divide by 3600000)<br>\n",
    "Joules --> therms (multiply by .0000000094781712<br>\n",
    "\n",
    "foot-candles --> Lux (multiply by 10.7642)"
   ]
  },
  {
   "cell_type": "markdown",
   "metadata": {},
   "source": [
    "<div>\n",
    "    <img src=\"static/images/elect_conv.png\" width=\"400\"/>\n",
    "     <img src=\"static/images/gas_conv.png\" width=\"400\"/>\n",
    "</div"
   ]
  },
  {
   "cell_type": "code",
   "execution_count": 2,
   "metadata": {},
   "outputs": [],
   "source": [
    "# 2018 Egrid Costs (elec $/kWh, gas $/therm), change values per city\n",
    "gas = 1.11\n",
    "elec = 0.112"
   ]
  },
  {
   "cell_type": "markdown",
   "metadata": {},
   "source": [
    "---\n",
    "\n",
    "## Combine CSV Files in Directory"
   ]
  },
  {
   "cell_type": "code",
   "execution_count": 3,
   "metadata": {},
   "outputs": [],
   "source": [
    "# Create variable for files in directory\n",
    "files = [f for f in os.listdir(\"data/hou/\") if f.endswith(\".csv\")]\n",
    "\n",
    "# files"
   ]
  },
  {
   "cell_type": "code",
   "execution_count": 4,
   "metadata": {},
   "outputs": [],
   "source": [
    "# https://stackoverflow.com/questions/63886787/how-to-create-a-dataframe-from-multiple-csv-files\n",
    "# Initialize and empty dataframe\n",
    "all_data = pd.DataFrame()\n",
    "\n",
    "# Iterate through files and contents, then concatenate the data into the dataframe\n",
    "for file in files:\n",
    "    df = pd.read_csv(\"data/hou/\" + file)\n",
    "    all_data = pd.concat([all_data, df])\n",
    "    \n",
    "#all_data\n",
    "\n",
    "# 438000  rows, 73 columns"
   ]
  },
  {
   "cell_type": "code",
   "execution_count": 5,
   "metadata": {},
   "outputs": [],
   "source": [
    "# all_data.dtypes"
   ]
  },
  {
   "cell_type": "code",
   "execution_count": 6,
   "metadata": {},
   "outputs": [],
   "source": [
    "# Get wanted columns\n",
    "all_data1 = all_data[[\"Scenario\",\n",
    "               \"Date/Time\",\n",
    "              \"LIVING_UNIT1 DAYLIGHTINGCONTROLS:Daylighting Reference Point 1 Illuminance [lux](Hourly)\",\n",
    "              \"SUPPLY FAN_UNIT1:Fan Electricity Energy [J](Hourly)\",\n",
    "              \"MAIN GAS HEATING COIL_UNIT1:Heating Coil NaturalGas Energy [J](Hourly)\",\n",
    "              \"DX COOLING COIL_UNIT1:Cooling Coil Electricity Energy [J](Hourly) \"]]\n",
    "\n",
    "#all_data1"
   ]
  },
  {
   "cell_type": "code",
   "execution_count": 7,
   "metadata": {},
   "outputs": [],
   "source": [
    "all_data1 = all_data1.dropna().reset_index(drop=True)\n",
    "\n",
    "#all_data1\n",
    "\n",
    "#438000  rows, 73 columns"
   ]
  },
  {
   "cell_type": "markdown",
   "metadata": {},
   "source": [
    "-----\n",
    "\n",
    "## Get the Wanted Data (columns)"
   ]
  },
  {
   "cell_type": "code",
   "execution_count": 8,
   "metadata": {
    "scrolled": true
   },
   "outputs": [],
   "source": [
    "# Rename Columns\n",
    "all_data2 = all_data1.rename(columns={\"Scenario\":\"Scenario\",\n",
    "                              \"Date/Time\":\"Date_Time\",\n",
    "                             \"LIVING_UNIT1 DAYLIGHTINGCONTROLS:Daylighting Reference Point 1 Illuminance [lux](Hourly)\":\"Illuminance(lux)\",\n",
    "                             \"SUPPLY FAN_UNIT1:Fan Electricity Energy [J](Hourly)\":\"FanEnergy[J](Hourly)\",\n",
    "                             \"MAIN GAS HEATING COIL_UNIT1:Heating Coil NaturalGas Energy [J](Hourly)\":\"HeatingEnergy[J](Hourly)\",\n",
    "                             \"DX COOLING COIL_UNIT1:Cooling Coil Electricity Energy [J](Hourly) \":\"CoolingEnergy[J](Hourly) \"\n",
    "                             })\n",
    "\n",
    "#all_data2\n",
    "\n",
    "#438000  rows, 6 columns"
   ]
  },
  {
   "cell_type": "markdown",
   "metadata": {},
   "source": [
    "-----\n",
    "\n",
    "## Get Annual Energy Data\n",
    "Convert units from Joules to kBtu<br>\n",
    "Drop Illuminance column<br>\n"
   ]
  },
  {
   "cell_type": "code",
   "execution_count": 9,
   "metadata": {},
   "outputs": [],
   "source": [
    "# Copy dataframe to modify and leave original df intact\n",
    "get_annual = all_data2.copy(deep=True)\n",
    "\n",
    "#get_annual"
   ]
  },
  {
   "cell_type": "code",
   "execution_count": 10,
   "metadata": {},
   "outputs": [],
   "source": [
    "# Convert Joules to KBtu in dataframe\n",
    "get_annual[\"FanEnergy(kBtu)\"] = get_annual[\"FanEnergy[J](Hourly)\"] * .00000094781712\n",
    "get_annual[\"HeatingEnergy(kBtu)\"] = get_annual[\"HeatingEnergy[J](Hourly)\"] * .00000094781712\n",
    "get_annual[\"CoolingEnergy(kBtu)\"] = get_annual[\"CoolingEnergy[J](Hourly) \"] * .00000094781712\n",
    "\n",
    "#get_annual"
   ]
  },
  {
   "cell_type": "code",
   "execution_count": 11,
   "metadata": {},
   "outputs": [],
   "source": [
    "#list(get_annual.columns.values)"
   ]
  },
  {
   "cell_type": "code",
   "execution_count": 12,
   "metadata": {},
   "outputs": [],
   "source": [
    "# Drop columns\n",
    "get_annual.drop(columns = [\"FanEnergy[J](Hourly)\", \"HeatingEnergy[J](Hourly)\", \"CoolingEnergy[J](Hourly) \"], axis=1, inplace=True)\n",
    "\n",
    "#get_annual"
   ]
  },
  {
   "cell_type": "markdown",
   "metadata": {},
   "source": [
    "---\n",
    "\n",
    "## Get Annual Cost Data\n",
    "Convert units from Joules to kWh and therms to use cost multiplier<br>\n",
    "Drop Illuminance column<br>\n",
    "Add cost multiplier, variables defined above"
   ]
  },
  {
   "cell_type": "code",
   "execution_count": 13,
   "metadata": {},
   "outputs": [],
   "source": [
    "# Get annual costs\n",
    "get_annual_costs = all_data2.copy(deep=True)"
   ]
  },
  {
   "cell_type": "code",
   "execution_count": 14,
   "metadata": {},
   "outputs": [],
   "source": [
    "# Convert Joules to KBtu in dataframe and add cost multiplier\n",
    "# Gas kbtu => Mbtu => therms: (kbtu/1000) * 10\n",
    "# Elec kbtu => Kwh (kbtu * .000000277777778)\n",
    "get_annual_costs[\"FanCost($)\"] = (get_annual_costs[\"FanEnergy[J](Hourly)\"] * .000000277777778) * elec\n",
    "get_annual_costs[\"HeatingCost($)\"] = ((get_annual_costs[\"HeatingEnergy[J](Hourly)\"] * .00000094781712)/1000) * 10  * gas\n",
    "get_annual_costs[\"CoolingCost($)\"] = (get_annual_costs[\"CoolingEnergy[J](Hourly) \"] * .000000277777778) * elec\n",
    "\n",
    "#get_annual_costs"
   ]
  },
  {
   "cell_type": "code",
   "execution_count": 15,
   "metadata": {},
   "outputs": [],
   "source": [
    "# Drop columns\n",
    "get_annual_costs.drop(columns = [\"Illuminance(lux)\",\"FanEnergy[J](Hourly)\", \"HeatingEnergy[J](Hourly)\", \"CoolingEnergy[J](Hourly) \"], axis=1, inplace=True)\n",
    "\n",
    "#get_annual_costs"
   ]
  },
  {
   "cell_type": "markdown",
   "metadata": {},
   "source": [
    "---\n",
    "\n",
    "## Combine Annual Energy and Cost Data\n",
    "Combine two dfs<br>\n",
    "Export combine file"
   ]
  },
  {
   "cell_type": "code",
   "execution_count": 16,
   "metadata": {},
   "outputs": [],
   "source": [
    "# Combine data for energy and cost\n",
    "allAnnualData = pd.merge(get_annual, get_annual_costs)\n",
    "\n",
    "#allAnnualData"
   ]
  },
  {
   "cell_type": "code",
   "execution_count": 17,
   "metadata": {},
   "outputs": [],
   "source": [
    "# Add energy and cost totals\n",
    "totalEnergy = allAnnualData[\"FanEnergy(kBtu)\"] + allAnnualData[\"HeatingEnergy(kBtu)\"] + allAnnualData[\"CoolingEnergy(kBtu)\"]\n",
    "allAnnualData[\"AnnualEnergy(kBtu)\"] = totalEnergy\n",
    "\n",
    "totalCost = allAnnualData[\"FanCost($)\"] + allAnnualData[\"HeatingCost($)\"] + allAnnualData[\"CoolingCost($)\"]\n",
    "allAnnualData[\"AnnualCost($)\"] = totalCost\n",
    "\n",
    "#allAnnualData"
   ]
  },
  {
   "cell_type": "code",
   "execution_count": 18,
   "metadata": {},
   "outputs": [],
   "source": [
    "#list(allAnnualData.columns.values)"
   ]
  },
  {
   "cell_type": "markdown",
   "metadata": {},
   "source": [
    "---\n",
    "\n",
    "## Establish Annual Baseline at Clear/Clear-VB0\n",
    "\n",
    "Create dataset with just baselines.<br> \n",
    "Keep the units in kBtus to be able to eventually combine heating and cooling <br>\n",
    "Merge the baseline dataset with the full dataset.<br>\n",
    "Determine the delta between scenario and base."
   ]
  },
  {
   "cell_type": "code",
   "execution_count": 19,
   "metadata": {},
   "outputs": [],
   "source": [
    "# Define the scenario for the baselines.\n",
    "# % improvement from Clear/Clear-VB0 (dual clear with a Venetian Blind at 0 degrees)\n",
    "baselineAnnual = allAnnualData[allAnnualData[\"Scenario\"] == \"Clear/Clear-VB0\"]\n",
    "\n",
    "#baselineAnnual"
   ]
  },
  {
   "cell_type": "code",
   "execution_count": 20,
   "metadata": {},
   "outputs": [],
   "source": [
    "# Rename columns to indicate baseline to prepare for merge\n",
    "\n",
    "allBaselineAnnual = baselineAnnual.rename(columns={\"Scenario\":\"B_Scenario\",\n",
    "                              \"Date_Time\":\"Date_Time\",\n",
    "                             \"Illuminance(lux)\":\"B_Illuminance(lux)\",\n",
    "                             \"FanEnergy(kBtu)\":\"B_FanEnergy(kBtu)\",\n",
    "                             \"HeatingEnergy(kBtu)\":\"B_HeatingEnergy(kBtu)\",\n",
    "                             \"CoolingEnergy(kBtu)\":\"B_CoolingEnergy(kBtu)\",\n",
    "                             \"AnnualEnergy(kBtu)\":\"B_AnnualEnergy(kBtu)\",\n",
    "                             \"FanCost($)\":\"B_FanEnergy($)\",\n",
    "                             \"HeatingCost($)\":\"B_HeatingCost($)\",\n",
    "                             \"CoolingCost($)\":\"B_CoolingCost($)\",\n",
    "                             \"AnnualCost($)\":\"B_AnnualCost($)\",\n",
    "                             })\n",
    "\n",
    "#allBaselineHourly"
   ]
  },
  {
   "cell_type": "code",
   "execution_count": 21,
   "metadata": {},
   "outputs": [],
   "source": [
    "# Merge the dataframes to include the baseline data.\n",
    "AnnualWithBaseline = pd.merge(allAnnualData, allBaselineAnnual, on=\"Date_Time\", how=\"left\")\n",
    "\n",
    "#hourlyWithBaseline"
   ]
  },
  {
   "cell_type": "code",
   "execution_count": 22,
   "metadata": {},
   "outputs": [],
   "source": [
    "#list(AnnualWithBaseline.columns.values)"
   ]
  },
  {
   "cell_type": "code",
   "execution_count": 23,
   "metadata": {},
   "outputs": [],
   "source": [
    "# Add column for the difference from baseline columns (scenario - baseline)\n",
    "AnnualWithBaseline[\"deltaEnergy(kBtu)\"] = AnnualWithBaseline[\"AnnualEnergy(kBtu)\"] - AnnualWithBaseline[\"B_AnnualEnergy(kBtu)\"]\n",
    "AnnualWithBaseline[\"deltaCost($)\"] = AnnualWithBaseline[\"AnnualCost($)\"] - AnnualWithBaseline[\"B_AnnualCost($)\"]\n",
    "\n",
    "# AnnualWithBaseline"
   ]
  },
  {
   "cell_type": "code",
   "execution_count": 24,
   "metadata": {},
   "outputs": [],
   "source": [
    "# Convert NANs to 0\n",
    "AnnualWithBaseline =AnnualWithBaseline.fillna(0)\n",
    "\n",
    "#AnnualWithBaseline"
   ]
  },
  {
   "cell_type": "markdown",
   "metadata": {},
   "source": [
    "---\n",
    "## Group and Export Annual Data\n",
    "Group dataframe by scenario<br>\n",
    "Export to file"
   ]
  },
  {
   "cell_type": "code",
   "execution_count": 25,
   "metadata": {},
   "outputs": [],
   "source": [
    "# Group by scenario\n",
    "annualData = AnnualWithBaseline.groupby([\"Scenario\"], as_index=True)\n",
    "\n",
    "#annualData.sum().round(2)"
   ]
  },
  {
   "cell_type": "code",
   "execution_count": 26,
   "metadata": {},
   "outputs": [],
   "source": [
    "annualDataFinal = annualData.sum().round(2)\n",
    "\n",
    "#annualDataFinal"
   ]
  },
  {
   "cell_type": "code",
   "execution_count": 27,
   "metadata": {},
   "outputs": [],
   "source": [
    "# Export grouped file to csv\n",
    "annualDataFinal.to_csv(\"../Scraper_Output/hou_annual_data.csv\", header=True, index=True)"
   ]
  },
  {
   "cell_type": "markdown",
   "metadata": {},
   "source": [
    "-----\n",
    "\n",
    "## Get Monthly Energy Data\n",
    "Change units from Joules to therms and kWh<br>\n",
    "No baseline data used in monthly export due to differing units of energy, refer to annual and hourly.<br>\n",
    "Drop unwanted columns"
   ]
  },
  {
   "cell_type": "code",
   "execution_count": 28,
   "metadata": {},
   "outputs": [],
   "source": [
    "# Copy dataframe to modify and leave original df intact\n",
    "get_monthly = all_data2.copy(deep=True)\n",
    "\n",
    "#get_monthly"
   ]
  },
  {
   "cell_type": "code",
   "execution_count": 29,
   "metadata": {},
   "outputs": [],
   "source": [
    "# Convert Joules to kWh and therms in new dataframe\n",
    "get_monthly[\"FanEnergy(kWh)\"] = get_monthly[\"FanEnergy[J](Hourly)\"] * .000000277777778\n",
    "get_monthly[\"HeatingEnergy(therms)\"] = get_monthly[\"HeatingEnergy[J](Hourly)\"] * .0000000094781712\n",
    "get_monthly[\"CoolingEnergy(kWh)\"] = get_monthly[\"CoolingEnergy[J](Hourly) \"] * .000000277777778\n",
    "\n",
    "#get_monthly"
   ]
  },
  {
   "cell_type": "code",
   "execution_count": 30,
   "metadata": {},
   "outputs": [],
   "source": [
    "# Drop columns\n",
    "get_monthly.drop(columns = [\"FanEnergy[J](Hourly)\", \"HeatingEnergy[J](Hourly)\", \"CoolingEnergy[J](Hourly) \"], axis=1, inplace=True)\n",
    "\n",
    "#get_monthly"
   ]
  },
  {
   "cell_type": "markdown",
   "metadata": {},
   "source": [
    "## Get Monthly Cost Data\n",
    "\n",
    "Change units from Joules to therms and kWh<br>\n",
    "Add cost multiplier, variable needs to be defined above"
   ]
  },
  {
   "cell_type": "code",
   "execution_count": 31,
   "metadata": {},
   "outputs": [],
   "source": [
    "# Copy dataframe to modify and leave original df intact\n",
    "get_monthly_costs = all_data2.copy(deep=True)\n",
    "\n",
    "#get_monthly"
   ]
  },
  {
   "cell_type": "code",
   "execution_count": 32,
   "metadata": {},
   "outputs": [],
   "source": [
    "# Convert Joules to KBtu in dataframe and add cost multiplier\n",
    "# Gas kbtu => Mbtu => therms: (kbtu/1000) * 10\n",
    "# Elec kbtu => Kwh (kbtu * .000000277777778)\n",
    "get_monthly_costs[\"FanCost($)\"] = (get_monthly_costs[\"FanEnergy[J](Hourly)\"] * .000000277777778) * elec\n",
    "get_monthly_costs[\"HeatingCost($)\"] = ((get_monthly_costs[\"HeatingEnergy[J](Hourly)\"] * .00000094781712)/1000) * 10  * gas\n",
    "get_monthly_costs[\"CoolingCost($)\"] = (get_monthly_costs[\"CoolingEnergy[J](Hourly) \"] * .000000277777778) * elec\n",
    "\n",
    "#get_monthly_costs"
   ]
  },
  {
   "cell_type": "code",
   "execution_count": 33,
   "metadata": {},
   "outputs": [],
   "source": [
    "# Drop columns\n",
    "get_monthly_costs.drop(columns = [\"FanEnergy[J](Hourly)\", \"HeatingEnergy[J](Hourly)\", \"CoolingEnergy[J](Hourly) \"], axis=1, inplace=True)\n",
    "\n",
    "#get_monthly_costs"
   ]
  },
  {
   "cell_type": "markdown",
   "metadata": {},
   "source": [
    "---\n",
    "\n",
    "## Combine Monthly Energy and Cost Data\n",
    "Combine two dfs<br>\n",
    "Create Month Column<br>\n",
    "Export combine file"
   ]
  },
  {
   "cell_type": "code",
   "execution_count": 34,
   "metadata": {},
   "outputs": [],
   "source": [
    "# Combine data for energy and cost\n",
    "allMonthlyData = pd.merge(get_monthly, get_monthly_costs, how=\"inner\")\n",
    "\n",
    "#allMonthlyData"
   ]
  },
  {
   "cell_type": "code",
   "execution_count": 35,
   "metadata": {},
   "outputs": [],
   "source": [
    "# Add cost totals, don't total energy...in different units\n",
    "totalCostMonthly = allMonthlyData[\"FanCost($)\"] + allMonthlyData[\"HeatingCost($)\"] + allMonthlyData[\"CoolingCost($)\"]\n",
    "allMonthlyData[\"MonthlyCost($)\"] = totalCostMonthly\n",
    "\n",
    "#allMonthlyData"
   ]
  },
  {
   "cell_type": "code",
   "execution_count": 36,
   "metadata": {
    "scrolled": true
   },
   "outputs": [],
   "source": [
    "allMonthlyData[\"Month\"] = allMonthlyData.Date_Time.str.slice(0,3)\n",
    "\n",
    "#allMonthlyData"
   ]
  },
  {
   "cell_type": "markdown",
   "metadata": {},
   "source": [
    "## Group and Export Monthly Data\n",
    "Group dataframe by scenario and month<br>\n",
    "Export to file"
   ]
  },
  {
   "cell_type": "code",
   "execution_count": 37,
   "metadata": {
    "scrolled": true
   },
   "outputs": [],
   "source": [
    "# Group by scenario and date/time for export to graphing\n",
    "MonthlyData2 = allMonthlyData.groupby([\"Scenario\", \"Month\"], as_index=True)\n",
    "\n",
    "#MonthlyData2.sum()"
   ]
  },
  {
   "cell_type": "code",
   "execution_count": 38,
   "metadata": {},
   "outputs": [],
   "source": [
    "MonthlyDataFinal = MonthlyData2.sum()\n",
    "\n",
    "#MonthlyDataFinal"
   ]
  },
  {
   "cell_type": "code",
   "execution_count": 39,
   "metadata": {},
   "outputs": [],
   "source": [
    "# Drop Illuminance column...don't need the totals\n",
    "MonthlyDataFinal.drop(columns = [\"Illuminance(lux)\"], axis=1, inplace=True)"
   ]
  },
  {
   "cell_type": "code",
   "execution_count": 40,
   "metadata": {},
   "outputs": [],
   "source": [
    "# Export grouped file to csv (used before grouped by month)\n",
    "MonthlyDataFinal.round(2).to_csv(\"../Scraper_Output/hou_monthly_data.csv\", header=True, index=True)"
   ]
  },
  {
   "cell_type": "markdown",
   "metadata": {},
   "source": [
    "## Get Monthly Average Illuminance\n",
    "Get just the illuminance column<br>\n",
    "Group by scenario <br>\n",
    "Groups by month <br>"
   ]
  },
  {
   "cell_type": "code",
   "execution_count": 41,
   "metadata": {},
   "outputs": [],
   "source": [
    "Illuminance = allMonthlyData[[\"Scenario\", \"Date_Time\", \"Illuminance(lux)\", \"Month\"]]\n",
    "\n",
    "#Illuminance"
   ]
  },
  {
   "cell_type": "code",
   "execution_count": 42,
   "metadata": {},
   "outputs": [],
   "source": [
    "# Group by scenario\n",
    "MonthlyIlluminance = Illuminance.groupby([\"Scenario\", \"Month\"])\n",
    "\n",
    "#MonthlyIlluminance.mean()"
   ]
  },
  {
   "cell_type": "code",
   "execution_count": 43,
   "metadata": {},
   "outputs": [],
   "source": [
    "# Export grouped file to csv\n",
    "MonthlyIlluminance.mean().round(2).to_csv(\"../Scraper_Output/hou_monthly_illuminance.csv\", header=True, index=True)"
   ]
  },
  {
   "cell_type": "markdown",
   "metadata": {},
   "source": [
    "------\n",
    "\n",
    "## Get Hourly Energy Data\n",
    "Change units from Joules to kBtu to be able to combine heat, cool and fan<br>\n",
    "Drop unwanted columns"
   ]
  },
  {
   "cell_type": "code",
   "execution_count": 44,
   "metadata": {},
   "outputs": [],
   "source": [
    "# Copy dataframe to modify and leave original df intact\n",
    "all_data3 = all_data1.copy(deep=True)\n",
    "\n",
    "#all_data3"
   ]
  },
  {
   "cell_type": "code",
   "execution_count": 45,
   "metadata": {},
   "outputs": [],
   "source": [
    "# Get wanted columns\n",
    "# Include hourly illumance\n",
    "all_data3 = all_data3[[\"Scenario\",\n",
    "               \"Date/Time\",\n",
    "                             \"LIVING_UNIT1 DAYLIGHTINGCONTROLS:Daylighting Reference Point 1 Illuminance [lux](Hourly)\",\n",
    "                             \"SUPPLY FAN_UNIT1:Fan Electricity Energy [J](Hourly)\",\n",
    "                             \"MAIN GAS HEATING COIL_UNIT1:Heating Coil NaturalGas Energy [J](Hourly)\",\n",
    "                             \"DX COOLING COIL_UNIT1:Cooling Coil Electricity Energy [J](Hourly) \"\n",
    "                      ]]\n",
    "\n",
    "#all_data3"
   ]
  },
  {
   "cell_type": "code",
   "execution_count": 46,
   "metadata": {},
   "outputs": [],
   "source": [
    "# Rename Columns\n",
    "get_hourly = all_data3.rename(columns={\"Scenario\":\"Scenario\",\n",
    "                              \"Date/Time\":\"Date_Time\",\n",
    "                             \"LIVING_UNIT1 DAYLIGHTINGCONTROLS:Daylighting Reference Point 1 Illuminance [lux](Hourly)\":\"Illuminance(lux)\",\n",
    "                             \"SUPPLY FAN_UNIT1:Fan Electricity Energy [J](Hourly)\":\"FanEnergy[J](Hourly)\",\n",
    "                             \"MAIN GAS HEATING COIL_UNIT1:Heating Coil NaturalGas Energy [J](Hourly)\":\"HeatingEnergy[J](Hourly)\",\n",
    "                             \"DX COOLING COIL_UNIT1:Cooling Coil Electricity Energy [J](Hourly) \":\"CoolingEnergy[J](Hourly) \"\n",
    "                             })\n",
    "\n",
    "#get_hourly"
   ]
  },
  {
   "cell_type": "code",
   "execution_count": 47,
   "metadata": {},
   "outputs": [],
   "source": [
    "# Convert Joules to kBtus in new dataframe\n",
    "get_hourly[\"FanEnergy(kBtu)\"] = get_hourly[\"FanEnergy[J](Hourly)\"] * .00000094781712\n",
    "get_hourly[\"HeatingEnergy(kBtu)\"] = get_hourly[\"HeatingEnergy[J](Hourly)\"] * .00000094781712\n",
    "get_hourly[\"CoolingEnergy(kBtu)\"] = get_hourly[\"CoolingEnergy[J](Hourly) \"] * .00000094781712\n",
    "\n",
    "#get_hourly"
   ]
  },
  {
   "cell_type": "code",
   "execution_count": 48,
   "metadata": {},
   "outputs": [],
   "source": [
    "# Drop columns\n",
    "get_hourly.drop(columns = [\"FanEnergy[J](Hourly)\", \"HeatingEnergy[J](Hourly)\", \"CoolingEnergy[J](Hourly) \"], axis=1, inplace=True)\n",
    "\n",
    "#get_hourly"
   ]
  },
  {
   "cell_type": "code",
   "execution_count": 49,
   "metadata": {},
   "outputs": [],
   "source": [
    "#list(get_hourly.columns.values)"
   ]
  },
  {
   "cell_type": "markdown",
   "metadata": {},
   "source": [
    "------\n",
    "\n",
    "## Get Hourly Cost Data\n",
    "Add cost multiplier, variable needs to be defined above"
   ]
  },
  {
   "cell_type": "code",
   "execution_count": 50,
   "metadata": {},
   "outputs": [],
   "source": [
    "# Copy dataframe to modify and leave original df intact\n",
    "get_hourly_costs = all_data3.copy(deep=True)\n",
    "\n",
    "#get_hourly_costs"
   ]
  },
  {
   "cell_type": "code",
   "execution_count": 51,
   "metadata": {},
   "outputs": [],
   "source": [
    "# Rename Columns\n",
    "get_hourly_costs = get_hourly_costs.rename(columns={\"Scenario\":\"Scenario\",\n",
    "                              \"Date/Time\":\"Date_Time\",\n",
    "                             \"LIVING_UNIT1 DAYLIGHTINGCONTROLS:Daylighting Reference Point 1 Illuminance [lux](Hourly)\":\"Illuminance(lux)\",\n",
    "                             \"SUPPLY FAN_UNIT1:Fan Electricity Energy [J](Hourly)\":\"FanEnergy[J](Hourly)\",\n",
    "                             \"MAIN GAS HEATING COIL_UNIT1:Heating Coil NaturalGas Energy [J](Hourly)\":\"HeatingEnergy[J](Hourly)\",\n",
    "                             \"DX COOLING COIL_UNIT1:Cooling Coil Electricity Energy [J](Hourly) \":\"CoolingEnergy[J](Hourly) \"\n",
    "                             })\n",
    "\n",
    "# get_hourly_costs"
   ]
  },
  {
   "cell_type": "code",
   "execution_count": 52,
   "metadata": {},
   "outputs": [],
   "source": [
    "# Convert Joules to KBtu in dataframe and add cost multiplier\n",
    "# Gas kbtu => Mbtu => therms: (kbtu/1000) * 10\n",
    "# Elec kbtu => Kwh (kbtu * .000000277777778)\n",
    "get_hourly_costs[\"FanCost($)\"] = (get_hourly_costs[\"FanEnergy[J](Hourly)\"] * .000000277777778) * elec\n",
    "get_hourly_costs[\"HeatingCost($)\"] = ((get_hourly_costs[\"HeatingEnergy[J](Hourly)\"] * .00000094781712)/1000) * 10  * gas\n",
    "get_hourly_costs[\"CoolingCost($)\"] = (get_hourly_costs[\"CoolingEnergy[J](Hourly) \"] * .000000277777778) * elec\n",
    "\n",
    "#get_annual_costs"
   ]
  },
  {
   "cell_type": "code",
   "execution_count": 53,
   "metadata": {},
   "outputs": [],
   "source": [
    "# Drop columns\n",
    "get_hourly_costs.drop(columns = [\"FanEnergy[J](Hourly)\", \"HeatingEnergy[J](Hourly)\", \"CoolingEnergy[J](Hourly) \"], axis=1, inplace=True)\n",
    "\n",
    "#get_hourly_costs"
   ]
  },
  {
   "cell_type": "markdown",
   "metadata": {},
   "source": [
    "## Combine Hourly Energy and Cost Data\n",
    "Combine two dfs<br>\n",
    "Export combine file"
   ]
  },
  {
   "cell_type": "code",
   "execution_count": 54,
   "metadata": {},
   "outputs": [],
   "source": [
    "# Combine data for energy and cost\n",
    "allHourlyData = pd.merge(get_hourly, get_hourly_costs, how=\"inner\")\n",
    "\n",
    "#allHourlyData"
   ]
  },
  {
   "cell_type": "code",
   "execution_count": 55,
   "metadata": {},
   "outputs": [],
   "source": [
    "# Add energy and cost totals\n",
    "\n",
    "totalEnergyhourly = allHourlyData[\"FanEnergy(kBtu)\"] + allHourlyData[\"HeatingEnergy(kBtu)\"] + allHourlyData[\"CoolingEnergy(kBtu)\"]\n",
    "totalCosthourly = allHourlyData[\"FanCost($)\"] + allHourlyData[\"HeatingCost($)\"] + allHourlyData[\"CoolingCost($)\"]\n",
    "allHourlyData[\"HourlyEnergy(kBtu)\"] = totalEnergyhourly\n",
    "allHourlyData[\"HourlyCost($)\"] = totalCosthourly\n",
    "\n",
    "#allHourlyData"
   ]
  },
  {
   "cell_type": "code",
   "execution_count": 56,
   "metadata": {},
   "outputs": [],
   "source": [
    "#list(allHourlyData.columns.values)"
   ]
  },
  {
   "cell_type": "markdown",
   "metadata": {},
   "source": [
    "---\n",
    "\n",
    "## Establish Hourly Baseline at Clear/Clear-VB0\n",
    "\n",
    "Create dataset with just baselines.<br> \n",
    "Keep the units in kBtus to be able to eventually combine heating and cooling <br>\n",
    "Merge the baseline dataset with the full dataset.<br>\n",
    "Filter the data on the conditionals of illuminance and energy performance."
   ]
  },
  {
   "cell_type": "code",
   "execution_count": 57,
   "metadata": {},
   "outputs": [],
   "source": [
    "# Define the scenario for the baselines.\n",
    "# % improvement from Clear/Clear-VB0 (dual clear with a Venetian Blind at 0 degrees)\n",
    "baselineHourly = allHourlyData[allHourlyData[\"Scenario\"] == \"Clear/Clear-VB0\"]\n",
    "\n",
    "#baselineHourly"
   ]
  },
  {
   "cell_type": "code",
   "execution_count": 58,
   "metadata": {},
   "outputs": [],
   "source": [
    "# Rename columns to indicate baseline to prepare for merge\n",
    "\n",
    "allBaselineHourly = baselineHourly.rename(columns={\"Scenario\":\"B_Scenario\",\n",
    "                              \"Date_Time\":\"Date_Time\",\n",
    "                             \"Illuminance(lux)\":\"B_Illuminance(lux)\",\n",
    "                             \"FanEnergy(kBtu)\":\"B_FanEnergy(kBtu)\",\n",
    "                             \"HeatingEnergy(kBtu)\":\"B_HeatingEnergy(kBtu)\",\n",
    "                             \"CoolingEnergy(kBtu)\":\"B_CoolingEnergy(kBtu)\",\n",
    "                             \"HourlyEnergy(kBtu)\":\"B_HourlyEnergy(kBtu)\",\n",
    "                             \"FanCost($)\":\"B_FanEnergy($)\",\n",
    "                             \"HeatingCost($)\":\"B_HeatingCost($)\",\n",
    "                             \"CoolingCost($)\":\"B_CoolingCost($)\",\n",
    "                             \"HourlyCost($)\":\"B_HourlyCost($)\",\n",
    "                             })\n",
    "\n",
    "#allBaselineHourly"
   ]
  },
  {
   "cell_type": "code",
   "execution_count": 59,
   "metadata": {},
   "outputs": [],
   "source": [
    "# Merge the dataframes to include the baseline data.\n",
    "hourlyWithBaseline = pd.merge(allHourlyData, allBaselineHourly, on=\"Date_Time\", how=\"left\")\n",
    "\n",
    "#hourlyWithBaseline"
   ]
  },
  {
   "cell_type": "code",
   "execution_count": 60,
   "metadata": {},
   "outputs": [],
   "source": [
    "#list(hourlyWithBaseline.columns.values)"
   ]
  },
  {
   "cell_type": "code",
   "execution_count": 61,
   "metadata": {},
   "outputs": [],
   "source": [
    "# Add column for the difference from baseline columns (scenario - baseline)\n",
    "hourlyWithBaseline[\"deltaEnergy(kBtu)\"] = hourlyWithBaseline[\"HourlyEnergy(kBtu)\"] - hourlyWithBaseline[\"B_HourlyEnergy(kBtu)\"]\n",
    "hourlyWithBaseline[\"deltaCost($)\"] = hourlyWithBaseline[\"HourlyCost($)\"] - hourlyWithBaseline[\"B_HourlyCost($)\"]\n",
    "hourlyWithBaseline[\"%deltaEnergy(kBtu)\"] = (hourlyWithBaseline[\"HourlyEnergy(kBtu)\"] - hourlyWithBaseline[\"B_HourlyEnergy(kBtu)\"]) / hourlyWithBaseline[\"B_HourlyEnergy(kBtu)\"].replace({0:np.nan}) \n",
    "hourlyWithBaseline[\"%deltaCost($)\"] = (hourlyWithBaseline[\"HourlyCost($)\"] - hourlyWithBaseline[\"B_HourlyCost($)\"]) / hourlyWithBaseline[\"B_HourlyCost($)\"].replace({0:np.nan}) \n",
    "\n",
    "#hourlyWithBaseline"
   ]
  },
  {
   "cell_type": "code",
   "execution_count": 62,
   "metadata": {},
   "outputs": [],
   "source": [
    "# Convert NANs to 0\n",
    "hourlyWithBaseline =hourlyWithBaseline.fillna(0)\n",
    "\n",
    "#hourlyWithBaseline"
   ]
  },
  {
   "cell_type": "code",
   "execution_count": 63,
   "metadata": {},
   "outputs": [],
   "source": [
    "# Export hourly data with baseline difference file to csv\n",
    "hourlyWithBaseline.to_csv(\"../Scraper_Output/hou_hourly_data.csv\", header=True, index=True)"
   ]
  }
 ],
 "metadata": {
  "kernelspec": {
   "display_name": "Python 3",
   "language": "python",
   "name": "python3"
  },
  "language_info": {
   "codemirror_mode": {
    "name": "ipython",
    "version": 3
   },
   "file_extension": ".py",
   "mimetype": "text/x-python",
   "name": "python",
   "nbconvert_exporter": "python",
   "pygments_lexer": "ipython3",
   "version": "3.6.10"
  },
  "varInspector": {
   "cols": {
    "lenName": 16,
    "lenType": 16,
    "lenVar": 40
   },
   "kernels_config": {
    "python": {
     "delete_cmd_postfix": "",
     "delete_cmd_prefix": "del ",
     "library": "var_list.py",
     "varRefreshCmd": "print(var_dic_list())"
    },
    "r": {
     "delete_cmd_postfix": ") ",
     "delete_cmd_prefix": "rm(",
     "library": "var_list.r",
     "varRefreshCmd": "cat(var_dic_list()) "
    }
   },
   "types_to_exclude": [
    "module",
    "function",
    "builtin_function_or_method",
    "instance",
    "_Feature"
   ],
   "window_display": false
  }
 },
 "nbformat": 4,
 "nbformat_minor": 2
}
