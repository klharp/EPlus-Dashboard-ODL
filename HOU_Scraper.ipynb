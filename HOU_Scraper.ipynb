{
 "cells": [
  {
   "cell_type": "markdown",
   "metadata": {},
   "source": [
    "# Houston, TX Simulations\n",
    "8760 rows per simulation<br>\n",
    "50 files (removed cell-in-cell)"
   ]
  },
  {
   "cell_type": "code",
   "execution_count": 1,
   "metadata": {},
   "outputs": [],
   "source": [
    "# Dependencies\n",
    "import pandas as pd\n",
    "import os\n",
    "import numpy as np\n",
    "import pprint\n",
    "from pathlib import Path\n",
    "from datetime import datetime"
   ]
  },
  {
   "cell_type": "markdown",
   "metadata": {},
   "source": [
    "## Energy Conversions\n",
    "\n",
    "As per E* Documentation<br>\n",
    "\n",
    "Joules --> kBtu (multiply by .00000094781712)<br>\n",
    "Joules --> kWh (multiply by .000000277777778) or (divide by 3600000)<br>\n",
    "Joules --> therms (multiply by .0000000094781712<br>\n",
    "\n",
    "foot-candles --> Lux (multiply by 10.7642)"
   ]
  },
  {
   "cell_type": "markdown",
   "metadata": {},
   "source": [
    "<div>\n",
    "    <img src=\"static/images/elect_conv.png\" width=\"400\"/>\n",
    "     <img src=\"static/images/gas_conv.png\" width=\"400\"/>\n",
    "</div"
   ]
  },
  {
   "cell_type": "code",
   "execution_count": 2,
   "metadata": {},
   "outputs": [],
   "source": [
    "# 2018 Egrid Costs (elec $/kWh, gas $/therm), change values per city\n",
    "gas = 1.11\n",
    "elec = 0.112"
   ]
  },
  {
   "cell_type": "markdown",
   "metadata": {},
   "source": [
    "---\n",
    "\n",
    "## Combine CSV Files in Directory"
   ]
  },
  {
   "cell_type": "code",
   "execution_count": 3,
   "metadata": {},
   "outputs": [],
   "source": [
    "# Create variable for files in directory\n",
    "files = [f for f in os.listdir(\"data/hou/\") if f.endswith(\".csv\")]\n",
    "\n",
    "# files"
   ]
  },
  {
   "cell_type": "code",
   "execution_count": 4,
   "metadata": {},
   "outputs": [],
   "source": [
    "# https://stackoverflow.com/questions/63886787/how-to-create-a-dataframe-from-multiple-csv-files\n",
    "# Initialize and empty dataframe\n",
    "all_data = pd.DataFrame()\n",
    "\n",
    "# Iterate through files and contents, then concatenate the data into the dataframe\n",
    "for file in files:\n",
    "    df = pd.read_csv(\"data/hou/\" + file)\n",
    "    all_data = pd.concat([all_data, df])\n",
    "    \n",
    "#all_data\n",
    "\n",
    "# 438000  rows, 73 columns"
   ]
  },
  {
   "cell_type": "code",
   "execution_count": 5,
   "metadata": {},
   "outputs": [],
   "source": [
    "# all_data.dtypes"
   ]
  },
  {
   "cell_type": "code",
   "execution_count": 6,
   "metadata": {},
   "outputs": [],
   "source": [
    "# Get wanted columns\n",
    "all_data1 = all_data[[\"Scenario\",\n",
    "               \"Date/Time\",\n",
    "              \"LIVING_UNIT1 DAYLIGHTINGCONTROLS:Daylighting Reference Point 1 Illuminance [lux](Hourly)\",\n",
    "              \"SUPPLY FAN_UNIT1:Fan Electricity Energy [J](Hourly)\",\n",
    "              \"MAIN GAS HEATING COIL_UNIT1:Heating Coil NaturalGas Energy [J](Hourly)\",\n",
    "              \"DX COOLING COIL_UNIT1:Cooling Coil Electricity Energy [J](Hourly) \"]]\n",
    "\n",
    "#all_data1"
   ]
  },
  {
   "cell_type": "code",
   "execution_count": 7,
   "metadata": {},
   "outputs": [],
   "source": [
    "all_data1 = all_data1.dropna().reset_index(drop=True)\n",
    "\n",
    "#all_data1\n",
    "\n",
    "#438000  rows, 73 columns"
   ]
  },
  {
   "cell_type": "markdown",
   "metadata": {},
   "source": [
    "-----\n",
    "\n",
    "## Get the Wanted Data (columns)"
   ]
  },
  {
   "cell_type": "code",
   "execution_count": 8,
   "metadata": {
    "scrolled": true
   },
   "outputs": [],
   "source": [
    "# Rename Columns\n",
    "all_data2 = all_data1.rename(columns={\"Scenario\":\"Scenario\",\n",
    "                              \"Date/Time\":\"Date_Time\",\n",
    "                             \"LIVING_UNIT1 DAYLIGHTINGCONTROLS:Daylighting Reference Point 1 Illuminance [lux](Hourly)\":\"Illuminance(lux)\",\n",
    "                             \"SUPPLY FAN_UNIT1:Fan Electricity Energy [J](Hourly)\":\"FanEnergy[J](Hourly)\",\n",
    "                             \"MAIN GAS HEATING COIL_UNIT1:Heating Coil NaturalGas Energy [J](Hourly)\":\"HeatingEnergy[J](Hourly)\",\n",
    "                             \"DX COOLING COIL_UNIT1:Cooling Coil Electricity Energy [J](Hourly) \":\"CoolingEnergy[J](Hourly) \"\n",
    "                             })\n",
    "\n",
    "#all_data2\n",
    "\n",
    "#438000  rows, 6 columns"
   ]
  },
  {
   "cell_type": "markdown",
   "metadata": {},
   "source": [
    "-----\n",
    "\n",
    "## Get Annual Energy Data\n",
    "Convert units from Joules to kBtu<br>\n",
    "Drop Illuminance column<br>\n"
   ]
  },
  {
   "cell_type": "code",
   "execution_count": 9,
   "metadata": {},
   "outputs": [],
   "source": [
    "# Copy dataframe to modify and leave original df intact\n",
    "get_annual = all_data2.copy(deep=True)\n",
    "\n",
    "#get_annual"
   ]
  },
  {
   "cell_type": "code",
   "execution_count": 10,
   "metadata": {},
   "outputs": [],
   "source": [
    "# Convert Joules to KBtu in dataframe\n",
    "get_annual[\"FanEnergy(kBtu)\"] = get_annual[\"FanEnergy[J](Hourly)\"] * .00000094781712\n",
    "get_annual[\"HeatingEnergy(kBtu)\"] = get_annual[\"HeatingEnergy[J](Hourly)\"] * .00000094781712\n",
    "get_annual[\"CoolingEnergy(kBtu)\"] = get_annual[\"CoolingEnergy[J](Hourly) \"] * .00000094781712\n",
    "\n",
    "#get_annual"
   ]
  },
  {
   "cell_type": "code",
   "execution_count": 11,
   "metadata": {},
   "outputs": [],
   "source": [
    "#list(get_annual.columns.values)"
   ]
  },
  {
   "cell_type": "code",
   "execution_count": 12,
   "metadata": {},
   "outputs": [],
   "source": [
    "# Drop columns\n",
    "get_annual.drop(columns = [\"FanEnergy[J](Hourly)\", \"HeatingEnergy[J](Hourly)\", \"CoolingEnergy[J](Hourly) \"], axis=1, inplace=True)\n",
    "\n",
    "#get_annual"
   ]
  },
  {
   "cell_type": "markdown",
   "metadata": {},
   "source": [
    "---\n",
    "\n",
    "## Get Annual Cost Data\n",
    "Convert units from Joules to kWh and therms to use cost multiplier<br>\n",
    "Drop Illuminance column<br>\n",
    "Add cost multiplier, variables defined above"
   ]
  },
  {
   "cell_type": "code",
   "execution_count": 13,
   "metadata": {},
   "outputs": [],
   "source": [
    "# Get annual costs\n",
    "get_annual_costs = all_data2.copy(deep=True)"
   ]
  },
  {
   "cell_type": "code",
   "execution_count": 14,
   "metadata": {},
   "outputs": [],
   "source": [
    "# Convert Joules to KBtu in dataframe and add cost multiplier\n",
    "# Gas kbtu => Mbtu => therms: (kbtu/1000) * 10\n",
    "# Elec kbtu => Kwh (kbtu * .000000277777778)\n",
    "get_annual_costs[\"FanCost($)\"] = (get_annual_costs[\"FanEnergy[J](Hourly)\"] * .000000277777778) * elec\n",
    "get_annual_costs[\"HeatingCost($)\"] = ((get_annual_costs[\"HeatingEnergy[J](Hourly)\"] * .00000094781712)/1000) * 10  * gas\n",
    "get_annual_costs[\"CoolingCost($)\"] = (get_annual_costs[\"CoolingEnergy[J](Hourly) \"] * .000000277777778) * elec\n",
    "\n",
    "#get_annual_costs"
   ]
  },
  {
   "cell_type": "code",
   "execution_count": 15,
   "metadata": {},
   "outputs": [],
   "source": [
    "# Drop columns\n",
    "get_annual_costs.drop(columns = [\"Illuminance(lux)\",\"FanEnergy[J](Hourly)\", \"HeatingEnergy[J](Hourly)\", \"CoolingEnergy[J](Hourly) \"], axis=1, inplace=True)\n",
    "\n",
    "#get_annual_costs"
   ]
  },
  {
   "cell_type": "markdown",
   "metadata": {},
   "source": [
    "---\n",
    "\n",
    "## Combine Annual Energy and Cost Data\n",
    "Combine two dfs<br>\n",
    "Export combine file"
   ]
  },
  {
   "cell_type": "code",
   "execution_count": 16,
   "metadata": {},
   "outputs": [],
   "source": [
    "# Combine data for energy and cost\n",
    "allAnnualData = pd.merge(get_annual, get_annual_costs)\n",
    "\n",
    "#allAnnualData"
   ]
  },
  {
   "cell_type": "code",
   "execution_count": 17,
   "metadata": {},
   "outputs": [],
   "source": [
    "# Add energy and cost totals\n",
    "totalEnergy = allAnnualData[\"FanEnergy(kBtu)\"] + allAnnualData[\"HeatingEnergy(kBtu)\"] + allAnnualData[\"CoolingEnergy(kBtu)\"]\n",
    "allAnnualData[\"AnnualEnergy(kBtu)\"] = totalEnergy\n",
    "\n",
    "totalCost = allAnnualData[\"FanCost($)\"] + allAnnualData[\"HeatingCost($)\"] + allAnnualData[\"CoolingCost($)\"]\n",
    "allAnnualData[\"AnnualCost($)\"] = totalCost\n",
    "\n",
    "#allAnnualData"
   ]
  },
  {
   "cell_type": "code",
   "execution_count": 18,
   "metadata": {},
   "outputs": [],
   "source": [
    "#list(allAnnualData.columns.values)"
   ]
  },
  {
   "cell_type": "markdown",
   "metadata": {},
   "source": [
    "---\n",
    "\n",
    "## Establish Annual Baseline at Clear/Clear-VB0\n",
    "\n",
    "Create dataset with just baselines.<br> \n",
    "Keep the units in kBtus to be able to eventually combine heating and cooling <br>\n",
    "Merge the baseline dataset with the full dataset.<br>\n",
    "Determine the delta between scenario and base."
   ]
  },
  {
   "cell_type": "code",
   "execution_count": 19,
   "metadata": {},
   "outputs": [],
   "source": [
    "# Define the scenario for the baselines.\n",
    "# % improvement from Clear/Clear-VB0 (dual clear with a Venetian Blind at 0 degrees)\n",
    "baselineAnnual = allAnnualData[allAnnualData[\"Scenario\"] == \"Clear/Clear-VB0\"]\n",
    "\n",
    "#baselineAnnual"
   ]
  },
  {
   "cell_type": "code",
   "execution_count": 20,
   "metadata": {},
   "outputs": [],
   "source": [
    "# Rename columns to indicate baseline to prepare for merge\n",
    "\n",
    "allBaselineAnnual = baselineAnnual.rename(columns={\"Scenario\":\"B_Scenario\",\n",
    "                              \"Date_Time\":\"Date_Time\",\n",
    "                             \"Illuminance(lux)\":\"B_Illuminance(lux)\",\n",
    "                             \"FanEnergy(kBtu)\":\"B_FanEnergy(kBtu)\",\n",
    "                             \"HeatingEnergy(kBtu)\":\"B_HeatingEnergy(kBtu)\",\n",
    "                             \"CoolingEnergy(kBtu)\":\"B_CoolingEnergy(kBtu)\",\n",
    "                             \"AnnualEnergy(kBtu)\":\"B_AnnualEnergy(kBtu)\",\n",
    "                             \"FanCost($)\":\"B_FanEnergy($)\",\n",
    "                             \"HeatingCost($)\":\"B_HeatingCost($)\",\n",
    "                             \"CoolingCost($)\":\"B_CoolingCost($)\",\n",
    "                             \"AnnualCost($)\":\"B_AnnualCost($)\",\n",
    "                             })\n",
    "\n",
    "#allBaselineHourly"
   ]
  },
  {
   "cell_type": "code",
   "execution_count": 21,
   "metadata": {},
   "outputs": [],
   "source": [
    "# Merge the dataframes to include the baseline data.\n",
    "AnnualWithBaseline = pd.merge(allAnnualData, allBaselineAnnual, on=\"Date_Time\", how=\"left\")\n",
    "\n",
    "#hourlyWithBaseline"
   ]
  },
  {
   "cell_type": "code",
   "execution_count": 22,
   "metadata": {},
   "outputs": [],
   "source": [
    "#list(AnnualWithBaseline.columns.values)"
   ]
  },
  {
   "cell_type": "code",
   "execution_count": 23,
   "metadata": {},
   "outputs": [],
   "source": [
    "# Add column for the difference from baseline columns (scenario - baseline)\n",
    "AnnualWithBaseline[\"deltaEnergy(kBtu)\"] = AnnualWithBaseline[\"AnnualEnergy(kBtu)\"] - AnnualWithBaseline[\"B_AnnualEnergy(kBtu)\"]\n",
    "AnnualWithBaseline[\"deltaCost($)\"] = AnnualWithBaseline[\"AnnualCost($)\"] - AnnualWithBaseline[\"B_AnnualCost($)\"]\n",
    "\n",
    "# AnnualWithBaseline"
   ]
  },
  {
   "cell_type": "code",
   "execution_count": 24,
   "metadata": {},
   "outputs": [],
   "source": [
    "# Convert NANs to 0\n",
    "AnnualWithBaseline =AnnualWithBaseline.fillna(0)\n",
    "\n",
    "#AnnualWithBaseline"
   ]
  },
  {
   "cell_type": "markdown",
   "metadata": {},
   "source": [
    "---\n",
    "## Group and Export Annual Data\n",
    "Group dataframe by scenario<br>\n",
    "Export to file"
   ]
  },
  {
   "cell_type": "code",
   "execution_count": 25,
   "metadata": {},
   "outputs": [],
   "source": [
    "# Group by scenario\n",
    "annualData = AnnualWithBaseline.groupby([\"Scenario\"], as_index=True)\n",
    "\n",
    "#annualData.sum().round(2)"
   ]
  },
  {
   "cell_type": "code",
   "execution_count": 26,
   "metadata": {},
   "outputs": [],
   "source": [
    "annualDataFinal = annualData.sum().round(2)\n",
    "\n",
    "#annualDataFinal"
   ]
  },
  {
   "cell_type": "code",
   "execution_count": 27,
   "metadata": {},
   "outputs": [],
   "source": [
    "# Export grouped file to csv\n",
    "annualDataFinal.to_csv(\"../Scraper_Output/hou_annual_data.csv\", header=True, index=True)"
   ]
  },
  {
   "cell_type": "markdown",
   "metadata": {},
   "source": [
    "-----\n",
    "\n",
    "## Get Monthly Energy Data\n",
    "Change units from Joules to therms and kWh<br>\n",
    "No baseline data used in monthly export due to differing units of energy, refer to annual and hourly.<br>\n",
    "Drop unwanted columns"
   ]
  },
  {
   "cell_type": "code",
   "execution_count": 28,
   "metadata": {},
   "outputs": [],
   "source": [
    "# Copy dataframe to modify and leave original df intact\n",
    "get_monthly = all_data2.copy(deep=True)\n",
    "\n",
    "#get_monthly"
   ]
  },
  {
   "cell_type": "code",
   "execution_count": 29,
   "metadata": {},
   "outputs": [],
   "source": [
    "# Convert Joules to kWh and therms in new dataframe\n",
    "get_monthly[\"FanEnergy(kWh)\"] = get_monthly[\"FanEnergy[J](Hourly)\"] * .000000277777778\n",
    "get_monthly[\"HeatingEnergy(therms)\"] = get_monthly[\"HeatingEnergy[J](Hourly)\"] * .0000000094781712\n",
    "get_monthly[\"CoolingEnergy(kWh)\"] = get_monthly[\"CoolingEnergy[J](Hourly) \"] * .000000277777778\n",
    "\n",
    "#get_monthly"
   ]
  },
  {
   "cell_type": "code",
   "execution_count": 30,
   "metadata": {},
   "outputs": [],
   "source": [
    "# Drop columns\n",
    "get_monthly.drop(columns = [\"FanEnergy[J](Hourly)\", \"HeatingEnergy[J](Hourly)\", \"CoolingEnergy[J](Hourly) \"], axis=1, inplace=True)\n",
    "\n",
    "#get_monthly"
   ]
  },
  {
   "cell_type": "markdown",
   "metadata": {},
   "source": [
    "## Get Monthly Cost Data\n",
    "\n",
    "Change units from Joules to therms and kWh<br>\n",
    "Add cost multiplier, variable needs to be defined above"
   ]
  },
  {
   "cell_type": "code",
   "execution_count": 31,
   "metadata": {},
   "outputs": [],
   "source": [
    "# Copy dataframe to modify and leave original df intact\n",
    "get_monthly_costs = all_data2.copy(deep=True)\n",
    "\n",
    "#get_monthly"
   ]
  },
  {
   "cell_type": "code",
   "execution_count": 32,
   "metadata": {},
   "outputs": [],
   "source": [
    "# Convert Joules to KBtu in dataframe and add cost multiplier\n",
    "# Gas kbtu => Mbtu => therms: (kbtu/1000) * 10\n",
    "# Elec kbtu => Kwh (kbtu * .000000277777778)\n",
    "get_monthly_costs[\"FanCost($)\"] = (get_monthly_costs[\"FanEnergy[J](Hourly)\"] * .000000277777778) * elec\n",
    "get_monthly_costs[\"HeatingCost($)\"] = ((get_monthly_costs[\"HeatingEnergy[J](Hourly)\"] * .00000094781712)/1000) * 10  * gas\n",
    "get_monthly_costs[\"CoolingCost($)\"] = (get_monthly_costs[\"CoolingEnergy[J](Hourly) \"] * .000000277777778) * elec\n",
    "\n",
    "#get_monthly_costs"
   ]
  },
  {
   "cell_type": "code",
   "execution_count": 33,
   "metadata": {},
   "outputs": [],
   "source": [
    "# Drop columns\n",
    "get_monthly_costs.drop(columns = [\"FanEnergy[J](Hourly)\", \"HeatingEnergy[J](Hourly)\", \"CoolingEnergy[J](Hourly) \"], axis=1, inplace=True)\n",
    "\n",
    "#get_monthly_costs"
   ]
  },
  {
   "cell_type": "markdown",
   "metadata": {},
   "source": [
    "---\n",
    "\n",
    "## Combine Monthly Energy and Cost Data\n",
    "Combine two dfs<br>\n",
    "Create Month Column<br>\n",
    "Export combine file"
   ]
  },
  {
   "cell_type": "code",
   "execution_count": 34,
   "metadata": {},
   "outputs": [],
   "source": [
    "# Combine data for energy and cost\n",
    "allMonthlyData = pd.merge(get_monthly, get_monthly_costs, how=\"inner\")\n",
    "\n",
    "#allMonthlyData"
   ]
  },
  {
   "cell_type": "code",
   "execution_count": 35,
   "metadata": {},
   "outputs": [],
   "source": [
    "# Add cost totals, don't total energy...in different units\n",
    "totalCostMonthly = allMonthlyData[\"FanCost($)\"] + allMonthlyData[\"HeatingCost($)\"] + allMonthlyData[\"CoolingCost($)\"]\n",
    "allMonthlyData[\"MonthlyCost($)\"] = totalCostMonthly\n",
    "\n",
    "#allMonthlyData"
   ]
  },
  {
   "cell_type": "code",
   "execution_count": 36,
   "metadata": {
    "scrolled": true
   },
   "outputs": [],
   "source": [
    "allMonthlyData[\"Month\"] = allMonthlyData.Date_Time.str.slice(0,3)\n",
    "\n",
    "#allMonthlyData"
   ]
  },
  {
   "cell_type": "markdown",
   "metadata": {},
   "source": [
    "## Group and Export Monthly Data\n",
    "Group dataframe by scenario and month<br>\n",
    "Export to file"
   ]
  },
  {
   "cell_type": "code",
   "execution_count": 37,
   "metadata": {
    "scrolled": true
   },
   "outputs": [],
   "source": [
    "# Group by scenario and date/time for export to graphing\n",
    "MonthlyData2 = allMonthlyData.groupby([\"Scenario\", \"Month\"], as_index=True)\n",
    "\n",
    "#MonthlyData2.sum()"
   ]
  },
  {
   "cell_type": "code",
   "execution_count": 38,
   "metadata": {},
   "outputs": [],
   "source": [
    "MonthlyDataFinal = MonthlyData2.sum()\n",
    "\n",
    "#MonthlyDataFinal"
   ]
  },
  {
   "cell_type": "code",
   "execution_count": 39,
   "metadata": {},
   "outputs": [],
   "source": [
    "# Drop Illuminance column...don't need the totals\n",
    "MonthlyDataFinal.drop(columns = [\"Illuminance(lux)\"], axis=1, inplace=True)"
   ]
  },
  {
   "cell_type": "code",
   "execution_count": 40,
   "metadata": {},
   "outputs": [],
   "source": [
    "# Export grouped file to csv (used before grouped by month)\n",
    "MonthlyDataFinal.round(2).to_csv(\"../Scraper_Output/hou_monthly_data.csv\", header=True, index=True)"
   ]
  },
  {
   "cell_type": "markdown",
   "metadata": {},
   "source": [
    "## Get Monthly Average Illuminance\n",
    "Get just the illuminance column<br>\n",
    "Group by scenario <br>\n",
    "Groups by month <br>"
   ]
  },
  {
   "cell_type": "code",
   "execution_count": 41,
   "metadata": {},
   "outputs": [],
   "source": [
    "Illuminance = allMonthlyData[[\"Scenario\", \"Date_Time\", \"Illuminance(lux)\", \"Month\"]]\n",
    "\n",
    "#Illuminance"
   ]
  },
  {
   "cell_type": "code",
   "execution_count": 42,
   "metadata": {},
   "outputs": [],
   "source": [
    "# Group by scenario\n",
    "MonthlyIlluminance = Illuminance.groupby([\"Scenario\", \"Month\"])\n",
    "\n",
    "#MonthlyIlluminance.mean()"
   ]
  },
  {
   "cell_type": "code",
   "execution_count": 43,
   "metadata": {},
   "outputs": [],
   "source": [
    "# Export grouped file to csv\n",
    "MonthlyIlluminance.mean().round(2).to_csv(\"../Scraper_Output/hou_monthly_illuminance.csv\", header=True, index=True)"
   ]
  },
  {
   "cell_type": "markdown",
   "metadata": {},
   "source": [
    "------\n",
    "\n",
    "## Get Hourly Energy Data\n",
    "Change units from Joules to kBtu to be able to combine heat, cool and fan<br>\n",
    "Drop unwanted columns"
   ]
  },
  {
   "cell_type": "code",
   "execution_count": 44,
   "metadata": {},
   "outputs": [],
   "source": [
    "# Copy dataframe to modify and leave original df intact\n",
    "all_data3 = all_data1.copy(deep=True)\n",
    "\n",
    "#all_data3"
   ]
  },
  {
   "cell_type": "code",
   "execution_count": 45,
   "metadata": {},
   "outputs": [],
   "source": [
    "# Get wanted columns\n",
    "# Include hourly illumance\n",
    "all_data3 = all_data3[[\"Scenario\",\n",
    "               \"Date/Time\",\n",
    "                             \"LIVING_UNIT1 DAYLIGHTINGCONTROLS:Daylighting Reference Point 1 Illuminance [lux](Hourly)\",\n",
    "                             \"SUPPLY FAN_UNIT1:Fan Electricity Energy [J](Hourly)\",\n",
    "                             \"MAIN GAS HEATING COIL_UNIT1:Heating Coil NaturalGas Energy [J](Hourly)\",\n",
    "                             \"DX COOLING COIL_UNIT1:Cooling Coil Electricity Energy [J](Hourly) \"\n",
    "                      ]]\n",
    "\n",
    "#all_data3"
   ]
  },
  {
   "cell_type": "code",
   "execution_count": 46,
   "metadata": {},
   "outputs": [],
   "source": [
    "# Rename Columns\n",
    "get_hourly = all_data3.rename(columns={\"Scenario\":\"Scenario\",\n",
    "                              \"Date/Time\":\"Date_Time\",\n",
    "                             \"LIVING_UNIT1 DAYLIGHTINGCONTROLS:Daylighting Reference Point 1 Illuminance [lux](Hourly)\":\"Illuminance(lux)\",\n",
    "                             \"SUPPLY FAN_UNIT1:Fan Electricity Energy [J](Hourly)\":\"FanEnergy[J](Hourly)\",\n",
    "                             \"MAIN GAS HEATING COIL_UNIT1:Heating Coil NaturalGas Energy [J](Hourly)\":\"HeatingEnergy[J](Hourly)\",\n",
    "                             \"DX COOLING COIL_UNIT1:Cooling Coil Electricity Energy [J](Hourly) \":\"CoolingEnergy[J](Hourly) \"\n",
    "                             })\n",
    "\n",
    "#get_hourly"
   ]
  },
  {
   "cell_type": "code",
   "execution_count": 47,
   "metadata": {},
   "outputs": [],
   "source": [
    "# Convert Joules to kBtus in new dataframe\n",
    "get_hourly[\"FanEnergy(kBtu)\"] = get_hourly[\"FanEnergy[J](Hourly)\"] * .00000094781712\n",
    "get_hourly[\"HeatingEnergy(kBtu)\"] = get_hourly[\"HeatingEnergy[J](Hourly)\"] * .00000094781712\n",
    "get_hourly[\"CoolingEnergy(kBtu)\"] = get_hourly[\"CoolingEnergy[J](Hourly) \"] * .00000094781712\n",
    "\n",
    "#get_hourly"
   ]
  },
  {
   "cell_type": "code",
   "execution_count": 48,
   "metadata": {},
   "outputs": [],
   "source": [
    "# Drop columns\n",
    "get_hourly.drop(columns = [\"FanEnergy[J](Hourly)\", \"HeatingEnergy[J](Hourly)\", \"CoolingEnergy[J](Hourly) \"], axis=1, inplace=True)\n",
    "\n",
    "#get_hourly"
   ]
  },
  {
   "cell_type": "code",
   "execution_count": 49,
   "metadata": {},
   "outputs": [],
   "source": [
    "#list(get_hourly.columns.values)"
   ]
  },
  {
   "cell_type": "markdown",
   "metadata": {},
   "source": [
    "------\n",
    "\n",
    "## Get Hourly Cost Data\n",
    "Add cost multiplier, variable needs to be defined above"
   ]
  },
  {
   "cell_type": "code",
   "execution_count": 50,
   "metadata": {},
   "outputs": [],
   "source": [
    "# Copy dataframe to modify and leave original df intact\n",
    "get_hourly_costs = all_data3.copy(deep=True)\n",
    "\n",
    "#get_hourly_costs"
   ]
  },
  {
   "cell_type": "code",
   "execution_count": 51,
   "metadata": {},
   "outputs": [],
   "source": [
    "# Rename Columns\n",
    "get_hourly_costs = get_hourly_costs.rename(columns={\"Scenario\":\"Scenario\",\n",
    "                              \"Date/Time\":\"Date_Time\",\n",
    "                             \"LIVING_UNIT1 DAYLIGHTINGCONTROLS:Daylighting Reference Point 1 Illuminance [lux](Hourly)\":\"Illuminance(lux)\",\n",
    "                             \"SUPPLY FAN_UNIT1:Fan Electricity Energy [J](Hourly)\":\"FanEnergy[J](Hourly)\",\n",
    "                             \"MAIN GAS HEATING COIL_UNIT1:Heating Coil NaturalGas Energy [J](Hourly)\":\"HeatingEnergy[J](Hourly)\",\n",
    "                             \"DX COOLING COIL_UNIT1:Cooling Coil Electricity Energy [J](Hourly) \":\"CoolingEnergy[J](Hourly) \"\n",
    "                             })\n",
    "\n",
    "# get_hourly_costs"
   ]
  },
  {
   "cell_type": "code",
   "execution_count": 52,
   "metadata": {},
   "outputs": [],
   "source": [
    "# Convert Joules to KBtu in dataframe and add cost multiplier\n",
    "# Gas kbtu => Mbtu => therms: (kbtu/1000) * 10\n",
    "# Elec kbtu => Kwh (kbtu * .000000277777778)\n",
    "get_hourly_costs[\"FanCost($)\"] = (get_hourly_costs[\"FanEnergy[J](Hourly)\"] * .000000277777778) * elec\n",
    "get_hourly_costs[\"HeatingCost($)\"] = ((get_hourly_costs[\"HeatingEnergy[J](Hourly)\"] * .00000094781712)/1000) * 10  * gas\n",
    "get_hourly_costs[\"CoolingCost($)\"] = (get_hourly_costs[\"CoolingEnergy[J](Hourly) \"] * .000000277777778) * elec\n",
    "\n",
    "#get_annual_costs"
   ]
  },
  {
   "cell_type": "code",
   "execution_count": 53,
   "metadata": {},
   "outputs": [],
   "source": [
    "# Drop columns\n",
    "get_hourly_costs.drop(columns = [\"FanEnergy[J](Hourly)\", \"HeatingEnergy[J](Hourly)\", \"CoolingEnergy[J](Hourly) \"], axis=1, inplace=True)\n",
    "\n",
    "#get_hourly_costs"
   ]
  },
  {
   "cell_type": "markdown",
   "metadata": {},
   "source": [
    "## Combine Hourly Energy and Cost Data\n",
    "Combine two dfs<br>\n",
    "Export combine file"
   ]
  },
  {
   "cell_type": "code",
   "execution_count": 54,
   "metadata": {},
   "outputs": [],
   "source": [
    "# Combine data for energy and cost\n",
    "allHourlyData = pd.merge(get_hourly, get_hourly_costs, how=\"inner\")\n",
    "\n",
    "#allHourlyData"
   ]
  },
  {
   "cell_type": "code",
   "execution_count": 55,
   "metadata": {},
   "outputs": [],
   "source": [
    "# Add energy and cost totals\n",
    "\n",
    "totalEnergyhourly = allHourlyData[\"FanEnergy(kBtu)\"] + allHourlyData[\"HeatingEnergy(kBtu)\"] + allHourlyData[\"CoolingEnergy(kBtu)\"]\n",
    "totalCosthourly = allHourlyData[\"FanCost($)\"] + allHourlyData[\"HeatingCost($)\"] + allHourlyData[\"CoolingCost($)\"]\n",
    "allHourlyData[\"HourlyEnergy(kBtu)\"] = totalEnergyhourly\n",
    "allHourlyData[\"HourlyCost($)\"] = totalCosthourly\n",
    "\n",
    "#allHourlyData"
   ]
  },
  {
   "cell_type": "code",
   "execution_count": 56,
   "metadata": {},
   "outputs": [],
   "source": [
    "#list(allHourlyData.columns.values)"
   ]
  },
  {
   "cell_type": "markdown",
   "metadata": {},
   "source": [
    "---\n",
    "\n",
    "## Establish Hourly Baseline at Clear/Clear-VB0\n",
    "\n",
    "Create dataset with just baselines.<br> \n",
    "Keep the units in kBtus to be able to eventually combine heating and cooling <br>\n",
    "Merge the baseline dataset with the full dataset.<br>\n",
    "Filter the data on the conditionals of illuminance and energy performance."
   ]
  },
  {
   "cell_type": "code",
   "execution_count": 57,
   "metadata": {},
   "outputs": [],
   "source": [
    "# Define the scenario for the baselines.\n",
    "# % improvement from Clear/Clear-VB0 (dual clear with a Venetian Blind at 0 degrees)\n",
    "baselineHourly = allHourlyData[allHourlyData[\"Scenario\"] == \"Clear/Clear-VB0\"]\n",
    "\n",
    "#baselineHourly"
   ]
  },
  {
   "cell_type": "code",
   "execution_count": 58,
   "metadata": {},
   "outputs": [],
   "source": [
    "# Rename columns to indicate baseline to prepare for merge\n",
    "\n",
    "allBaselineHourly = baselineHourly.rename(columns={\"Scenario\":\"B_Scenario\",\n",
    "                              \"Date_Time\":\"Date_Time\",\n",
    "                             \"Illuminance(lux)\":\"B_Illuminance(lux)\",\n",
    "                             \"FanEnergy(kBtu)\":\"B_FanEnergy(kBtu)\",\n",
    "                             \"HeatingEnergy(kBtu)\":\"B_HeatingEnergy(kBtu)\",\n",
    "                             \"CoolingEnergy(kBtu)\":\"B_CoolingEnergy(kBtu)\",\n",
    "                             \"HourlyEnergy(kBtu)\":\"B_HourlyEnergy(kBtu)\",\n",
    "                             \"FanCost($)\":\"B_FanEnergy($)\",\n",
    "                             \"HeatingCost($)\":\"B_HeatingCost($)\",\n",
    "                             \"CoolingCost($)\":\"B_CoolingCost($)\",\n",
    "                             \"HourlyCost($)\":\"B_HourlyCost($)\",\n",
    "                             })\n",
    "\n",
    "#allBaselineHourly"
   ]
  },
  {
   "cell_type": "code",
   "execution_count": 59,
   "metadata": {},
   "outputs": [],
   "source": [
    "# Merge the dataframes to include the baseline data.\n",
    "hourlyWithBaseline = pd.merge(allHourlyData, allBaselineHourly, on=\"Date_Time\", how=\"left\")\n",
    "\n",
    "#hourlyWithBaseline"
   ]
  },
  {
   "cell_type": "code",
   "execution_count": 60,
   "metadata": {},
   "outputs": [],
   "source": [
    "#list(hourlyWithBaseline.columns.values)"
   ]
  },
  {
   "cell_type": "code",
   "execution_count": 61,
   "metadata": {},
   "outputs": [],
   "source": [
    "# Add column for the difference from baseline columns (scenario - baseline)\n",
    "hourlyWithBaseline[\"deltaEnergy(kBtu)\"] = hourlyWithBaseline[\"HourlyEnergy(kBtu)\"] - hourlyWithBaseline[\"B_HourlyEnergy(kBtu)\"]\n",
    "hourlyWithBaseline[\"deltaCost($)\"] = hourlyWithBaseline[\"HourlyCost($)\"] - hourlyWithBaseline[\"B_HourlyCost($)\"]\n",
    "hourlyWithBaseline[\"%deltaEnergy(kBtu)\"] = (hourlyWithBaseline[\"HourlyEnergy(kBtu)\"] - hourlyWithBaseline[\"B_HourlyEnergy(kBtu)\"]) / hourlyWithBaseline[\"B_HourlyEnergy(kBtu)\"].replace({0:np.nan}) \n",
    "hourlyWithBaseline[\"%deltaCost($)\"] = (hourlyWithBaseline[\"HourlyCost($)\"] - hourlyWithBaseline[\"B_HourlyCost($)\"]) / hourlyWithBaseline[\"B_HourlyCost($)\"].replace({0:np.nan}) \n",
    "\n",
    "#hourlyWithBaseline"
   ]
  },
  {
   "cell_type": "code",
   "execution_count": 64,
   "metadata": {},
   "outputs": [
    {
     "data": {
      "text/html": [
       "<div>\n",
       "<style scoped>\n",
       "    .dataframe tbody tr th:only-of-type {\n",
       "        vertical-align: middle;\n",
       "    }\n",
       "\n",
       "    .dataframe tbody tr th {\n",
       "        vertical-align: top;\n",
       "    }\n",
       "\n",
       "    .dataframe thead th {\n",
       "        text-align: right;\n",
       "    }\n",
       "</style>\n",
       "<table border=\"1\" class=\"dataframe\">\n",
       "  <thead>\n",
       "    <tr style=\"text-align: right;\">\n",
       "      <th></th>\n",
       "      <th>Scenario</th>\n",
       "      <th>Date_Time</th>\n",
       "      <th>Illuminance(lux)</th>\n",
       "      <th>FanEnergy(kBtu)</th>\n",
       "      <th>HeatingEnergy(kBtu)</th>\n",
       "      <th>CoolingEnergy(kBtu)</th>\n",
       "      <th>FanCost($)</th>\n",
       "      <th>HeatingCost($)</th>\n",
       "      <th>CoolingCost($)</th>\n",
       "      <th>HourlyEnergy(kBtu)</th>\n",
       "      <th>...</th>\n",
       "      <th>B_CoolingEnergy(kBtu)</th>\n",
       "      <th>B_FanEnergy($)</th>\n",
       "      <th>B_HeatingCost($)</th>\n",
       "      <th>B_CoolingCost($)</th>\n",
       "      <th>B_HourlyEnergy(kBtu)</th>\n",
       "      <th>B_HourlyCost($)</th>\n",
       "      <th>deltaEnergy(kBtu)</th>\n",
       "      <th>deltaCost($)</th>\n",
       "      <th>%deltaEnergy(kBtu)</th>\n",
       "      <th>%deltaCost($)</th>\n",
       "    </tr>\n",
       "  </thead>\n",
       "  <tbody>\n",
       "    <tr>\n",
       "      <th>0</th>\n",
       "      <td>Clear/Clear</td>\n",
       "      <td>01/01  01:00:00</td>\n",
       "      <td>0.0</td>\n",
       "      <td>0.580415</td>\n",
       "      <td>17.656572</td>\n",
       "      <td>0.0</td>\n",
       "      <td>0.019052</td>\n",
       "      <td>0.195988</td>\n",
       "      <td>0.0</td>\n",
       "      <td>18.236986</td>\n",
       "      <td>...</td>\n",
       "      <td>0.0</td>\n",
       "      <td>0.018179</td>\n",
       "      <td>0.187007</td>\n",
       "      <td>0.0</td>\n",
       "      <td>17.401338</td>\n",
       "      <td>0.205186</td>\n",
       "      <td>0.835648</td>\n",
       "      <td>0.009853</td>\n",
       "      <td>0.048022</td>\n",
       "      <td>0.048022</td>\n",
       "    </tr>\n",
       "    <tr>\n",
       "      <th>1</th>\n",
       "      <td>Clear/Clear</td>\n",
       "      <td>01/01  02:00:00</td>\n",
       "      <td>0.0</td>\n",
       "      <td>0.634104</td>\n",
       "      <td>19.289833</td>\n",
       "      <td>0.0</td>\n",
       "      <td>0.020814</td>\n",
       "      <td>0.214117</td>\n",
       "      <td>0.0</td>\n",
       "      <td>19.923937</td>\n",
       "      <td>...</td>\n",
       "      <td>0.0</td>\n",
       "      <td>0.019914</td>\n",
       "      <td>0.204863</td>\n",
       "      <td>0.0</td>\n",
       "      <td>19.062853</td>\n",
       "      <td>0.224778</td>\n",
       "      <td>0.861084</td>\n",
       "      <td>0.010153</td>\n",
       "      <td>0.045171</td>\n",
       "      <td>0.045171</td>\n",
       "    </tr>\n",
       "    <tr>\n",
       "      <th>2</th>\n",
       "      <td>Clear/Clear</td>\n",
       "      <td>01/01  03:00:00</td>\n",
       "      <td>0.0</td>\n",
       "      <td>0.678973</td>\n",
       "      <td>20.654778</td>\n",
       "      <td>0.0</td>\n",
       "      <td>0.022287</td>\n",
       "      <td>0.229268</td>\n",
       "      <td>0.0</td>\n",
       "      <td>21.333751</td>\n",
       "      <td>...</td>\n",
       "      <td>0.0</td>\n",
       "      <td>0.021367</td>\n",
       "      <td>0.219812</td>\n",
       "      <td>0.0</td>\n",
       "      <td>20.453849</td>\n",
       "      <td>0.241179</td>\n",
       "      <td>0.879902</td>\n",
       "      <td>0.010375</td>\n",
       "      <td>0.043019</td>\n",
       "      <td>0.043019</td>\n",
       "    </tr>\n",
       "    <tr>\n",
       "      <th>3</th>\n",
       "      <td>Clear/Clear</td>\n",
       "      <td>01/01  04:00:00</td>\n",
       "      <td>0.0</td>\n",
       "      <td>0.722009</td>\n",
       "      <td>21.963976</td>\n",
       "      <td>0.0</td>\n",
       "      <td>0.023699</td>\n",
       "      <td>0.243800</td>\n",
       "      <td>0.0</td>\n",
       "      <td>22.685985</td>\n",
       "      <td>...</td>\n",
       "      <td>0.0</td>\n",
       "      <td>0.022757</td>\n",
       "      <td>0.234111</td>\n",
       "      <td>0.0</td>\n",
       "      <td>21.784375</td>\n",
       "      <td>0.256868</td>\n",
       "      <td>0.901610</td>\n",
       "      <td>0.010631</td>\n",
       "      <td>0.041388</td>\n",
       "      <td>0.041388</td>\n",
       "    </tr>\n",
       "    <tr>\n",
       "      <th>4</th>\n",
       "      <td>Clear/Clear</td>\n",
       "      <td>01/01  05:00:00</td>\n",
       "      <td>0.0</td>\n",
       "      <td>0.742622</td>\n",
       "      <td>22.591009</td>\n",
       "      <td>0.0</td>\n",
       "      <td>0.024376</td>\n",
       "      <td>0.250760</td>\n",
       "      <td>0.0</td>\n",
       "      <td>23.333631</td>\n",
       "      <td>...</td>\n",
       "      <td>0.0</td>\n",
       "      <td>0.023421</td>\n",
       "      <td>0.240936</td>\n",
       "      <td>0.0</td>\n",
       "      <td>22.419507</td>\n",
       "      <td>0.264357</td>\n",
       "      <td>0.914124</td>\n",
       "      <td>0.010779</td>\n",
       "      <td>0.040774</td>\n",
       "      <td>0.040774</td>\n",
       "    </tr>\n",
       "    <tr>\n",
       "      <th>...</th>\n",
       "      <td>...</td>\n",
       "      <td>...</td>\n",
       "      <td>...</td>\n",
       "      <td>...</td>\n",
       "      <td>...</td>\n",
       "      <td>...</td>\n",
       "      <td>...</td>\n",
       "      <td>...</td>\n",
       "      <td>...</td>\n",
       "      <td>...</td>\n",
       "      <td>...</td>\n",
       "      <td>...</td>\n",
       "      <td>...</td>\n",
       "      <td>...</td>\n",
       "      <td>...</td>\n",
       "      <td>...</td>\n",
       "      <td>...</td>\n",
       "      <td>...</td>\n",
       "      <td>...</td>\n",
       "      <td>...</td>\n",
       "      <td>...</td>\n",
       "    </tr>\n",
       "    <tr>\n",
       "      <th>437995</th>\n",
       "      <td>lowE(2)/Clear-BBG75</td>\n",
       "      <td>12/31  20:00:00</td>\n",
       "      <td>0.0</td>\n",
       "      <td>0.000000</td>\n",
       "      <td>0.000000</td>\n",
       "      <td>0.0</td>\n",
       "      <td>0.000000</td>\n",
       "      <td>0.000000</td>\n",
       "      <td>0.0</td>\n",
       "      <td>0.000000</td>\n",
       "      <td>...</td>\n",
       "      <td>0.0</td>\n",
       "      <td>0.000000</td>\n",
       "      <td>0.000000</td>\n",
       "      <td>0.0</td>\n",
       "      <td>0.000000</td>\n",
       "      <td>0.000000</td>\n",
       "      <td>0.000000</td>\n",
       "      <td>0.000000</td>\n",
       "      <td>0.000000</td>\n",
       "      <td>0.000000</td>\n",
       "    </tr>\n",
       "    <tr>\n",
       "      <th>437996</th>\n",
       "      <td>lowE(2)/Clear-BBG75</td>\n",
       "      <td>12/31  21:00:00</td>\n",
       "      <td>0.0</td>\n",
       "      <td>0.000000</td>\n",
       "      <td>0.000000</td>\n",
       "      <td>0.0</td>\n",
       "      <td>0.000000</td>\n",
       "      <td>0.000000</td>\n",
       "      <td>0.0</td>\n",
       "      <td>0.000000</td>\n",
       "      <td>...</td>\n",
       "      <td>0.0</td>\n",
       "      <td>0.000000</td>\n",
       "      <td>0.000000</td>\n",
       "      <td>0.0</td>\n",
       "      <td>0.000000</td>\n",
       "      <td>0.000000</td>\n",
       "      <td>0.000000</td>\n",
       "      <td>0.000000</td>\n",
       "      <td>0.000000</td>\n",
       "      <td>0.000000</td>\n",
       "    </tr>\n",
       "    <tr>\n",
       "      <th>437997</th>\n",
       "      <td>lowE(2)/Clear-BBG75</td>\n",
       "      <td>12/31  22:00:00</td>\n",
       "      <td>0.0</td>\n",
       "      <td>0.011634</td>\n",
       "      <td>0.353927</td>\n",
       "      <td>0.0</td>\n",
       "      <td>0.000382</td>\n",
       "      <td>0.003929</td>\n",
       "      <td>0.0</td>\n",
       "      <td>0.365561</td>\n",
       "      <td>...</td>\n",
       "      <td>0.0</td>\n",
       "      <td>0.000000</td>\n",
       "      <td>0.000000</td>\n",
       "      <td>0.0</td>\n",
       "      <td>0.000000</td>\n",
       "      <td>0.000000</td>\n",
       "      <td>0.365561</td>\n",
       "      <td>0.004310</td>\n",
       "      <td>0.000000</td>\n",
       "      <td>0.000000</td>\n",
       "    </tr>\n",
       "    <tr>\n",
       "      <th>437998</th>\n",
       "      <td>lowE(2)/Clear-BBG75</td>\n",
       "      <td>12/31  23:00:00</td>\n",
       "      <td>0.0</td>\n",
       "      <td>0.145747</td>\n",
       "      <td>4.433728</td>\n",
       "      <td>0.0</td>\n",
       "      <td>0.004784</td>\n",
       "      <td>0.049214</td>\n",
       "      <td>0.0</td>\n",
       "      <td>4.579475</td>\n",
       "      <td>...</td>\n",
       "      <td>0.0</td>\n",
       "      <td>0.003853</td>\n",
       "      <td>0.039635</td>\n",
       "      <td>0.0</td>\n",
       "      <td>3.688053</td>\n",
       "      <td>0.043487</td>\n",
       "      <td>0.891422</td>\n",
       "      <td>0.010511</td>\n",
       "      <td>0.241705</td>\n",
       "      <td>0.241705</td>\n",
       "    </tr>\n",
       "    <tr>\n",
       "      <th>437999</th>\n",
       "      <td>lowE(2)/Clear-BBG75</td>\n",
       "      <td>12/31  24:00:00</td>\n",
       "      <td>0.0</td>\n",
       "      <td>0.237648</td>\n",
       "      <td>7.229397</td>\n",
       "      <td>0.0</td>\n",
       "      <td>0.007801</td>\n",
       "      <td>0.080246</td>\n",
       "      <td>0.0</td>\n",
       "      <td>7.467045</td>\n",
       "      <td>...</td>\n",
       "      <td>0.0</td>\n",
       "      <td>0.007774</td>\n",
       "      <td>0.079975</td>\n",
       "      <td>0.0</td>\n",
       "      <td>7.441785</td>\n",
       "      <td>0.087749</td>\n",
       "      <td>0.025260</td>\n",
       "      <td>0.000298</td>\n",
       "      <td>0.003394</td>\n",
       "      <td>0.003394</td>\n",
       "    </tr>\n",
       "  </tbody>\n",
       "</table>\n",
       "<p>438000 rows × 25 columns</p>\n",
       "</div>"
      ],
      "text/plain": [
       "                   Scenario         Date_Time  Illuminance(lux)  \\\n",
       "0               Clear/Clear   01/01  01:00:00               0.0   \n",
       "1               Clear/Clear   01/01  02:00:00               0.0   \n",
       "2               Clear/Clear   01/01  03:00:00               0.0   \n",
       "3               Clear/Clear   01/01  04:00:00               0.0   \n",
       "4               Clear/Clear   01/01  05:00:00               0.0   \n",
       "...                     ...               ...               ...   \n",
       "437995  lowE(2)/Clear-BBG75   12/31  20:00:00               0.0   \n",
       "437996  lowE(2)/Clear-BBG75   12/31  21:00:00               0.0   \n",
       "437997  lowE(2)/Clear-BBG75   12/31  22:00:00               0.0   \n",
       "437998  lowE(2)/Clear-BBG75   12/31  23:00:00               0.0   \n",
       "437999  lowE(2)/Clear-BBG75   12/31  24:00:00               0.0   \n",
       "\n",
       "        FanEnergy(kBtu)  HeatingEnergy(kBtu)  CoolingEnergy(kBtu)  FanCost($)  \\\n",
       "0              0.580415            17.656572                  0.0    0.019052   \n",
       "1              0.634104            19.289833                  0.0    0.020814   \n",
       "2              0.678973            20.654778                  0.0    0.022287   \n",
       "3              0.722009            21.963976                  0.0    0.023699   \n",
       "4              0.742622            22.591009                  0.0    0.024376   \n",
       "...                 ...                  ...                  ...         ...   \n",
       "437995         0.000000             0.000000                  0.0    0.000000   \n",
       "437996         0.000000             0.000000                  0.0    0.000000   \n",
       "437997         0.011634             0.353927                  0.0    0.000382   \n",
       "437998         0.145747             4.433728                  0.0    0.004784   \n",
       "437999         0.237648             7.229397                  0.0    0.007801   \n",
       "\n",
       "        HeatingCost($)  CoolingCost($)  HourlyEnergy(kBtu)  ...  \\\n",
       "0             0.195988             0.0           18.236986  ...   \n",
       "1             0.214117             0.0           19.923937  ...   \n",
       "2             0.229268             0.0           21.333751  ...   \n",
       "3             0.243800             0.0           22.685985  ...   \n",
       "4             0.250760             0.0           23.333631  ...   \n",
       "...                ...             ...                 ...  ...   \n",
       "437995        0.000000             0.0            0.000000  ...   \n",
       "437996        0.000000             0.0            0.000000  ...   \n",
       "437997        0.003929             0.0            0.365561  ...   \n",
       "437998        0.049214             0.0            4.579475  ...   \n",
       "437999        0.080246             0.0            7.467045  ...   \n",
       "\n",
       "        B_CoolingEnergy(kBtu) B_FanEnergy($)  B_HeatingCost($)  \\\n",
       "0                         0.0       0.018179          0.187007   \n",
       "1                         0.0       0.019914          0.204863   \n",
       "2                         0.0       0.021367          0.219812   \n",
       "3                         0.0       0.022757          0.234111   \n",
       "4                         0.0       0.023421          0.240936   \n",
       "...                       ...            ...               ...   \n",
       "437995                    0.0       0.000000          0.000000   \n",
       "437996                    0.0       0.000000          0.000000   \n",
       "437997                    0.0       0.000000          0.000000   \n",
       "437998                    0.0       0.003853          0.039635   \n",
       "437999                    0.0       0.007774          0.079975   \n",
       "\n",
       "        B_CoolingCost($)  B_HourlyEnergy(kBtu)  B_HourlyCost($)  \\\n",
       "0                    0.0             17.401338         0.205186   \n",
       "1                    0.0             19.062853         0.224778   \n",
       "2                    0.0             20.453849         0.241179   \n",
       "3                    0.0             21.784375         0.256868   \n",
       "4                    0.0             22.419507         0.264357   \n",
       "...                  ...                   ...              ...   \n",
       "437995               0.0              0.000000         0.000000   \n",
       "437996               0.0              0.000000         0.000000   \n",
       "437997               0.0              0.000000         0.000000   \n",
       "437998               0.0              3.688053         0.043487   \n",
       "437999               0.0              7.441785         0.087749   \n",
       "\n",
       "        deltaEnergy(kBtu)  deltaCost($)  %deltaEnergy(kBtu)  %deltaCost($)  \n",
       "0                0.835648      0.009853            0.048022       0.048022  \n",
       "1                0.861084      0.010153            0.045171       0.045171  \n",
       "2                0.879902      0.010375            0.043019       0.043019  \n",
       "3                0.901610      0.010631            0.041388       0.041388  \n",
       "4                0.914124      0.010779            0.040774       0.040774  \n",
       "...                   ...           ...                 ...            ...  \n",
       "437995           0.000000      0.000000            0.000000       0.000000  \n",
       "437996           0.000000      0.000000            0.000000       0.000000  \n",
       "437997           0.365561      0.004310            0.000000       0.000000  \n",
       "437998           0.891422      0.010511            0.241705       0.241705  \n",
       "437999           0.025260      0.000298            0.003394       0.003394  \n",
       "\n",
       "[438000 rows x 25 columns]"
      ]
     },
     "execution_count": 64,
     "metadata": {},
     "output_type": "execute_result"
    }
   ],
   "source": [
    "# Convert NANs to 0\n",
    "hourlyWithBaseline =hourlyWithBaseline.fillna(0)\n",
    "\n",
    "hourlyWithBaseline"
   ]
  },
  {
   "cell_type": "code",
   "execution_count": 63,
   "metadata": {},
   "outputs": [],
   "source": [
    "# Export hourly data with baseline difference file to csv\n",
    "hourlyWithBaseline.to_csv(\"../Scraper_Output/hou_hourly_data.csv\", header=True, index=True)"
   ]
  },
  {
   "cell_type": "markdown",
   "metadata": {},
   "source": [
    "---\n",
    "\n",
    "## Add conditionals\n",
    "\n",
    "Illumination >= 300.<br> \n",
    "EnergyPerformance <= selected percentage."
   ]
  },
  {
   "cell_type": "code",
   "execution_count": 77,
   "metadata": {},
   "outputs": [],
   "source": [
    "conditionals = hourlyWithBaseline[hourlyWithBaseline[\"Illuminance(lux)\"] >= 300]\n",
    "\n",
    "#conditionals"
   ]
  },
  {
   "cell_type": "code",
   "execution_count": 78,
   "metadata": {},
   "outputs": [],
   "source": [
    "# Create datasets that show reduction in energy and cost 10, 20 and 30%\n",
    "\n",
    "energy10 = conditionals[conditionals[\"HourlyEnergy(kBtu)\"] <= (conditionals[\"B_HourlyEnergy(kBtu)\"] * .9)]\n",
    "energy20 = conditionals[conditionals[\"HourlyEnergy(kBtu)\"] <= (conditionals[\"B_HourlyEnergy(kBtu)\"] * .8)]\n",
    "energy30 = conditionals[conditionals[\"HourlyEnergy(kBtu)\"] <= (conditionals[\"B_HourlyEnergy(kBtu)\"] * .7)]\n",
    "energy40 = conditionals[conditionals[\"HourlyEnergy(kBtu)\"] <= (conditionals[\"B_HourlyEnergy(kBtu)\"] * .6)]\n",
    "cost10 = conditionals[conditionals[\"HourlyCost($)\"] <= (conditionals[\"B_HourlyCost($)\"] * .9)]\n",
    "cost20 = conditionals[conditionals[\"HourlyCost($)\"] <= (conditionals[\"B_HourlyCost($)\"] * .8)]\n",
    "cost30 = conditionals[conditionals[\"HourlyCost($)\"] <= (conditionals[\"B_HourlyCost($)\"] * .7)]\n",
    "cost40 = conditionals[conditionals[\"HourlyCost($)\"] <= (conditionals[\"B_HourlyCost($)\"] * .6)]"
   ]
  },
  {
   "cell_type": "code",
   "execution_count": 79,
   "metadata": {},
   "outputs": [],
   "source": [
    "# Export hourly conditional data with to csvs\n",
    "energy10.to_csv(\"../Scraper_Output/hou_energy10_data.csv\", header=True, index=True)\n",
    "energy20.to_csv(\"../Scraper_Output/hou_energy20_data.csv\", header=True, index=True)\n",
    "energy30.to_csv(\"../Scraper_Output/hou_energy30_data.csv\", header=True, index=True)\n",
    "energy40.to_csv(\"../Scraper_Output/hou_energy40_data.csv\", header=True, index=True)\n",
    "cost10.to_csv(\"../Scraper_Output/hou_cost10_data.csv\", header=True, index=True)\n",
    "cost20.to_csv(\"../Scraper_Output/hou_cost20_data.csv\", header=True, index=True)\n",
    "cost30.to_csv(\"../Scraper_Output/hou_cost30_data.csv\", header=True, index=True)\n",
    "cost40.to_csv(\"../Scraper_Output/hou_cost40_data.csv\", header=True, index=True)"
   ]
  }
 ],
 "metadata": {
  "kernelspec": {
   "display_name": "Python 3",
   "language": "python",
   "name": "python3"
  },
  "language_info": {
   "codemirror_mode": {
    "name": "ipython",
    "version": 3
   },
   "file_extension": ".py",
   "mimetype": "text/x-python",
   "name": "python",
   "nbconvert_exporter": "python",
   "pygments_lexer": "ipython3",
   "version": "3.6.10"
  },
  "varInspector": {
   "cols": {
    "lenName": 16,
    "lenType": 16,
    "lenVar": 40
   },
   "kernels_config": {
    "python": {
     "delete_cmd_postfix": "",
     "delete_cmd_prefix": "del ",
     "library": "var_list.py",
     "varRefreshCmd": "print(var_dic_list())"
    },
    "r": {
     "delete_cmd_postfix": ") ",
     "delete_cmd_prefix": "rm(",
     "library": "var_list.r",
     "varRefreshCmd": "cat(var_dic_list()) "
    }
   },
   "types_to_exclude": [
    "module",
    "function",
    "builtin_function_or_method",
    "instance",
    "_Feature"
   ],
   "window_display": false
  }
 },
 "nbformat": 4,
 "nbformat_minor": 2
}
