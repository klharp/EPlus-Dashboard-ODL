{
 "cells": [
  {
   "cell_type": "markdown",
   "metadata": {},
   "source": [
    "# Houston, TX Simulations\n",
    "8760 rows per simulation<br>\n",
    "50 files (removed cell-in-cell)"
   ]
  },
  {
   "cell_type": "code",
   "execution_count": 1,
   "metadata": {},
   "outputs": [],
   "source": [
    "# Dependencies\n",
    "import pandas as pd\n",
    "import os\n",
    "import numpy as np\n",
    "import pprint\n",
    "from pathlib import Path\n",
    "from datetime import datetime"
   ]
  },
  {
   "cell_type": "markdown",
   "metadata": {},
   "source": [
    "## Energy Conversions\n",
    "\n",
    "As per E* Documentation<br>\n",
    "\n",
    "Joules --> kBtu (multiply by .00000094781712)<br>\n",
    "Joules --> kWh (multiply by .000000277777778) or (divide by 3600000)<br>\n",
    "Joules --> therms (multiply by .0000000094781712<br>\n",
    "\n",
    "foot-candles --> Lux (multiply by 10.7642)"
   ]
  },
  {
   "cell_type": "markdown",
   "metadata": {},
   "source": [
    "<div>\n",
    "    <img src=\"static/images/elect_conv.png\" width=\"400\"/>\n",
    "     <img src=\"static/images/gas_conv.png\" width=\"400\"/>\n",
    "</div"
   ]
  },
  {
   "cell_type": "code",
   "execution_count": 2,
   "metadata": {},
   "outputs": [],
   "source": [
    "# 2018 Egrid Costs (elec $/kWh, gas $/therm), change values per city\n",
    "gas = 1.11\n",
    "elec = 0.112"
   ]
  },
  {
   "cell_type": "markdown",
   "metadata": {},
   "source": [
    "---\n",
    "\n",
    "## Combine CSV Files in Directory"
   ]
  },
  {
   "cell_type": "code",
   "execution_count": 3,
   "metadata": {},
   "outputs": [],
   "source": [
    "# Create variable for files in directory\n",
    "files = [f for f in os.listdir(\"data/hou/\") if f.endswith(\".csv\")]\n",
    "\n",
    "# files"
   ]
  },
  {
   "cell_type": "code",
   "execution_count": 4,
   "metadata": {},
   "outputs": [],
   "source": [
    "# https://stackoverflow.com/questions/63886787/how-to-create-a-dataframe-from-multiple-csv-files\n",
    "# Initialize and empty dataframe\n",
    "all_data = pd.DataFrame()\n",
    "\n",
    "# Iterate through files and contents, then concatenate the data into the dataframe\n",
    "for file in files:\n",
    "    df = pd.read_csv(\"data/hou/\" + file)\n",
    "    all_data = pd.concat([all_data, df])\n",
    "    \n",
    "#all_data\n",
    "\n",
    "# 438000  rows, 73 columns"
   ]
  },
  {
   "cell_type": "code",
   "execution_count": 5,
   "metadata": {},
   "outputs": [],
   "source": [
    "# all_data.dtypes"
   ]
  },
  {
   "cell_type": "code",
   "execution_count": 6,
   "metadata": {},
   "outputs": [],
   "source": [
    "# Get wanted columns\n",
    "all_data1 = all_data[[\"Scenario\",\n",
    "               \"Date/Time\",\n",
    "              \"LIVING_UNIT1 DAYLIGHTINGCONTROLS:Daylighting Reference Point 1 Illuminance [lux](Hourly)\",\n",
    "              \"SUPPLY FAN_UNIT1:Fan Electricity Energy [J](Hourly)\",\n",
    "              \"MAIN GAS HEATING COIL_UNIT1:Heating Coil NaturalGas Energy [J](Hourly)\",\n",
    "              \"DX COOLING COIL_UNIT1:Cooling Coil Electricity Energy [J](Hourly) \"]]\n",
    "\n",
    "#all_data1"
   ]
  },
  {
   "cell_type": "code",
   "execution_count": 7,
   "metadata": {},
   "outputs": [],
   "source": [
    "all_data1 = all_data1.dropna().reset_index(drop=True)\n",
    "\n",
    "#all_data1\n",
    "\n",
    "#438000  rows, 73 columns"
   ]
  },
  {
   "cell_type": "markdown",
   "metadata": {},
   "source": [
    "-----\n",
    "\n",
    "## Get the Wanted Data (columns)"
   ]
  },
  {
   "cell_type": "code",
   "execution_count": 8,
   "metadata": {
    "scrolled": true
   },
   "outputs": [],
   "source": [
    "# Rename Columns\n",
    "all_data2 = all_data1.rename(columns={\"Scenario\":\"Scenario\",\n",
    "                              \"Date/Time\":\"Date_Time\",\n",
    "                             \"LIVING_UNIT1 DAYLIGHTINGCONTROLS:Daylighting Reference Point 1 Illuminance [lux](Hourly)\":\"Illuminance(lux)\",\n",
    "                             \"SUPPLY FAN_UNIT1:Fan Electricity Energy [J](Hourly)\":\"FanEnergy[J](Hourly)\",\n",
    "                             \"MAIN GAS HEATING COIL_UNIT1:Heating Coil NaturalGas Energy [J](Hourly)\":\"HeatingEnergy[J](Hourly)\",\n",
    "                             \"DX COOLING COIL_UNIT1:Cooling Coil Electricity Energy [J](Hourly) \":\"CoolingEnergy[J](Hourly) \"\n",
    "                             })\n",
    "\n",
    "#all_data2\n",
    "\n",
    "#438000  rows, 6 columns"
   ]
  },
  {
   "cell_type": "markdown",
   "metadata": {},
   "source": [
    "-----\n",
    "\n",
    "## Get Annual Energy Data\n",
    "Convert units from Joules to kBtu<br>\n",
    "Drop Illuminance column<br>\n"
   ]
  },
  {
   "cell_type": "code",
   "execution_count": 9,
   "metadata": {},
   "outputs": [],
   "source": [
    "# Copy dataframe to modify and leave original df intact\n",
    "get_annual = all_data2.copy(deep=True)\n",
    "\n",
    "#get_annual"
   ]
  },
  {
   "cell_type": "code",
   "execution_count": 10,
   "metadata": {},
   "outputs": [],
   "source": [
    "# Convert Joules to KBtu in dataframe\n",
    "get_annual[\"FanEnergy(kBtu)\"] = get_annual[\"FanEnergy[J](Hourly)\"] * .00000094781712\n",
    "get_annual[\"HeatingEnergy(kBtu)\"] = get_annual[\"HeatingEnergy[J](Hourly)\"] * .00000094781712\n",
    "get_annual[\"CoolingEnergy(kBtu)\"] = get_annual[\"CoolingEnergy[J](Hourly) \"] * .00000094781712\n",
    "\n",
    "#get_annual"
   ]
  },
  {
   "cell_type": "code",
   "execution_count": 11,
   "metadata": {},
   "outputs": [],
   "source": [
    "#list(get_annual.columns.values)"
   ]
  },
  {
   "cell_type": "code",
   "execution_count": 12,
   "metadata": {},
   "outputs": [],
   "source": [
    "# Drop columns\n",
    "get_annual.drop(columns = [\"FanEnergy[J](Hourly)\", \"HeatingEnergy[J](Hourly)\", \"CoolingEnergy[J](Hourly) \"], axis=1, inplace=True)\n",
    "\n",
    "#get_annual"
   ]
  },
  {
   "cell_type": "markdown",
   "metadata": {},
   "source": [
    "---\n",
    "\n",
    "## Get Annual Cost Data\n",
    "Convert units from Joules to kWh and therms to use cost multiplier<br>\n",
    "Drop Illuminance column<br>\n",
    "Add cost multiplier, variables defined above"
   ]
  },
  {
   "cell_type": "code",
   "execution_count": 13,
   "metadata": {},
   "outputs": [],
   "source": [
    "# Get annual costs\n",
    "get_annual_costs = all_data2.copy(deep=True)"
   ]
  },
  {
   "cell_type": "code",
   "execution_count": 14,
   "metadata": {},
   "outputs": [],
   "source": [
    "# Convert Joules to KBtu in dataframe and add cost multiplier\n",
    "# Gas kbtu => Mbtu => therms: (kbtu/1000) * 10\n",
    "# Elec kbtu => Kwh (kbtu * .000000277777778)\n",
    "get_annual_costs[\"FanCost($)\"] = (get_annual_costs[\"FanEnergy[J](Hourly)\"] * .000000277777778) * elec\n",
    "get_annual_costs[\"HeatingCost($)\"] = ((get_annual_costs[\"HeatingEnergy[J](Hourly)\"] * .00000094781712)/1000) * 10  * gas\n",
    "get_annual_costs[\"CoolingCost($)\"] = (get_annual_costs[\"CoolingEnergy[J](Hourly) \"] * .000000277777778) * elec\n",
    "\n",
    "#get_annual_costs"
   ]
  },
  {
   "cell_type": "code",
   "execution_count": 15,
   "metadata": {},
   "outputs": [],
   "source": [
    "# Drop columns\n",
    "get_annual_costs.drop(columns = [\"Illuminance(lux)\",\"FanEnergy[J](Hourly)\", \"HeatingEnergy[J](Hourly)\", \"CoolingEnergy[J](Hourly) \"], axis=1, inplace=True)\n",
    "\n",
    "#get_annual_costs"
   ]
  },
  {
   "cell_type": "markdown",
   "metadata": {},
   "source": [
    "---\n",
    "\n",
    "## Combine Annual Energy and Cost Data\n",
    "Combine two dfs<br>\n",
    "Export combine file"
   ]
  },
  {
   "cell_type": "code",
   "execution_count": 16,
   "metadata": {},
   "outputs": [],
   "source": [
    "# Combine data for energy and cost\n",
    "allAnnualData = pd.merge(get_annual, get_annual_costs)\n",
    "\n",
    "#allAnnualData"
   ]
  },
  {
   "cell_type": "code",
   "execution_count": 17,
   "metadata": {},
   "outputs": [],
   "source": [
    "# Add energy and cost totals\n",
    "totalEnergy = allAnnualData[\"FanEnergy(kBtu)\"] + allAnnualData[\"HeatingEnergy(kBtu)\"] + allAnnualData[\"CoolingEnergy(kBtu)\"]\n",
    "allAnnualData[\"AnnualEnergy(kBtu)\"] = totalEnergy\n",
    "\n",
    "totalCost = allAnnualData[\"FanCost($)\"] + allAnnualData[\"HeatingCost($)\"] + allAnnualData[\"CoolingCost($)\"]\n",
    "allAnnualData[\"AnnualCost($)\"] = totalCost\n",
    "\n",
    "#allAnnualData"
   ]
  },
  {
   "cell_type": "code",
   "execution_count": 18,
   "metadata": {},
   "outputs": [],
   "source": [
    "#list(allAnnualData.columns.values)"
   ]
  },
  {
   "cell_type": "markdown",
   "metadata": {},
   "source": [
    "---\n",
    "\n",
    "## Establish Annual Baseline at Clear/Clear-VB0\n",
    "\n",
    "Create dataset with just baselines.<br> \n",
    "Keep the units in kBtus to be able to eventually combine heating and cooling <br>\n",
    "Merge the baseline dataset with the full dataset.<br>\n",
    "Determine the delta between scenario and base."
   ]
  },
  {
   "cell_type": "code",
   "execution_count": 19,
   "metadata": {},
   "outputs": [],
   "source": [
    "# Define the scenario for the baselines.\n",
    "# % improvement from Clear/Clear-VB0 (dual clear with a Venetian Blind at 0 degrees)\n",
    "baselineAnnual = allAnnualData[allAnnualData[\"Scenario\"] == \"Clear/Clear-VB0\"]\n",
    "\n",
    "#baselineAnnual"
   ]
  },
  {
   "cell_type": "code",
   "execution_count": 20,
   "metadata": {},
   "outputs": [],
   "source": [
    "# Rename columns to indicate baseline to prepare for merge\n",
    "\n",
    "allBaselineAnnual = baselineAnnual.rename(columns={\"Scenario\":\"B_Scenario\",\n",
    "                              \"Date_Time\":\"Date_Time\",\n",
    "                             \"Illuminance(lux)\":\"B_Illuminance(lux)\",\n",
    "                             \"FanEnergy(kBtu)\":\"B_FanEnergy(kBtu)\",\n",
    "                             \"HeatingEnergy(kBtu)\":\"B_HeatingEnergy(kBtu)\",\n",
    "                             \"CoolingEnergy(kBtu)\":\"B_CoolingEnergy(kBtu)\",\n",
    "                             \"AnnualEnergy(kBtu)\":\"B_AnnualEnergy(kBtu)\",\n",
    "                             \"FanCost($)\":\"B_FanEnergy($)\",\n",
    "                             \"HeatingCost($)\":\"B_HeatingCost($)\",\n",
    "                             \"CoolingCost($)\":\"B_CoolingCost($)\",\n",
    "                             \"AnnualCost($)\":\"B_AnnualCost($)\",\n",
    "                             })\n",
    "\n",
    "#allBaselineHourly"
   ]
  },
  {
   "cell_type": "code",
   "execution_count": 21,
   "metadata": {},
   "outputs": [],
   "source": [
    "# Merge the dataframes to include the baseline data.\n",
    "AnnualWithBaseline = pd.merge(allAnnualData, allBaselineAnnual, on=\"Date_Time\", how=\"left\")\n",
    "\n",
    "#hourlyWithBaseline"
   ]
  },
  {
   "cell_type": "code",
   "execution_count": 22,
   "metadata": {},
   "outputs": [],
   "source": [
    "#list(AnnualWithBaseline.columns.values)"
   ]
  },
  {
   "cell_type": "code",
   "execution_count": 23,
   "metadata": {},
   "outputs": [],
   "source": [
    "# Add column for the difference from baseline columns (scenario - baseline)\n",
    "AnnualWithBaseline[\"deltaEnergy(kBtu)\"] = AnnualWithBaseline[\"AnnualEnergy(kBtu)\"] - AnnualWithBaseline[\"B_AnnualEnergy(kBtu)\"]\n",
    "AnnualWithBaseline[\"deltaCost($)\"] = AnnualWithBaseline[\"AnnualCost($)\"] - AnnualWithBaseline[\"B_AnnualCost($)\"]\n",
    "\n",
    "# AnnualWithBaseline"
   ]
  },
  {
   "cell_type": "code",
   "execution_count": 24,
   "metadata": {},
   "outputs": [],
   "source": [
    "# Convert NANs to 0\n",
    "AnnualWithBaseline =AnnualWithBaseline.fillna(0)\n",
    "\n",
    "#AnnualWithBaseline"
   ]
  },
  {
   "cell_type": "markdown",
   "metadata": {},
   "source": [
    "---\n",
    "## Group and Export Annual Data\n",
    "Group dataframe by scenario<br>\n",
    "Export to file"
   ]
  },
  {
   "cell_type": "code",
   "execution_count": 25,
   "metadata": {},
   "outputs": [],
   "source": [
    "# Group by scenario\n",
    "annualData = AnnualWithBaseline.groupby([\"Scenario\"], as_index=True)\n",
    "\n",
    "#annualData.sum().round(2)"
   ]
  },
  {
   "cell_type": "code",
   "execution_count": 26,
   "metadata": {},
   "outputs": [],
   "source": [
    "annualDataFinal = annualData.sum().round(2)\n",
    "\n",
    "#annualDataFinal"
   ]
  },
  {
   "cell_type": "code",
   "execution_count": 27,
   "metadata": {},
   "outputs": [],
   "source": [
    "# Export grouped file to csv\n",
    "annualDataFinal.to_csv(\"../Scraper_Output/hou_annual_data.csv\", header=True, index=True)"
   ]
  },
  {
   "cell_type": "markdown",
   "metadata": {},
   "source": [
    "-----\n",
    "\n",
    "## Get Monthly Energy Data\n",
    "Change units from Joules to therms and kWh<br>\n",
    "No baseline data used in monthly export due to differing units of energy, refer to annual and hourly.<br>\n",
    "Drop unwanted columns"
   ]
  },
  {
   "cell_type": "code",
   "execution_count": 28,
   "metadata": {},
   "outputs": [],
   "source": [
    "# Copy dataframe to modify and leave original df intact\n",
    "get_monthly = all_data2.copy(deep=True)\n",
    "\n",
    "#get_monthly"
   ]
  },
  {
   "cell_type": "code",
   "execution_count": 29,
   "metadata": {},
   "outputs": [],
   "source": [
    "# Convert Joules to kWh and therms in new dataframe\n",
    "get_monthly[\"FanEnergy(kWh)\"] = get_monthly[\"FanEnergy[J](Hourly)\"] * .000000277777778\n",
    "get_monthly[\"HeatingEnergy(therms)\"] = get_monthly[\"HeatingEnergy[J](Hourly)\"] * .0000000094781712\n",
    "get_monthly[\"CoolingEnergy(kWh)\"] = get_monthly[\"CoolingEnergy[J](Hourly) \"] * .000000277777778\n",
    "\n",
    "#get_monthly"
   ]
  },
  {
   "cell_type": "code",
   "execution_count": 30,
   "metadata": {},
   "outputs": [],
   "source": [
    "# Drop columns\n",
    "get_monthly.drop(columns = [\"FanEnergy[J](Hourly)\", \"HeatingEnergy[J](Hourly)\", \"CoolingEnergy[J](Hourly) \"], axis=1, inplace=True)\n",
    "\n",
    "#get_monthly"
   ]
  },
  {
   "cell_type": "markdown",
   "metadata": {},
   "source": [
    "## Get Monthly Cost Data\n",
    "\n",
    "Change units from Joules to therms and kWh<br>\n",
    "Add cost multiplier, variable needs to be defined above"
   ]
  },
  {
   "cell_type": "code",
   "execution_count": 31,
   "metadata": {},
   "outputs": [],
   "source": [
    "# Copy dataframe to modify and leave original df intact\n",
    "get_monthly_costs = all_data2.copy(deep=True)\n",
    "\n",
    "#get_monthly"
   ]
  },
  {
   "cell_type": "code",
   "execution_count": 32,
   "metadata": {},
   "outputs": [],
   "source": [
    "# Convert Joules to KBtu in dataframe and add cost multiplier\n",
    "# Gas kbtu => Mbtu => therms: (kbtu/1000) * 10\n",
    "# Elec kbtu => Kwh (kbtu * .000000277777778)\n",
    "get_monthly_costs[\"FanCost($)\"] = (get_monthly_costs[\"FanEnergy[J](Hourly)\"] * .000000277777778) * elec\n",
    "get_monthly_costs[\"HeatingCost($)\"] = ((get_monthly_costs[\"HeatingEnergy[J](Hourly)\"] * .00000094781712)/1000) * 10  * gas\n",
    "get_monthly_costs[\"CoolingCost($)\"] = (get_monthly_costs[\"CoolingEnergy[J](Hourly) \"] * .000000277777778) * elec\n",
    "\n",
    "#get_monthly_costs"
   ]
  },
  {
   "cell_type": "code",
   "execution_count": 33,
   "metadata": {},
   "outputs": [],
   "source": [
    "# Drop columns\n",
    "get_monthly_costs.drop(columns = [\"FanEnergy[J](Hourly)\", \"HeatingEnergy[J](Hourly)\", \"CoolingEnergy[J](Hourly) \"], axis=1, inplace=True)\n",
    "\n",
    "#get_monthly_costs"
   ]
  },
  {
   "cell_type": "markdown",
   "metadata": {},
   "source": [
    "---\n",
    "\n",
    "## Combine Monthly Energy and Cost Data\n",
    "Combine two dfs<br>\n",
    "Create Month Column<br>\n",
    "Export combine file"
   ]
  },
  {
   "cell_type": "code",
   "execution_count": 34,
   "metadata": {},
   "outputs": [],
   "source": [
    "# Combine data for energy and cost\n",
    "allMonthlyData = pd.merge(get_monthly, get_monthly_costs, how=\"inner\")\n",
    "\n",
    "#allMonthlyData"
   ]
  },
  {
   "cell_type": "code",
   "execution_count": 35,
   "metadata": {},
   "outputs": [],
   "source": [
    "# Add cost totals, don't total energy...in different units\n",
    "totalCostMonthly = allMonthlyData[\"FanCost($)\"] + allMonthlyData[\"HeatingCost($)\"] + allMonthlyData[\"CoolingCost($)\"]\n",
    "allMonthlyData[\"MonthlyCost($)\"] = totalCostMonthly\n",
    "\n",
    "#allMonthlyData"
   ]
  },
  {
   "cell_type": "code",
   "execution_count": 36,
   "metadata": {
    "scrolled": true
   },
   "outputs": [
    {
     "data": {
      "text/html": [
       "<div>\n",
       "<style scoped>\n",
       "    .dataframe tbody tr th:only-of-type {\n",
       "        vertical-align: middle;\n",
       "    }\n",
       "\n",
       "    .dataframe tbody tr th {\n",
       "        vertical-align: top;\n",
       "    }\n",
       "\n",
       "    .dataframe thead th {\n",
       "        text-align: right;\n",
       "    }\n",
       "</style>\n",
       "<table border=\"1\" class=\"dataframe\">\n",
       "  <thead>\n",
       "    <tr style=\"text-align: right;\">\n",
       "      <th></th>\n",
       "      <th>Scenario</th>\n",
       "      <th>Date_Time</th>\n",
       "      <th>Illuminance(lux)</th>\n",
       "      <th>FanEnergy(kWh)</th>\n",
       "      <th>HeatingEnergy(therms)</th>\n",
       "      <th>CoolingEnergy(kWh)</th>\n",
       "      <th>FanCost($)</th>\n",
       "      <th>HeatingCost($)</th>\n",
       "      <th>CoolingCost($)</th>\n",
       "      <th>MonthlyCost($)</th>\n",
       "      <th>Month</th>\n",
       "    </tr>\n",
       "  </thead>\n",
       "  <tbody>\n",
       "    <tr>\n",
       "      <th>0</th>\n",
       "      <td>Clear/Clear</td>\n",
       "      <td>01/01  01:00:00</td>\n",
       "      <td>0.0</td>\n",
       "      <td>0.170103</td>\n",
       "      <td>0.176566</td>\n",
       "      <td>0.0</td>\n",
       "      <td>0.019052</td>\n",
       "      <td>0.195988</td>\n",
       "      <td>0.0</td>\n",
       "      <td>0.215039</td>\n",
       "      <td>01</td>\n",
       "    </tr>\n",
       "    <tr>\n",
       "      <th>1</th>\n",
       "      <td>Clear/Clear</td>\n",
       "      <td>01/01  02:00:00</td>\n",
       "      <td>0.0</td>\n",
       "      <td>0.185838</td>\n",
       "      <td>0.192898</td>\n",
       "      <td>0.0</td>\n",
       "      <td>0.020814</td>\n",
       "      <td>0.214117</td>\n",
       "      <td>0.0</td>\n",
       "      <td>0.234931</td>\n",
       "      <td>01</td>\n",
       "    </tr>\n",
       "    <tr>\n",
       "      <th>2</th>\n",
       "      <td>Clear/Clear</td>\n",
       "      <td>01/01  03:00:00</td>\n",
       "      <td>0.0</td>\n",
       "      <td>0.198987</td>\n",
       "      <td>0.206548</td>\n",
       "      <td>0.0</td>\n",
       "      <td>0.022287</td>\n",
       "      <td>0.229268</td>\n",
       "      <td>0.0</td>\n",
       "      <td>0.251555</td>\n",
       "      <td>01</td>\n",
       "    </tr>\n",
       "    <tr>\n",
       "      <th>3</th>\n",
       "      <td>Clear/Clear</td>\n",
       "      <td>01/01  04:00:00</td>\n",
       "      <td>0.0</td>\n",
       "      <td>0.211600</td>\n",
       "      <td>0.219640</td>\n",
       "      <td>0.0</td>\n",
       "      <td>0.023699</td>\n",
       "      <td>0.243800</td>\n",
       "      <td>0.0</td>\n",
       "      <td>0.267499</td>\n",
       "      <td>01</td>\n",
       "    </tr>\n",
       "    <tr>\n",
       "      <th>4</th>\n",
       "      <td>Clear/Clear</td>\n",
       "      <td>01/01  05:00:00</td>\n",
       "      <td>0.0</td>\n",
       "      <td>0.217641</td>\n",
       "      <td>0.225910</td>\n",
       "      <td>0.0</td>\n",
       "      <td>0.024376</td>\n",
       "      <td>0.250760</td>\n",
       "      <td>0.0</td>\n",
       "      <td>0.275136</td>\n",
       "      <td>01</td>\n",
       "    </tr>\n",
       "    <tr>\n",
       "      <th>...</th>\n",
       "      <td>...</td>\n",
       "      <td>...</td>\n",
       "      <td>...</td>\n",
       "      <td>...</td>\n",
       "      <td>...</td>\n",
       "      <td>...</td>\n",
       "      <td>...</td>\n",
       "      <td>...</td>\n",
       "      <td>...</td>\n",
       "      <td>...</td>\n",
       "      <td>...</td>\n",
       "    </tr>\n",
       "    <tr>\n",
       "      <th>437995</th>\n",
       "      <td>lowE(2)/Clear-BBG75</td>\n",
       "      <td>12/31  20:00:00</td>\n",
       "      <td>0.0</td>\n",
       "      <td>0.000000</td>\n",
       "      <td>0.000000</td>\n",
       "      <td>0.0</td>\n",
       "      <td>0.000000</td>\n",
       "      <td>0.000000</td>\n",
       "      <td>0.0</td>\n",
       "      <td>0.000000</td>\n",
       "      <td>12</td>\n",
       "    </tr>\n",
       "    <tr>\n",
       "      <th>437996</th>\n",
       "      <td>lowE(2)/Clear-BBG75</td>\n",
       "      <td>12/31  21:00:00</td>\n",
       "      <td>0.0</td>\n",
       "      <td>0.000000</td>\n",
       "      <td>0.000000</td>\n",
       "      <td>0.0</td>\n",
       "      <td>0.000000</td>\n",
       "      <td>0.000000</td>\n",
       "      <td>0.0</td>\n",
       "      <td>0.000000</td>\n",
       "      <td>12</td>\n",
       "    </tr>\n",
       "    <tr>\n",
       "      <th>437997</th>\n",
       "      <td>lowE(2)/Clear-BBG75</td>\n",
       "      <td>12/31  22:00:00</td>\n",
       "      <td>0.0</td>\n",
       "      <td>0.003410</td>\n",
       "      <td>0.003539</td>\n",
       "      <td>0.0</td>\n",
       "      <td>0.000382</td>\n",
       "      <td>0.003929</td>\n",
       "      <td>0.0</td>\n",
       "      <td>0.004310</td>\n",
       "      <td>12</td>\n",
       "    </tr>\n",
       "    <tr>\n",
       "      <th>437998</th>\n",
       "      <td>lowE(2)/Clear-BBG75</td>\n",
       "      <td>12/31  23:00:00</td>\n",
       "      <td>0.0</td>\n",
       "      <td>0.042714</td>\n",
       "      <td>0.044337</td>\n",
       "      <td>0.0</td>\n",
       "      <td>0.004784</td>\n",
       "      <td>0.049214</td>\n",
       "      <td>0.0</td>\n",
       "      <td>0.053998</td>\n",
       "      <td>12</td>\n",
       "    </tr>\n",
       "    <tr>\n",
       "      <th>437999</th>\n",
       "      <td>lowE(2)/Clear-BBG75</td>\n",
       "      <td>12/31  24:00:00</td>\n",
       "      <td>0.0</td>\n",
       "      <td>0.069648</td>\n",
       "      <td>0.072294</td>\n",
       "      <td>0.0</td>\n",
       "      <td>0.007801</td>\n",
       "      <td>0.080246</td>\n",
       "      <td>0.0</td>\n",
       "      <td>0.088047</td>\n",
       "      <td>12</td>\n",
       "    </tr>\n",
       "  </tbody>\n",
       "</table>\n",
       "<p>438000 rows × 11 columns</p>\n",
       "</div>"
      ],
      "text/plain": [
       "                   Scenario         Date_Time  Illuminance(lux)  \\\n",
       "0               Clear/Clear   01/01  01:00:00               0.0   \n",
       "1               Clear/Clear   01/01  02:00:00               0.0   \n",
       "2               Clear/Clear   01/01  03:00:00               0.0   \n",
       "3               Clear/Clear   01/01  04:00:00               0.0   \n",
       "4               Clear/Clear   01/01  05:00:00               0.0   \n",
       "...                     ...               ...               ...   \n",
       "437995  lowE(2)/Clear-BBG75   12/31  20:00:00               0.0   \n",
       "437996  lowE(2)/Clear-BBG75   12/31  21:00:00               0.0   \n",
       "437997  lowE(2)/Clear-BBG75   12/31  22:00:00               0.0   \n",
       "437998  lowE(2)/Clear-BBG75   12/31  23:00:00               0.0   \n",
       "437999  lowE(2)/Clear-BBG75   12/31  24:00:00               0.0   \n",
       "\n",
       "        FanEnergy(kWh)  HeatingEnergy(therms)  CoolingEnergy(kWh)  FanCost($)  \\\n",
       "0             0.170103               0.176566                 0.0    0.019052   \n",
       "1             0.185838               0.192898                 0.0    0.020814   \n",
       "2             0.198987               0.206548                 0.0    0.022287   \n",
       "3             0.211600               0.219640                 0.0    0.023699   \n",
       "4             0.217641               0.225910                 0.0    0.024376   \n",
       "...                ...                    ...                 ...         ...   \n",
       "437995        0.000000               0.000000                 0.0    0.000000   \n",
       "437996        0.000000               0.000000                 0.0    0.000000   \n",
       "437997        0.003410               0.003539                 0.0    0.000382   \n",
       "437998        0.042714               0.044337                 0.0    0.004784   \n",
       "437999        0.069648               0.072294                 0.0    0.007801   \n",
       "\n",
       "        HeatingCost($)  CoolingCost($)  MonthlyCost($) Month  \n",
       "0             0.195988             0.0        0.215039    01  \n",
       "1             0.214117             0.0        0.234931    01  \n",
       "2             0.229268             0.0        0.251555    01  \n",
       "3             0.243800             0.0        0.267499    01  \n",
       "4             0.250760             0.0        0.275136    01  \n",
       "...                ...             ...             ...   ...  \n",
       "437995        0.000000             0.0        0.000000    12  \n",
       "437996        0.000000             0.0        0.000000    12  \n",
       "437997        0.003929             0.0        0.004310    12  \n",
       "437998        0.049214             0.0        0.053998    12  \n",
       "437999        0.080246             0.0        0.088047    12  \n",
       "\n",
       "[438000 rows x 11 columns]"
      ]
     },
     "execution_count": 36,
     "metadata": {},
     "output_type": "execute_result"
    }
   ],
   "source": [
    "allMonthlyData[\"Month\"] = allMonthlyData.Date_Time.str.slice(0,3)\n",
    "\n",
    "allMonthlyData"
   ]
  },
  {
   "cell_type": "markdown",
   "metadata": {},
   "source": [
    "## Group and Export Monthly Data\n",
    "Group dataframe by scenario and month<br>\n",
    "Export to file"
   ]
  },
  {
   "cell_type": "code",
   "execution_count": 37,
   "metadata": {
    "scrolled": true
   },
   "outputs": [],
   "source": [
    "# Group by scenario and date/time for export to graphing\n",
    "MonthlyData2 = allMonthlyData.groupby([\"Scenario\", \"Month\"], as_index=True)\n",
    "\n",
    "#MonthlyData2.sum()"
   ]
  },
  {
   "cell_type": "code",
   "execution_count": 38,
   "metadata": {},
   "outputs": [],
   "source": [
    "MonthlyDataFinal = MonthlyData2.sum()\n",
    "\n",
    "#MonthlyDataFinal"
   ]
  },
  {
   "cell_type": "code",
   "execution_count": 39,
   "metadata": {},
   "outputs": [],
   "source": [
    "# Drop Illuminance column...don't need the totals\n",
    "MonthlyDataFinal.drop(columns = [\"Illuminance(lux)\"], axis=1, inplace=True)"
   ]
  },
  {
   "cell_type": "code",
   "execution_count": 40,
   "metadata": {},
   "outputs": [],
   "source": [
    "# Export grouped file to csv (used before grouped by month)\n",
    "MonthlyDataFinal.round(2).to_csv(\"../Scraper_Output/hou_monthly_data.csv\", header=True, index=True)"
   ]
  },
  {
   "cell_type": "markdown",
   "metadata": {},
   "source": [
    "## Get Monthly Average Illuminance\n",
    "Get just the illuminance column<br>\n",
    "Group by scenario <br>\n",
    "Groups by month <br>"
   ]
  },
  {
   "cell_type": "code",
   "execution_count": 41,
   "metadata": {},
   "outputs": [],
   "source": [
    "Illuminance = allMonthlyData[[\"Scenario\", \"Date_Time\", \"Illuminance(lux)\", \"Month\"]]\n",
    "\n",
    "#Illuminance"
   ]
  },
  {
   "cell_type": "code",
   "execution_count": 42,
   "metadata": {},
   "outputs": [],
   "source": [
    "# Group by scenario\n",
    "MonthlyIlluminance = Illuminance.groupby([\"Scenario\", \"Month\"])\n",
    "\n",
    "#MonthlyIlluminance.mean()"
   ]
  },
  {
   "cell_type": "code",
   "execution_count": 43,
   "metadata": {},
   "outputs": [],
   "source": [
    "# Export grouped file to csv\n",
    "MonthlyIlluminance.mean().round(2).to_csv(\"../Scraper_Output/hou_monthly_illuminance.csv\", header=True, index=True)"
   ]
  },
  {
   "cell_type": "markdown",
   "metadata": {},
   "source": [
    "------\n",
    "\n",
    "## Get Hourly Energy Data\n",
    "Change units from Joules to kBtu to be able to combine heat, cool and fan<br>\n",
    "Drop unwanted columns"
   ]
  },
  {
   "cell_type": "code",
   "execution_count": 44,
   "metadata": {},
   "outputs": [],
   "source": [
    "# Copy dataframe to modify and leave original df intact\n",
    "all_data3 = all_data1.copy(deep=True)\n",
    "\n",
    "#all_data3"
   ]
  },
  {
   "cell_type": "code",
   "execution_count": 45,
   "metadata": {},
   "outputs": [],
   "source": [
    "# Get wanted columns\n",
    "# Include hourly illumance\n",
    "all_data3 = all_data3[[\"Scenario\",\n",
    "               \"Date/Time\",\n",
    "                             \"LIVING_UNIT1 DAYLIGHTINGCONTROLS:Daylighting Reference Point 1 Illuminance [lux](Hourly)\",\n",
    "                             \"SUPPLY FAN_UNIT1:Fan Electricity Energy [J](Hourly)\",\n",
    "                             \"MAIN GAS HEATING COIL_UNIT1:Heating Coil NaturalGas Energy [J](Hourly)\",\n",
    "                             \"DX COOLING COIL_UNIT1:Cooling Coil Electricity Energy [J](Hourly) \"\n",
    "                      ]]\n",
    "\n",
    "#all_data3"
   ]
  },
  {
   "cell_type": "code",
   "execution_count": 46,
   "metadata": {},
   "outputs": [],
   "source": [
    "# Rename Columns\n",
    "get_hourly = all_data3.rename(columns={\"Scenario\":\"Scenario\",\n",
    "                              \"Date/Time\":\"Date_Time\",\n",
    "                             \"LIVING_UNIT1 DAYLIGHTINGCONTROLS:Daylighting Reference Point 1 Illuminance [lux](Hourly)\":\"Illuminance(lux)\",\n",
    "                             \"SUPPLY FAN_UNIT1:Fan Electricity Energy [J](Hourly)\":\"FanEnergy[J](Hourly)\",\n",
    "                             \"MAIN GAS HEATING COIL_UNIT1:Heating Coil NaturalGas Energy [J](Hourly)\":\"HeatingEnergy[J](Hourly)\",\n",
    "                             \"DX COOLING COIL_UNIT1:Cooling Coil Electricity Energy [J](Hourly) \":\"CoolingEnergy[J](Hourly) \"\n",
    "                             })\n",
    "\n",
    "#get_hourly"
   ]
  },
  {
   "cell_type": "code",
   "execution_count": 47,
   "metadata": {},
   "outputs": [],
   "source": [
    "# Convert Joules to kBtus in new dataframe\n",
    "get_hourly[\"FanEnergy(kBtu)\"] = get_hourly[\"FanEnergy[J](Hourly)\"] * .00000094781712\n",
    "get_hourly[\"HeatingEnergy(kBtu)\"] = get_hourly[\"HeatingEnergy[J](Hourly)\"] * .00000094781712\n",
    "get_hourly[\"CoolingEnergy(kBtu)\"] = get_hourly[\"CoolingEnergy[J](Hourly) \"] * .00000094781712\n",
    "\n",
    "#get_hourly"
   ]
  },
  {
   "cell_type": "code",
   "execution_count": 48,
   "metadata": {},
   "outputs": [],
   "source": [
    "# Drop columns\n",
    "get_hourly.drop(columns = [\"FanEnergy[J](Hourly)\", \"HeatingEnergy[J](Hourly)\", \"CoolingEnergy[J](Hourly) \"], axis=1, inplace=True)\n",
    "\n",
    "#get_hourly"
   ]
  },
  {
   "cell_type": "code",
   "execution_count": 49,
   "metadata": {},
   "outputs": [],
   "source": [
    "#list(get_hourly.columns.values)"
   ]
  },
  {
   "cell_type": "markdown",
   "metadata": {},
   "source": [
    "------\n",
    "\n",
    "## Get Hourly Cost Data\n",
    "Add cost multiplier, variable needs to be defined above"
   ]
  },
  {
   "cell_type": "code",
   "execution_count": 50,
   "metadata": {},
   "outputs": [],
   "source": [
    "# Copy dataframe to modify and leave original df intact\n",
    "get_hourly_costs = all_data3.copy(deep=True)\n",
    "\n",
    "#get_hourly_costs"
   ]
  },
  {
   "cell_type": "code",
   "execution_count": 51,
   "metadata": {},
   "outputs": [],
   "source": [
    "# Rename Columns\n",
    "get_hourly_costs = get_hourly_costs.rename(columns={\"Scenario\":\"Scenario\",\n",
    "                              \"Date/Time\":\"Date_Time\",\n",
    "                             \"LIVING_UNIT1 DAYLIGHTINGCONTROLS:Daylighting Reference Point 1 Illuminance [lux](Hourly)\":\"Illuminance(lux)\",\n",
    "                             \"SUPPLY FAN_UNIT1:Fan Electricity Energy [J](Hourly)\":\"FanEnergy[J](Hourly)\",\n",
    "                             \"MAIN GAS HEATING COIL_UNIT1:Heating Coil NaturalGas Energy [J](Hourly)\":\"HeatingEnergy[J](Hourly)\",\n",
    "                             \"DX COOLING COIL_UNIT1:Cooling Coil Electricity Energy [J](Hourly) \":\"CoolingEnergy[J](Hourly) \"\n",
    "                             })\n",
    "\n",
    "# get_hourly_costs"
   ]
  },
  {
   "cell_type": "code",
   "execution_count": 52,
   "metadata": {},
   "outputs": [],
   "source": [
    "# Convert Joules to KBtu in dataframe and add cost multiplier\n",
    "# Gas kbtu => Mbtu => therms: (kbtu/1000) * 10\n",
    "# Elec kbtu => Kwh (kbtu * .000000277777778)\n",
    "get_hourly_costs[\"FanCost($)\"] = (get_hourly_costs[\"FanEnergy[J](Hourly)\"] * .000000277777778) * elec\n",
    "get_hourly_costs[\"HeatingCost($)\"] = ((get_hourly_costs[\"HeatingEnergy[J](Hourly)\"] * .00000094781712)/1000) * 10  * gas\n",
    "get_hourly_costs[\"CoolingCost($)\"] = (get_hourly_costs[\"CoolingEnergy[J](Hourly) \"] * .000000277777778) * elec\n",
    "\n",
    "#get_annual_costs"
   ]
  },
  {
   "cell_type": "code",
   "execution_count": 53,
   "metadata": {},
   "outputs": [],
   "source": [
    "# Drop columns\n",
    "get_hourly_costs.drop(columns = [\"FanEnergy[J](Hourly)\", \"HeatingEnergy[J](Hourly)\", \"CoolingEnergy[J](Hourly) \"], axis=1, inplace=True)\n",
    "\n",
    "#get_hourly_costs"
   ]
  },
  {
   "cell_type": "markdown",
   "metadata": {},
   "source": [
    "## Combine Hourly Energy and Cost Data\n",
    "Combine two dfs<br>\n",
    "Extract Date_Time<br>\n",
    "Export combine file"
   ]
  },
  {
   "cell_type": "code",
   "execution_count": 54,
   "metadata": {
    "scrolled": true
   },
   "outputs": [],
   "source": [
    "# Combine data for energy and cost\n",
    "allHourlyData = pd.merge(get_hourly, get_hourly_costs, how=\"inner\")\n",
    "\n",
    "#allHourlyData"
   ]
  },
  {
   "cell_type": "code",
   "execution_count": 55,
   "metadata": {},
   "outputs": [
    {
     "data": {
      "text/html": [
       "<div>\n",
       "<style scoped>\n",
       "    .dataframe tbody tr th:only-of-type {\n",
       "        vertical-align: middle;\n",
       "    }\n",
       "\n",
       "    .dataframe tbody tr th {\n",
       "        vertical-align: top;\n",
       "    }\n",
       "\n",
       "    .dataframe thead th {\n",
       "        text-align: right;\n",
       "    }\n",
       "</style>\n",
       "<table border=\"1\" class=\"dataframe\">\n",
       "  <thead>\n",
       "    <tr style=\"text-align: right;\">\n",
       "      <th></th>\n",
       "      <th>Scenario</th>\n",
       "      <th>Date_Time</th>\n",
       "      <th>Illuminance(lux)</th>\n",
       "      <th>FanEnergy(kBtu)</th>\n",
       "      <th>HeatingEnergy(kBtu)</th>\n",
       "      <th>CoolingEnergy(kBtu)</th>\n",
       "      <th>FanCost($)</th>\n",
       "      <th>HeatingCost($)</th>\n",
       "      <th>CoolingCost($)</th>\n",
       "      <th>Month</th>\n",
       "      <th>Day</th>\n",
       "      <th>Hour</th>\n",
       "    </tr>\n",
       "  </thead>\n",
       "  <tbody>\n",
       "    <tr>\n",
       "      <th>0</th>\n",
       "      <td>Clear/Clear</td>\n",
       "      <td>01/01  01:00:00</td>\n",
       "      <td>0.0</td>\n",
       "      <td>0.580415</td>\n",
       "      <td>17.656572</td>\n",
       "      <td>0.0</td>\n",
       "      <td>0.019052</td>\n",
       "      <td>0.195988</td>\n",
       "      <td>0.0</td>\n",
       "      <td>01</td>\n",
       "      <td>01</td>\n",
       "      <td>01:00:00</td>\n",
       "    </tr>\n",
       "    <tr>\n",
       "      <th>1</th>\n",
       "      <td>Clear/Clear</td>\n",
       "      <td>01/01  02:00:00</td>\n",
       "      <td>0.0</td>\n",
       "      <td>0.634104</td>\n",
       "      <td>19.289833</td>\n",
       "      <td>0.0</td>\n",
       "      <td>0.020814</td>\n",
       "      <td>0.214117</td>\n",
       "      <td>0.0</td>\n",
       "      <td>01</td>\n",
       "      <td>01</td>\n",
       "      <td>02:00:00</td>\n",
       "    </tr>\n",
       "    <tr>\n",
       "      <th>2</th>\n",
       "      <td>Clear/Clear</td>\n",
       "      <td>01/01  03:00:00</td>\n",
       "      <td>0.0</td>\n",
       "      <td>0.678973</td>\n",
       "      <td>20.654778</td>\n",
       "      <td>0.0</td>\n",
       "      <td>0.022287</td>\n",
       "      <td>0.229268</td>\n",
       "      <td>0.0</td>\n",
       "      <td>01</td>\n",
       "      <td>01</td>\n",
       "      <td>03:00:00</td>\n",
       "    </tr>\n",
       "    <tr>\n",
       "      <th>3</th>\n",
       "      <td>Clear/Clear</td>\n",
       "      <td>01/01  04:00:00</td>\n",
       "      <td>0.0</td>\n",
       "      <td>0.722009</td>\n",
       "      <td>21.963976</td>\n",
       "      <td>0.0</td>\n",
       "      <td>0.023699</td>\n",
       "      <td>0.243800</td>\n",
       "      <td>0.0</td>\n",
       "      <td>01</td>\n",
       "      <td>01</td>\n",
       "      <td>04:00:00</td>\n",
       "    </tr>\n",
       "    <tr>\n",
       "      <th>4</th>\n",
       "      <td>Clear/Clear</td>\n",
       "      <td>01/01  05:00:00</td>\n",
       "      <td>0.0</td>\n",
       "      <td>0.742622</td>\n",
       "      <td>22.591009</td>\n",
       "      <td>0.0</td>\n",
       "      <td>0.024376</td>\n",
       "      <td>0.250760</td>\n",
       "      <td>0.0</td>\n",
       "      <td>01</td>\n",
       "      <td>01</td>\n",
       "      <td>05:00:00</td>\n",
       "    </tr>\n",
       "    <tr>\n",
       "      <th>...</th>\n",
       "      <td>...</td>\n",
       "      <td>...</td>\n",
       "      <td>...</td>\n",
       "      <td>...</td>\n",
       "      <td>...</td>\n",
       "      <td>...</td>\n",
       "      <td>...</td>\n",
       "      <td>...</td>\n",
       "      <td>...</td>\n",
       "      <td>...</td>\n",
       "      <td>...</td>\n",
       "      <td>...</td>\n",
       "    </tr>\n",
       "    <tr>\n",
       "      <th>437995</th>\n",
       "      <td>lowE(2)/Clear-BBG75</td>\n",
       "      <td>12/31  20:00:00</td>\n",
       "      <td>0.0</td>\n",
       "      <td>0.000000</td>\n",
       "      <td>0.000000</td>\n",
       "      <td>0.0</td>\n",
       "      <td>0.000000</td>\n",
       "      <td>0.000000</td>\n",
       "      <td>0.0</td>\n",
       "      <td>12</td>\n",
       "      <td>31</td>\n",
       "      <td>20:00:00</td>\n",
       "    </tr>\n",
       "    <tr>\n",
       "      <th>437996</th>\n",
       "      <td>lowE(2)/Clear-BBG75</td>\n",
       "      <td>12/31  21:00:00</td>\n",
       "      <td>0.0</td>\n",
       "      <td>0.000000</td>\n",
       "      <td>0.000000</td>\n",
       "      <td>0.0</td>\n",
       "      <td>0.000000</td>\n",
       "      <td>0.000000</td>\n",
       "      <td>0.0</td>\n",
       "      <td>12</td>\n",
       "      <td>31</td>\n",
       "      <td>21:00:00</td>\n",
       "    </tr>\n",
       "    <tr>\n",
       "      <th>437997</th>\n",
       "      <td>lowE(2)/Clear-BBG75</td>\n",
       "      <td>12/31  22:00:00</td>\n",
       "      <td>0.0</td>\n",
       "      <td>0.011634</td>\n",
       "      <td>0.353927</td>\n",
       "      <td>0.0</td>\n",
       "      <td>0.000382</td>\n",
       "      <td>0.003929</td>\n",
       "      <td>0.0</td>\n",
       "      <td>12</td>\n",
       "      <td>31</td>\n",
       "      <td>22:00:00</td>\n",
       "    </tr>\n",
       "    <tr>\n",
       "      <th>437998</th>\n",
       "      <td>lowE(2)/Clear-BBG75</td>\n",
       "      <td>12/31  23:00:00</td>\n",
       "      <td>0.0</td>\n",
       "      <td>0.145747</td>\n",
       "      <td>4.433728</td>\n",
       "      <td>0.0</td>\n",
       "      <td>0.004784</td>\n",
       "      <td>0.049214</td>\n",
       "      <td>0.0</td>\n",
       "      <td>12</td>\n",
       "      <td>31</td>\n",
       "      <td>23:00:00</td>\n",
       "    </tr>\n",
       "    <tr>\n",
       "      <th>437999</th>\n",
       "      <td>lowE(2)/Clear-BBG75</td>\n",
       "      <td>12/31  24:00:00</td>\n",
       "      <td>0.0</td>\n",
       "      <td>0.237648</td>\n",
       "      <td>7.229397</td>\n",
       "      <td>0.0</td>\n",
       "      <td>0.007801</td>\n",
       "      <td>0.080246</td>\n",
       "      <td>0.0</td>\n",
       "      <td>12</td>\n",
       "      <td>31</td>\n",
       "      <td>24:00:00</td>\n",
       "    </tr>\n",
       "  </tbody>\n",
       "</table>\n",
       "<p>438000 rows × 12 columns</p>\n",
       "</div>"
      ],
      "text/plain": [
       "                   Scenario         Date_Time  Illuminance(lux)  \\\n",
       "0               Clear/Clear   01/01  01:00:00               0.0   \n",
       "1               Clear/Clear   01/01  02:00:00               0.0   \n",
       "2               Clear/Clear   01/01  03:00:00               0.0   \n",
       "3               Clear/Clear   01/01  04:00:00               0.0   \n",
       "4               Clear/Clear   01/01  05:00:00               0.0   \n",
       "...                     ...               ...               ...   \n",
       "437995  lowE(2)/Clear-BBG75   12/31  20:00:00               0.0   \n",
       "437996  lowE(2)/Clear-BBG75   12/31  21:00:00               0.0   \n",
       "437997  lowE(2)/Clear-BBG75   12/31  22:00:00               0.0   \n",
       "437998  lowE(2)/Clear-BBG75   12/31  23:00:00               0.0   \n",
       "437999  lowE(2)/Clear-BBG75   12/31  24:00:00               0.0   \n",
       "\n",
       "        FanEnergy(kBtu)  HeatingEnergy(kBtu)  CoolingEnergy(kBtu)  FanCost($)  \\\n",
       "0              0.580415            17.656572                  0.0    0.019052   \n",
       "1              0.634104            19.289833                  0.0    0.020814   \n",
       "2              0.678973            20.654778                  0.0    0.022287   \n",
       "3              0.722009            21.963976                  0.0    0.023699   \n",
       "4              0.742622            22.591009                  0.0    0.024376   \n",
       "...                 ...                  ...                  ...         ...   \n",
       "437995         0.000000             0.000000                  0.0    0.000000   \n",
       "437996         0.000000             0.000000                  0.0    0.000000   \n",
       "437997         0.011634             0.353927                  0.0    0.000382   \n",
       "437998         0.145747             4.433728                  0.0    0.004784   \n",
       "437999         0.237648             7.229397                  0.0    0.007801   \n",
       "\n",
       "        HeatingCost($)  CoolingCost($) Month Day      Hour  \n",
       "0             0.195988             0.0    01  01  01:00:00  \n",
       "1             0.214117             0.0    01  01  02:00:00  \n",
       "2             0.229268             0.0    01  01  03:00:00  \n",
       "3             0.243800             0.0    01  01  04:00:00  \n",
       "4             0.250760             0.0    01  01  05:00:00  \n",
       "...                ...             ...   ...  ..       ...  \n",
       "437995        0.000000             0.0    12  31  20:00:00  \n",
       "437996        0.000000             0.0    12  31  21:00:00  \n",
       "437997        0.003929             0.0    12  31  22:00:00  \n",
       "437998        0.049214             0.0    12  31  23:00:00  \n",
       "437999        0.080246             0.0    12  31  24:00:00  \n",
       "\n",
       "[438000 rows x 12 columns]"
      ]
     },
     "execution_count": 55,
     "metadata": {},
     "output_type": "execute_result"
    }
   ],
   "source": [
    "#Extract hour, day, month.\n",
    "allHourlyData[\"Month\"] = allHourlyData.Date_Time.str.slice(0,3)\n",
    "allHourlyData[\"Day\"] = allHourlyData.Date_Time.str.slice(4,6)\n",
    "#allHourlyData[\"Hour\"] = allHourlyData.Date_Time.str.slice(8,16)\n",
    "allHourlyData[\"Hour\"] = allHourlyData[\"Date_Time\"].astype(str).str[8:16]\n",
    "\n",
    "allHourlyData"
   ]
  },
  {
   "cell_type": "code",
   "execution_count": 56,
   "metadata": {},
   "outputs": [],
   "source": [
    "# Add energy and cost totals\n",
    "\n",
    "totalEnergyhourly = allHourlyData[\"FanEnergy(kBtu)\"] + allHourlyData[\"HeatingEnergy(kBtu)\"] + allHourlyData[\"CoolingEnergy(kBtu)\"]\n",
    "totalCosthourly = allHourlyData[\"FanCost($)\"] + allHourlyData[\"HeatingCost($)\"] + allHourlyData[\"CoolingCost($)\"]\n",
    "allHourlyData[\"HourlyEnergy(kBtu)\"] = totalEnergyhourly\n",
    "allHourlyData[\"HourlyCost($)\"] = totalCosthourly\n",
    "\n",
    "#allHourlyData"
   ]
  },
  {
   "cell_type": "code",
   "execution_count": 57,
   "metadata": {},
   "outputs": [],
   "source": [
    "#list(allHourlyData.columns.values)"
   ]
  },
  {
   "cell_type": "markdown",
   "metadata": {},
   "source": [
    "---\n",
    "\n",
    "## Establish Hourly Baseline at Clear/Clear-VB0\n",
    "\n",
    "Create dataset with just baselines.<br> \n",
    "Keep the units in kBtus to be able to eventually combine heating and cooling <br>\n",
    "Merge the baseline dataset with the full dataset.<br>\n",
    "Filter the data on the conditionals of illuminance and energy performance."
   ]
  },
  {
   "cell_type": "code",
   "execution_count": 58,
   "metadata": {},
   "outputs": [],
   "source": [
    "# Define the scenario for the baselines.\n",
    "# % improvement from Clear/Clear-VB0 (dual clear with a Venetian Blind at 0 degrees)\n",
    "baselineHourly = allHourlyData[allHourlyData[\"Scenario\"] == \"Clear/Clear-VB0\"]\n",
    "\n",
    "#baselineHourly"
   ]
  },
  {
   "cell_type": "code",
   "execution_count": 59,
   "metadata": {},
   "outputs": [],
   "source": [
    "# Rename columns to indicate baseline to prepare for merge\n",
    "\n",
    "allBaselineHourly = baselineHourly.rename(columns={\"Scenario\":\"B_Scenario\",\n",
    "                              \"Date_Time\":\"Date_Time\",\n",
    "                             \"Illuminance(lux)\":\"B_Illuminance(lux)\",\n",
    "                             \"FanEnergy(kBtu)\":\"B_FanEnergy(kBtu)\",\n",
    "                             \"HeatingEnergy(kBtu)\":\"B_HeatingEnergy(kBtu)\",\n",
    "                             \"CoolingEnergy(kBtu)\":\"B_CoolingEnergy(kBtu)\",\n",
    "                             \"HourlyEnergy(kBtu)\":\"B_HourlyEnergy(kBtu)\",\n",
    "                             \"FanCost($)\":\"B_FanEnergy($)\",\n",
    "                             \"HeatingCost($)\":\"B_HeatingCost($)\",\n",
    "                             \"CoolingCost($)\":\"B_CoolingCost($)\",\n",
    "                             \"HourlyCost($)\":\"B_HourlyCost($)\",\n",
    "                             \"Month\":\"B_Month\",\n",
    "                             \"Day\":\"B_Day\",\n",
    "                             \"Hour\":\"B_Hour\"\n",
    "                             })\n",
    "\n",
    "#allBaselineHourly"
   ]
  },
  {
   "cell_type": "code",
   "execution_count": 60,
   "metadata": {},
   "outputs": [],
   "source": [
    "# Merge the dataframes to include the baseline data.\n",
    "hourlyWithBaseline = pd.merge(allHourlyData, allBaselineHourly, on=\"Date_Time\", how=\"left\")\n",
    "\n",
    "#hourlyWithBaseline"
   ]
  },
  {
   "cell_type": "code",
   "execution_count": 61,
   "metadata": {},
   "outputs": [],
   "source": [
    "#list(hourlyWithBaseline.columns.values)"
   ]
  },
  {
   "cell_type": "code",
   "execution_count": 62,
   "metadata": {},
   "outputs": [],
   "source": [
    "# Add column for the difference from baseline columns (scenario - baseline)\n",
    "hourlyWithBaseline[\"deltaEnergy(kBtu)\"] = hourlyWithBaseline[\"HourlyEnergy(kBtu)\"] - hourlyWithBaseline[\"B_HourlyEnergy(kBtu)\"]\n",
    "hourlyWithBaseline[\"deltaCost($)\"] = hourlyWithBaseline[\"HourlyCost($)\"] - hourlyWithBaseline[\"B_HourlyCost($)\"]\n",
    "hourlyWithBaseline[\"%deltaEnergy(kBtu)\"] = (hourlyWithBaseline[\"HourlyEnergy(kBtu)\"] - hourlyWithBaseline[\"B_HourlyEnergy(kBtu)\"]) / hourlyWithBaseline[\"B_HourlyEnergy(kBtu)\"].replace({0:np.nan}) \n",
    "hourlyWithBaseline[\"%deltaCost($)\"] = (hourlyWithBaseline[\"HourlyCost($)\"] - hourlyWithBaseline[\"B_HourlyCost($)\"]) / hourlyWithBaseline[\"B_HourlyCost($)\"].replace({0:np.nan}) \n",
    "\n",
    "#hourlyWithBaseline"
   ]
  },
  {
   "cell_type": "code",
   "execution_count": 63,
   "metadata": {},
   "outputs": [],
   "source": [
    "# Convert NANs to 0\n",
    "hourlyWithBaseline =hourlyWithBaseline.fillna(0)\n",
    "\n",
    "#hourlyWithBaseline"
   ]
  },
  {
   "cell_type": "code",
   "execution_count": 64,
   "metadata": {},
   "outputs": [],
   "source": [
    "# Export hourly data with baseline difference file to csv\n",
    "hourlyWithBaseline.to_csv(\"../Scraper_Output/hou_hourly_data.csv\", header=True, index=True)"
   ]
  },
  {
   "cell_type": "markdown",
   "metadata": {},
   "source": [
    "---\n",
    "\n",
    "## Add conditionals\n",
    "\n",
    "Illumination >= 300.<br> \n",
    "EnergyPerformance <= selected percentage."
   ]
  },
  {
   "cell_type": "code",
   "execution_count": 65,
   "metadata": {},
   "outputs": [
    {
     "data": {
      "text/html": [
       "<div>\n",
       "<style scoped>\n",
       "    .dataframe tbody tr th:only-of-type {\n",
       "        vertical-align: middle;\n",
       "    }\n",
       "\n",
       "    .dataframe tbody tr th {\n",
       "        vertical-align: top;\n",
       "    }\n",
       "\n",
       "    .dataframe thead th {\n",
       "        text-align: right;\n",
       "    }\n",
       "</style>\n",
       "<table border=\"1\" class=\"dataframe\">\n",
       "  <thead>\n",
       "    <tr style=\"text-align: right;\">\n",
       "      <th></th>\n",
       "      <th>Scenario</th>\n",
       "      <th>Date_Time</th>\n",
       "      <th>Illuminance(lux)</th>\n",
       "      <th>FanEnergy(kBtu)</th>\n",
       "      <th>HeatingEnergy(kBtu)</th>\n",
       "      <th>CoolingEnergy(kBtu)</th>\n",
       "      <th>FanCost($)</th>\n",
       "      <th>HeatingCost($)</th>\n",
       "      <th>CoolingCost($)</th>\n",
       "      <th>Month</th>\n",
       "      <th>...</th>\n",
       "      <th>B_CoolingCost($)</th>\n",
       "      <th>B_Month</th>\n",
       "      <th>B_Day</th>\n",
       "      <th>B_Hour</th>\n",
       "      <th>B_HourlyEnergy(kBtu)</th>\n",
       "      <th>B_HourlyCost($)</th>\n",
       "      <th>deltaEnergy(kBtu)</th>\n",
       "      <th>deltaCost($)</th>\n",
       "      <th>%deltaEnergy(kBtu)</th>\n",
       "      <th>%deltaCost($)</th>\n",
       "    </tr>\n",
       "  </thead>\n",
       "  <tbody>\n",
       "    <tr>\n",
       "      <th>8</th>\n",
       "      <td>Clear/Clear</td>\n",
       "      <td>01/01  09:00:00</td>\n",
       "      <td>916.110486</td>\n",
       "      <td>0.382079</td>\n",
       "      <td>11.623076</td>\n",
       "      <td>0.00000</td>\n",
       "      <td>0.012541</td>\n",
       "      <td>0.129016</td>\n",
       "      <td>0.000000</td>\n",
       "      <td>01</td>\n",
       "      <td>...</td>\n",
       "      <td>0.00000</td>\n",
       "      <td>01</td>\n",
       "      <td>01</td>\n",
       "      <td>09:00:00</td>\n",
       "      <td>11.917324</td>\n",
       "      <td>0.140522</td>\n",
       "      <td>0.087830</td>\n",
       "      <td>0.001036</td>\n",
       "      <td>0.007370</td>\n",
       "      <td>0.007370</td>\n",
       "    </tr>\n",
       "    <tr>\n",
       "      <th>9</th>\n",
       "      <td>Clear/Clear</td>\n",
       "      <td>01/01  10:00:00</td>\n",
       "      <td>1252.311322</td>\n",
       "      <td>0.047685</td>\n",
       "      <td>1.450606</td>\n",
       "      <td>0.00000</td>\n",
       "      <td>0.001565</td>\n",
       "      <td>0.016102</td>\n",
       "      <td>0.000000</td>\n",
       "      <td>01</td>\n",
       "      <td>...</td>\n",
       "      <td>0.00000</td>\n",
       "      <td>01</td>\n",
       "      <td>01</td>\n",
       "      <td>10:00:00</td>\n",
       "      <td>2.096148</td>\n",
       "      <td>0.024717</td>\n",
       "      <td>-0.597857</td>\n",
       "      <td>-0.007050</td>\n",
       "      <td>-0.285217</td>\n",
       "      <td>-0.285217</td>\n",
       "    </tr>\n",
       "    <tr>\n",
       "      <th>10</th>\n",
       "      <td>Clear/Clear</td>\n",
       "      <td>01/01  11:00:00</td>\n",
       "      <td>2064.821629</td>\n",
       "      <td>0.000000</td>\n",
       "      <td>0.000000</td>\n",
       "      <td>0.00000</td>\n",
       "      <td>0.000000</td>\n",
       "      <td>0.000000</td>\n",
       "      <td>0.000000</td>\n",
       "      <td>01</td>\n",
       "      <td>...</td>\n",
       "      <td>0.00000</td>\n",
       "      <td>01</td>\n",
       "      <td>01</td>\n",
       "      <td>11:00:00</td>\n",
       "      <td>0.000000</td>\n",
       "      <td>0.000000</td>\n",
       "      <td>0.000000</td>\n",
       "      <td>0.000000</td>\n",
       "      <td>0.000000</td>\n",
       "      <td>0.000000</td>\n",
       "    </tr>\n",
       "    <tr>\n",
       "      <th>11</th>\n",
       "      <td>Clear/Clear</td>\n",
       "      <td>01/01  12:00:00</td>\n",
       "      <td>26693.640010</td>\n",
       "      <td>0.000000</td>\n",
       "      <td>0.000000</td>\n",
       "      <td>0.00000</td>\n",
       "      <td>0.000000</td>\n",
       "      <td>0.000000</td>\n",
       "      <td>0.000000</td>\n",
       "      <td>01</td>\n",
       "      <td>...</td>\n",
       "      <td>0.00000</td>\n",
       "      <td>01</td>\n",
       "      <td>01</td>\n",
       "      <td>12:00:00</td>\n",
       "      <td>0.000000</td>\n",
       "      <td>0.000000</td>\n",
       "      <td>0.000000</td>\n",
       "      <td>0.000000</td>\n",
       "      <td>0.000000</td>\n",
       "      <td>0.000000</td>\n",
       "    </tr>\n",
       "    <tr>\n",
       "      <th>12</th>\n",
       "      <td>Clear/Clear</td>\n",
       "      <td>01/01  13:00:00</td>\n",
       "      <td>44152.458090</td>\n",
       "      <td>0.085454</td>\n",
       "      <td>0.000000</td>\n",
       "      <td>0.46433</td>\n",
       "      <td>0.002805</td>\n",
       "      <td>0.000000</td>\n",
       "      <td>0.015241</td>\n",
       "      <td>01</td>\n",
       "      <td>...</td>\n",
       "      <td>0.00000</td>\n",
       "      <td>01</td>\n",
       "      <td>01</td>\n",
       "      <td>13:00:00</td>\n",
       "      <td>0.000000</td>\n",
       "      <td>0.000000</td>\n",
       "      <td>0.549784</td>\n",
       "      <td>0.018046</td>\n",
       "      <td>0.000000</td>\n",
       "      <td>0.000000</td>\n",
       "    </tr>\n",
       "    <tr>\n",
       "      <th>...</th>\n",
       "      <td>...</td>\n",
       "      <td>...</td>\n",
       "      <td>...</td>\n",
       "      <td>...</td>\n",
       "      <td>...</td>\n",
       "      <td>...</td>\n",
       "      <td>...</td>\n",
       "      <td>...</td>\n",
       "      <td>...</td>\n",
       "      <td>...</td>\n",
       "      <td>...</td>\n",
       "      <td>...</td>\n",
       "      <td>...</td>\n",
       "      <td>...</td>\n",
       "      <td>...</td>\n",
       "      <td>...</td>\n",
       "      <td>...</td>\n",
       "      <td>...</td>\n",
       "      <td>...</td>\n",
       "      <td>...</td>\n",
       "      <td>...</td>\n",
       "    </tr>\n",
       "    <tr>\n",
       "      <th>429155</th>\n",
       "      <td>lowE(2)/Clear-BBG60</td>\n",
       "      <td>12/28  12:00:00</td>\n",
       "      <td>304.374930</td>\n",
       "      <td>0.162792</td>\n",
       "      <td>4.952231</td>\n",
       "      <td>0.00000</td>\n",
       "      <td>0.005343</td>\n",
       "      <td>0.054970</td>\n",
       "      <td>0.000000</td>\n",
       "      <td>12</td>\n",
       "      <td>...</td>\n",
       "      <td>0.00000</td>\n",
       "      <td>12</td>\n",
       "      <td>28</td>\n",
       "      <td>12:00:00</td>\n",
       "      <td>0.000000</td>\n",
       "      <td>0.000000</td>\n",
       "      <td>5.115023</td>\n",
       "      <td>0.060313</td>\n",
       "      <td>0.000000</td>\n",
       "      <td>0.000000</td>\n",
       "    </tr>\n",
       "    <tr>\n",
       "      <th>429203</th>\n",
       "      <td>lowE(2)/Clear-BBG60</td>\n",
       "      <td>12/30  12:00:00</td>\n",
       "      <td>308.241751</td>\n",
       "      <td>0.130722</td>\n",
       "      <td>3.976636</td>\n",
       "      <td>0.00000</td>\n",
       "      <td>0.004291</td>\n",
       "      <td>0.044141</td>\n",
       "      <td>0.000000</td>\n",
       "      <td>12</td>\n",
       "      <td>...</td>\n",
       "      <td>0.00000</td>\n",
       "      <td>12</td>\n",
       "      <td>30</td>\n",
       "      <td>12:00:00</td>\n",
       "      <td>0.000000</td>\n",
       "      <td>0.000000</td>\n",
       "      <td>4.107358</td>\n",
       "      <td>0.048431</td>\n",
       "      <td>0.000000</td>\n",
       "      <td>0.000000</td>\n",
       "    </tr>\n",
       "    <tr>\n",
       "      <th>429226</th>\n",
       "      <td>lowE(2)/Clear-BBG60</td>\n",
       "      <td>12/31  11:00:00</td>\n",
       "      <td>306.507098</td>\n",
       "      <td>0.187002</td>\n",
       "      <td>5.688718</td>\n",
       "      <td>0.00000</td>\n",
       "      <td>0.006138</td>\n",
       "      <td>0.063145</td>\n",
       "      <td>0.000000</td>\n",
       "      <td>12</td>\n",
       "      <td>...</td>\n",
       "      <td>0.00000</td>\n",
       "      <td>12</td>\n",
       "      <td>31</td>\n",
       "      <td>11:00:00</td>\n",
       "      <td>0.000000</td>\n",
       "      <td>0.000000</td>\n",
       "      <td>5.875720</td>\n",
       "      <td>0.069283</td>\n",
       "      <td>0.000000</td>\n",
       "      <td>0.000000</td>\n",
       "    </tr>\n",
       "    <tr>\n",
       "      <th>429227</th>\n",
       "      <td>lowE(2)/Clear-BBG60</td>\n",
       "      <td>12/31  12:00:00</td>\n",
       "      <td>315.096196</td>\n",
       "      <td>0.054647</td>\n",
       "      <td>1.662409</td>\n",
       "      <td>0.00000</td>\n",
       "      <td>0.001794</td>\n",
       "      <td>0.018453</td>\n",
       "      <td>0.000000</td>\n",
       "      <td>12</td>\n",
       "      <td>...</td>\n",
       "      <td>0.00000</td>\n",
       "      <td>12</td>\n",
       "      <td>31</td>\n",
       "      <td>12:00:00</td>\n",
       "      <td>0.000000</td>\n",
       "      <td>0.000000</td>\n",
       "      <td>1.717057</td>\n",
       "      <td>0.020246</td>\n",
       "      <td>0.000000</td>\n",
       "      <td>0.000000</td>\n",
       "    </tr>\n",
       "    <tr>\n",
       "      <th>429228</th>\n",
       "      <td>lowE(2)/Clear-BBG60</td>\n",
       "      <td>12/31  13:00:00</td>\n",
       "      <td>301.681003</td>\n",
       "      <td>0.000000</td>\n",
       "      <td>0.000000</td>\n",
       "      <td>0.00000</td>\n",
       "      <td>0.000000</td>\n",
       "      <td>0.000000</td>\n",
       "      <td>0.000000</td>\n",
       "      <td>12</td>\n",
       "      <td>...</td>\n",
       "      <td>0.02684</td>\n",
       "      <td>12</td>\n",
       "      <td>31</td>\n",
       "      <td>13:00:00</td>\n",
       "      <td>0.968815</td>\n",
       "      <td>0.031800</td>\n",
       "      <td>-0.968815</td>\n",
       "      <td>-0.031800</td>\n",
       "      <td>-1.000000</td>\n",
       "      <td>-1.000000</td>\n",
       "    </tr>\n",
       "  </tbody>\n",
       "</table>\n",
       "<p>133193 rows × 31 columns</p>\n",
       "</div>"
      ],
      "text/plain": [
       "                   Scenario         Date_Time  Illuminance(lux)  \\\n",
       "8               Clear/Clear   01/01  09:00:00        916.110486   \n",
       "9               Clear/Clear   01/01  10:00:00       1252.311322   \n",
       "10              Clear/Clear   01/01  11:00:00       2064.821629   \n",
       "11              Clear/Clear   01/01  12:00:00      26693.640010   \n",
       "12              Clear/Clear   01/01  13:00:00      44152.458090   \n",
       "...                     ...               ...               ...   \n",
       "429155  lowE(2)/Clear-BBG60   12/28  12:00:00        304.374930   \n",
       "429203  lowE(2)/Clear-BBG60   12/30  12:00:00        308.241751   \n",
       "429226  lowE(2)/Clear-BBG60   12/31  11:00:00        306.507098   \n",
       "429227  lowE(2)/Clear-BBG60   12/31  12:00:00        315.096196   \n",
       "429228  lowE(2)/Clear-BBG60   12/31  13:00:00        301.681003   \n",
       "\n",
       "        FanEnergy(kBtu)  HeatingEnergy(kBtu)  CoolingEnergy(kBtu)  FanCost($)  \\\n",
       "8              0.382079            11.623076              0.00000    0.012541   \n",
       "9              0.047685             1.450606              0.00000    0.001565   \n",
       "10             0.000000             0.000000              0.00000    0.000000   \n",
       "11             0.000000             0.000000              0.00000    0.000000   \n",
       "12             0.085454             0.000000              0.46433    0.002805   \n",
       "...                 ...                  ...                  ...         ...   \n",
       "429155         0.162792             4.952231              0.00000    0.005343   \n",
       "429203         0.130722             3.976636              0.00000    0.004291   \n",
       "429226         0.187002             5.688718              0.00000    0.006138   \n",
       "429227         0.054647             1.662409              0.00000    0.001794   \n",
       "429228         0.000000             0.000000              0.00000    0.000000   \n",
       "\n",
       "        HeatingCost($)  CoolingCost($) Month  ... B_CoolingCost($) B_Month  \\\n",
       "8             0.129016        0.000000    01  ...          0.00000      01   \n",
       "9             0.016102        0.000000    01  ...          0.00000      01   \n",
       "10            0.000000        0.000000    01  ...          0.00000      01   \n",
       "11            0.000000        0.000000    01  ...          0.00000      01   \n",
       "12            0.000000        0.015241    01  ...          0.00000      01   \n",
       "...                ...             ...   ...  ...              ...     ...   \n",
       "429155        0.054970        0.000000    12  ...          0.00000      12   \n",
       "429203        0.044141        0.000000    12  ...          0.00000      12   \n",
       "429226        0.063145        0.000000    12  ...          0.00000      12   \n",
       "429227        0.018453        0.000000    12  ...          0.00000      12   \n",
       "429228        0.000000        0.000000    12  ...          0.02684      12   \n",
       "\n",
       "        B_Day    B_Hour B_HourlyEnergy(kBtu)  B_HourlyCost($)  \\\n",
       "8          01  09:00:00            11.917324         0.140522   \n",
       "9          01  10:00:00             2.096148         0.024717   \n",
       "10         01  11:00:00             0.000000         0.000000   \n",
       "11         01  12:00:00             0.000000         0.000000   \n",
       "12         01  13:00:00             0.000000         0.000000   \n",
       "...       ...       ...                  ...              ...   \n",
       "429155     28  12:00:00             0.000000         0.000000   \n",
       "429203     30  12:00:00             0.000000         0.000000   \n",
       "429226     31  11:00:00             0.000000         0.000000   \n",
       "429227     31  12:00:00             0.000000         0.000000   \n",
       "429228     31  13:00:00             0.968815         0.031800   \n",
       "\n",
       "        deltaEnergy(kBtu)  deltaCost($)  %deltaEnergy(kBtu)  %deltaCost($)  \n",
       "8                0.087830      0.001036            0.007370       0.007370  \n",
       "9               -0.597857     -0.007050           -0.285217      -0.285217  \n",
       "10               0.000000      0.000000            0.000000       0.000000  \n",
       "11               0.000000      0.000000            0.000000       0.000000  \n",
       "12               0.549784      0.018046            0.000000       0.000000  \n",
       "...                   ...           ...                 ...            ...  \n",
       "429155           5.115023      0.060313            0.000000       0.000000  \n",
       "429203           4.107358      0.048431            0.000000       0.000000  \n",
       "429226           5.875720      0.069283            0.000000       0.000000  \n",
       "429227           1.717057      0.020246            0.000000       0.000000  \n",
       "429228          -0.968815     -0.031800           -1.000000      -1.000000  \n",
       "\n",
       "[133193 rows x 31 columns]"
      ]
     },
     "execution_count": 65,
     "metadata": {},
     "output_type": "execute_result"
    }
   ],
   "source": [
    "conditionals = hourlyWithBaseline[hourlyWithBaseline[\"Illuminance(lux)\"] >= 300]\n",
    "\n",
    "conditionals"
   ]
  },
  {
   "cell_type": "code",
   "execution_count": 66,
   "metadata": {},
   "outputs": [],
   "source": [
    "# # Create datasets that show reduction in energy and cost 10, 20 and 30%\n",
    "\n",
    "# energy10 = conditionals[conditionals[\"HourlyEnergy(kBtu)\"] <= (conditionals[\"B_HourlyEnergy(kBtu)\"] * .9)]\n",
    "# energy20 = conditionals[conditionals[\"HourlyEnergy(kBtu)\"] <= (conditionals[\"B_HourlyEnergy(kBtu)\"] * .8)]\n",
    "# energy30 = conditionals[conditionals[\"HourlyEnergy(kBtu)\"] <= (conditionals[\"B_HourlyEnergy(kBtu)\"] * .7)]\n",
    "# energy40 = conditionals[conditionals[\"HourlyEnergy(kBtu)\"] <= (conditionals[\"B_HourlyEnergy(kBtu)\"] * .6)]\n",
    "# cost10 = conditionals[conditionals[\"HourlyCost($)\"] <= (conditionals[\"B_HourlyCost($)\"] * .9)]\n",
    "# cost20 = conditionals[conditionals[\"HourlyCost($)\"] <= (conditionals[\"B_HourlyCost($)\"] * .8)]\n",
    "# cost30 = conditionals[conditionals[\"HourlyCost($)\"] <= (conditionals[\"B_HourlyCost($)\"] * .7)]\n",
    "# cost40 = conditionals[conditionals[\"HourlyCost($)\"] <= (conditionals[\"B_HourlyCost($)\"] * .6)]"
   ]
  },
  {
   "cell_type": "code",
   "execution_count": 67,
   "metadata": {},
   "outputs": [],
   "source": [
    "# Export hourly conditional data with to csvs\n",
    "conditionals.to_csv(\"../Scraper_Output/hou_conditionals_data.csv\", header=True, index=True)\n",
    "# energy10.to_csv(\"../Scraper_Output/hou_energy10_data.csv\", header=True, index=True)\n",
    "# energy20.to_csv(\"../Scraper_Output/hou_energy20_data.csv\", header=True, index=True)\n",
    "# energy30.to_csv(\"../Scraper_Output/hou_energy30_data.csv\", header=True, index=True)\n",
    "# energy40.to_csv(\"../Scraper_Output/hou_energy40_data.csv\", header=True, index=True)\n",
    "# cost10.to_csv(\"../Scraper_Output/hou_cost10_data.csv\", header=True, index=True)\n",
    "# cost20.to_csv(\"../Scraper_Output/hou_cost20_data.csv\", header=True, index=True)\n",
    "# cost30.to_csv(\"../Scraper_Output/hou_cost30_data.csv\", header=True, index=True)\n",
    "# cost40.to_csv(\"../Scraper_Output/hou_cost40_data.csv\", header=True, index=True)"
   ]
  }
 ],
 "metadata": {
  "kernelspec": {
   "display_name": "Python 3",
   "language": "python",
   "name": "python3"
  },
  "language_info": {
   "codemirror_mode": {
    "name": "ipython",
    "version": 3
   },
   "file_extension": ".py",
   "mimetype": "text/x-python",
   "name": "python",
   "nbconvert_exporter": "python",
   "pygments_lexer": "ipython3",
   "version": "3.6.10"
  },
  "varInspector": {
   "cols": {
    "lenName": 16,
    "lenType": 16,
    "lenVar": 40
   },
   "kernels_config": {
    "python": {
     "delete_cmd_postfix": "",
     "delete_cmd_prefix": "del ",
     "library": "var_list.py",
     "varRefreshCmd": "print(var_dic_list())"
    },
    "r": {
     "delete_cmd_postfix": ") ",
     "delete_cmd_prefix": "rm(",
     "library": "var_list.r",
     "varRefreshCmd": "cat(var_dic_list()) "
    }
   },
   "types_to_exclude": [
    "module",
    "function",
    "builtin_function_or_method",
    "instance",
    "_Feature"
   ],
   "window_display": false
  }
 },
 "nbformat": 4,
 "nbformat_minor": 2
}
