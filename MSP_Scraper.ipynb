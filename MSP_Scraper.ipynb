{
 "cells": [
  {
   "cell_type": "markdown",
   "metadata": {},
   "source": [
    "# Minneapolis, MN Simulations\n",
    "8760 rows per simulation<br>\n",
    "196 files (removed cell-in-cell)"
   ]
  },
  {
   "cell_type": "code",
   "execution_count": 1,
   "metadata": {},
   "outputs": [],
   "source": [
    "# Dependencies\n",
    "import pandas as pd\n",
    "import os\n",
    "import numpy as np\n",
    "import pprint\n",
    "from pathlib import Path\n",
    "from datetime import datetime"
   ]
  },
  {
   "cell_type": "markdown",
   "metadata": {},
   "source": [
    "## Energy Conversions\n",
    "\n",
    "As per E* Documentation<br>\n",
    "\n",
    "Joules --> kBtu (multiply by .00000094781712)<br>\n",
    "Joules --> kWh (multiply by .000000277777778) or (divide by 3600000)<br>\n",
    "Joules --> therms (multiply by .0000000094781712<br>\n",
    "\n",
    "foot-candles --> Lux (multiply by 10.7642)"
   ]
  },
  {
   "cell_type": "markdown",
   "metadata": {},
   "source": [
    "<div>\n",
    "    <img src=\"static/images/elect_conv.png\" width=\"400\"/>\n",
    "     <img src=\"static/images/gas_conv.png\" width=\"400\"/>\n",
    "</div"
   ]
  },
  {
   "cell_type": "code",
   "execution_count": 2,
   "metadata": {},
   "outputs": [],
   "source": [
    "# 2018 Egrid Costs (elec $/kWh, gas $/therm), change values per city\n",
    "gas = 0.83\n",
    "elec = 0.1314"
   ]
  },
  {
   "cell_type": "markdown",
   "metadata": {},
   "source": [
    "---\n",
    "\n",
    "## Combine CSV Files in Directory"
   ]
  },
  {
   "cell_type": "code",
   "execution_count": 3,
   "metadata": {},
   "outputs": [],
   "source": [
    "# Create variable for files in directory\n",
    "files = [f for f in os.listdir(\"data/msp/\") if f.endswith(\".csv\")]\n",
    "\n",
    "# files"
   ]
  },
  {
   "cell_type": "code",
   "execution_count": 4,
   "metadata": {},
   "outputs": [],
   "source": [
    "# https://stackoverflow.com/questions/63886787/how-to-create-a-dataframe-from-multiple-csv-files\n",
    "# Initialize and empty dataframe\n",
    "all_data = pd.DataFrame()\n",
    "\n",
    "# Iterate through files and contents, then concatenate the data into the dataframe\n",
    "for file in files:\n",
    "    df = pd.read_csv(\"data/msp/\" + file)\n",
    "    all_data = pd.concat([all_data, df])\n",
    "    \n",
    "#all_data\n",
    "\n",
    "# 1716960  rows, 73 columns"
   ]
  },
  {
   "cell_type": "code",
   "execution_count": 5,
   "metadata": {},
   "outputs": [],
   "source": [
    "# all_data.dtypes"
   ]
  },
  {
   "cell_type": "code",
   "execution_count": 6,
   "metadata": {},
   "outputs": [],
   "source": [
    "# Get wanted columns\n",
    "all_data1 = all_data[[\"Scenario\",\n",
    "               \"Date/Time\",\n",
    "              \"LIVING_UNIT1 DAYLIGHTINGCONTROLS:Daylighting Reference Point 1 Illuminance [lux](Hourly)\",\n",
    "              \"SUPPLY FAN_UNIT1:Fan Electricity Energy [J](Hourly)\",\n",
    "              \"MAIN GAS HEATING COIL_UNIT1:Heating Coil NaturalGas Energy [J](Hourly)\",\n",
    "              \"DX COOLING COIL_UNIT1:Cooling Coil Electricity Energy [J](Hourly) \"]]\n",
    "\n",
    "#all_data1"
   ]
  },
  {
   "cell_type": "code",
   "execution_count": 7,
   "metadata": {},
   "outputs": [],
   "source": [
    "all_data1 = all_data1.dropna().reset_index(drop=True)\n",
    "\n",
    "#all_data1\n",
    "\n",
    "#1716960  rows, 73 columns"
   ]
  },
  {
   "cell_type": "markdown",
   "metadata": {},
   "source": [
    "-----\n",
    "\n",
    "## Get the Wanted Data (columns)"
   ]
  },
  {
   "cell_type": "code",
   "execution_count": 8,
   "metadata": {
    "scrolled": true
   },
   "outputs": [],
   "source": [
    "# Rename Columns\n",
    "all_data2 = all_data1.rename(columns={\"Scenario\":\"Scenario\",\n",
    "                              \"Date/Time\":\"Date_Time\",\n",
    "                             \"LIVING_UNIT1 DAYLIGHTINGCONTROLS:Daylighting Reference Point 1 Illuminance [lux](Hourly)\":\"Illuminance(lux)\",\n",
    "                             \"SUPPLY FAN_UNIT1:Fan Electricity Energy [J](Hourly)\":\"FanEnergy[J](Hourly)\",\n",
    "                             \"MAIN GAS HEATING COIL_UNIT1:Heating Coil NaturalGas Energy [J](Hourly)\":\"HeatingEnergy[J](Hourly)\",\n",
    "                             \"DX COOLING COIL_UNIT1:Cooling Coil Electricity Energy [J](Hourly) \":\"CoolingEnergy[J](Hourly) \"\n",
    "                             })\n",
    "\n",
    "#all_data2\n",
    "\n",
    "#1716960  rows, 6 columns"
   ]
  },
  {
   "cell_type": "markdown",
   "metadata": {},
   "source": [
    "-----\n",
    "\n",
    "## Get Annual Energy Data\n",
    "Convert units from Joules to kBtu<br>\n",
    "Drop Illuminance column<br>\n"
   ]
  },
  {
   "cell_type": "code",
   "execution_count": 9,
   "metadata": {},
   "outputs": [],
   "source": [
    "# Copy dataframe to modify and leave original df intact\n",
    "get_annual = all_data2.copy(deep=True)\n",
    "\n",
    "#get_annual"
   ]
  },
  {
   "cell_type": "code",
   "execution_count": 10,
   "metadata": {},
   "outputs": [],
   "source": [
    "# Convert Joules to KBtu in dataframe\n",
    "get_annual[\"FanEnergy(kBtu)\"] = get_annual[\"FanEnergy[J](Hourly)\"] * .00000094781712\n",
    "get_annual[\"HeatingEnergy(kBtu)\"] = get_annual[\"HeatingEnergy[J](Hourly)\"] * .00000094781712\n",
    "get_annual[\"CoolingEnergy(kBtu)\"] = get_annual[\"CoolingEnergy[J](Hourly) \"] * .00000094781712\n",
    "\n",
    "#get_annual"
   ]
  },
  {
   "cell_type": "code",
   "execution_count": 11,
   "metadata": {},
   "outputs": [],
   "source": [
    "# Drop columns\n",
    "get_annual.drop(columns = [\"FanEnergy[J](Hourly)\", \"HeatingEnergy[J](Hourly)\", \"CoolingEnergy[J](Hourly) \"], axis=1, inplace=True)\n",
    "\n",
    "#get_annual"
   ]
  },
  {
   "cell_type": "markdown",
   "metadata": {},
   "source": [
    "---\n",
    "\n",
    "## Get Annual Cost Data\n",
    "Convert units from Joules to kBtu<br>\n",
    "Drop Illuminance column<br>\n",
    "Add cost multiplier, variables defined above"
   ]
  },
  {
   "cell_type": "code",
   "execution_count": 12,
   "metadata": {},
   "outputs": [],
   "source": [
    "# Get annual costs\n",
    "get_annual_costs = all_data2.copy(deep=True)"
   ]
  },
  {
   "cell_type": "code",
   "execution_count": 13,
   "metadata": {},
   "outputs": [],
   "source": [
    "# Convert Joules to KBtu in dataframe and add cost multiplier\n",
    "# Gas kbtu => Mbtu => therms: (kbtu/1000) * 10\n",
    "# Elec kbtu => Kwh (kbtu * .000000277777778)\n",
    "get_annual_costs[\"FanCost($)\"] = (get_annual_costs[\"FanEnergy[J](Hourly)\"] * .000000277777778) * elec\n",
    "get_annual_costs[\"HeatingCost($)\"] = ((get_annual_costs[\"HeatingEnergy[J](Hourly)\"] * .00000094781712)/1000) * 10  * gas\n",
    "get_annual_costs[\"CoolingCost($)\"] = (get_annual_costs[\"CoolingEnergy[J](Hourly) \"] * .000000277777778) * elec\n",
    "\n",
    "#get_annual_costs"
   ]
  },
  {
   "cell_type": "code",
   "execution_count": 14,
   "metadata": {},
   "outputs": [],
   "source": [
    "# Drop columns\n",
    "get_annual_costs.drop(columns = [\"Illuminance(lux)\",\"FanEnergy[J](Hourly)\", \"HeatingEnergy[J](Hourly)\", \"CoolingEnergy[J](Hourly) \"], axis=1, inplace=True)\n",
    "\n",
    "#get_annual_costs"
   ]
  },
  {
   "cell_type": "markdown",
   "metadata": {},
   "source": [
    "---\n",
    "\n",
    "## Combine Annual Energy and Cost Data\n",
    "Combine two dfs<br>\n",
    "Add baseline data <br>\n",
    "Export combine file"
   ]
  },
  {
   "cell_type": "code",
   "execution_count": 15,
   "metadata": {},
   "outputs": [],
   "source": [
    "# Combine data for energy and cost\n",
    "allAnnualData = pd.merge(get_annual, get_annual_costs)\n",
    "\n",
    "#allAnnualData"
   ]
  },
  {
   "cell_type": "code",
   "execution_count": 16,
   "metadata": {},
   "outputs": [],
   "source": [
    "# Add energy and cost totals\n",
    "totalEnergy = allAnnualData[\"FanEnergy(kBtu)\"] + allAnnualData[\"HeatingEnergy(kBtu)\"] + allAnnualData[\"CoolingEnergy(kBtu)\"]\n",
    "allAnnualData[\"AnnualEnergy(kBtu)\"] = totalEnergy\n",
    "\n",
    "totalCost = allAnnualData[\"FanCost($)\"] + allAnnualData[\"HeatingCost($)\"] + allAnnualData[\"CoolingCost($)\"]\n",
    "allAnnualData[\"AnnualCost($)\"] = totalCost\n",
    "\n",
    "#allAnnualData"
   ]
  },
  {
   "cell_type": "markdown",
   "metadata": {},
   "source": [
    "\n",
    "### Establish Annual Energy and Cost Baseline Data\n"
   ]
  },
  {
   "cell_type": "code",
   "execution_count": 17,
   "metadata": {
    "scrolled": true
   },
   "outputs": [],
   "source": [
    "# Establish energy target. % improvement from the average of Heat + Cool + Fan of Clear/Clear-VB0 (dual clear with a Venetian Blind at 0 degrees).\n",
    "baseline_annual = allAnnualData[allAnnualData[\"Scenario\"] == \"Clear/Clear-VB0\"]\n",
    "\n",
    "#baseline_annual"
   ]
  },
  {
   "cell_type": "code",
   "execution_count": 18,
   "metadata": {
    "scrolled": true
   },
   "outputs": [
    {
     "data": {
      "text/plain": [
       "2518.5942054690404"
      ]
     },
     "execution_count": 18,
     "metadata": {},
     "output_type": "execute_result"
    }
   ],
   "source": [
    "annualEnergy_fan = baseline_annual[\"FanEnergy(kBtu)\"].sum()\n",
    "annualEnergy_fan"
   ]
  },
  {
   "cell_type": "code",
   "execution_count": 19,
   "metadata": {
    "scrolled": true
   },
   "outputs": [
    {
     "data": {
      "text/plain": [
       "9148.732496988963"
      ]
     },
     "execution_count": 19,
     "metadata": {},
     "output_type": "execute_result"
    }
   ],
   "source": [
    "annualEnergy_cool = baseline_annual[\"CoolingEnergy(kBtu)\"].sum()\n",
    "annualEnergy_cool"
   ]
  },
  {
   "cell_type": "code",
   "execution_count": 20,
   "metadata": {},
   "outputs": [
    {
     "data": {
      "text/plain": [
       "106490.68918688194"
      ]
     },
     "execution_count": 20,
     "metadata": {},
     "output_type": "execute_result"
    }
   ],
   "source": [
    "annualEnergy_heat = baseline_annual[\"HeatingEnergy(kBtu)\"].sum()\n",
    "annualEnergy_heat"
   ]
  },
  {
   "cell_type": "code",
   "execution_count": 21,
   "metadata": {},
   "outputs": [
    {
     "data": {
      "text/plain": [
       "118158.01588933993"
      ]
     },
     "execution_count": 21,
     "metadata": {},
     "output_type": "execute_result"
    }
   ],
   "source": [
    "annualEnergy = (annualEnergy_fan + annualEnergy_cool + annualEnergy_heat)\n",
    "annualEnergy"
   ]
  },
  {
   "cell_type": "code",
   "execution_count": 22,
   "metadata": {
    "scrolled": true
   },
   "outputs": [
    {
     "data": {
      "text/plain": [
       "96.98990093485853"
      ]
     },
     "execution_count": 22,
     "metadata": {},
     "output_type": "execute_result"
    }
   ],
   "source": [
    "annualCost_fan = baseline_annual[\"FanCost($)\"].sum()\n",
    "annualCost_fan"
   ]
  },
  {
   "cell_type": "code",
   "execution_count": 23,
   "metadata": {
    "scrolled": true
   },
   "outputs": [
    {
     "data": {
      "text/plain": [
       "352.31346782092317"
      ]
     },
     "execution_count": 23,
     "metadata": {},
     "output_type": "execute_result"
    }
   ],
   "source": [
    "annualCost_cool = baseline_annual[\"CoolingCost($)\"].sum()\n",
    "annualCost_cool"
   ]
  },
  {
   "cell_type": "code",
   "execution_count": 24,
   "metadata": {},
   "outputs": [
    {
     "data": {
      "text/plain": [
       "883.87272025112"
      ]
     },
     "execution_count": 24,
     "metadata": {},
     "output_type": "execute_result"
    }
   ],
   "source": [
    "annualCost_heat = baseline_annual[\"HeatingCost($)\"].sum()\n",
    "annualCost_heat"
   ]
  },
  {
   "cell_type": "code",
   "execution_count": 25,
   "metadata": {
    "scrolled": true
   },
   "outputs": [
    {
     "data": {
      "text/plain": [
       "1333.1760890069017"
      ]
     },
     "execution_count": 25,
     "metadata": {},
     "output_type": "execute_result"
    }
   ],
   "source": [
    "annualCost = (annualCost_fan + annualCost_cool + annualCost_heat)\n",
    "annualCost"
   ]
  },
  {
   "cell_type": "markdown",
   "metadata": {},
   "source": [
    "---\n",
    "## Group and Export Annual Data\n",
    "Group dataframe by scenario<br>\n",
    "Add baselines to dataframe<br>\n",
    "Export to file"
   ]
  },
  {
   "cell_type": "code",
   "execution_count": 26,
   "metadata": {},
   "outputs": [],
   "source": [
    "# Group by scenario\n",
    "annualData = allAnnualData.groupby([\"Scenario\"], as_index=True)\n",
    "\n",
    "#annualData.sum().round(2)"
   ]
  },
  {
   "cell_type": "code",
   "execution_count": 27,
   "metadata": {},
   "outputs": [],
   "source": [
    "annualDataFinal = annualData.sum().round(2)\n",
    "\n",
    "#annualDataFinal"
   ]
  },
  {
   "cell_type": "code",
   "execution_count": 28,
   "metadata": {},
   "outputs": [],
   "source": [
    "# Add columns for delta from base\n",
    "annualDataFinal[\"DeltaEnergyFromBase\"] = annualDataFinal[\"AnnualEnergy(kBtu)\"] - annualEnergy\n",
    "annualDataFinal[\"DeltaCostFromBase\"] = annualDataFinal[\"AnnualCost($)\"] - annualCost\n",
    "\n",
    "#annualDataFinal.round(2)"
   ]
  },
  {
   "cell_type": "code",
   "execution_count": 29,
   "metadata": {},
   "outputs": [],
   "source": [
    "# Export grouped file to csv\n",
    "annualDataFinal.to_csv(\"../Scraper_Output/msp_annual_data.csv\", header=True, index=True)"
   ]
  },
  {
   "cell_type": "markdown",
   "metadata": {},
   "source": [
    "-----\n",
    "\n",
    "## Get Monthly Energy Data\n",
    "Change units from Joules to therms and kWh<br>\n",
    "Drop unwanted columns"
   ]
  },
  {
   "cell_type": "code",
   "execution_count": 30,
   "metadata": {},
   "outputs": [],
   "source": [
    "# Copy dataframe to modify and leave original df intact\n",
    "get_monthly = all_data2.copy(deep=True)\n",
    "\n",
    "#get_monthly"
   ]
  },
  {
   "cell_type": "code",
   "execution_count": 31,
   "metadata": {},
   "outputs": [],
   "source": [
    "# Convert Joules to kWh and therms in new dataframe\n",
    "get_monthly[\"FanEnergy(kWh)\"] = get_monthly[\"FanEnergy[J](Hourly)\"] * .000000277777778\n",
    "get_monthly[\"HeatingEnergy(therms)\"] = get_monthly[\"HeatingEnergy[J](Hourly)\"] * .0000000094781712\n",
    "get_monthly[\"CoolingEnergy(kWh)\"] = get_monthly[\"CoolingEnergy[J](Hourly) \"] * .000000277777778\n",
    "\n",
    "#get_monthly"
   ]
  },
  {
   "cell_type": "code",
   "execution_count": 32,
   "metadata": {},
   "outputs": [],
   "source": [
    "# Drop columns\n",
    "get_monthly.drop(columns = [\"FanEnergy[J](Hourly)\", \"HeatingEnergy[J](Hourly)\", \"CoolingEnergy[J](Hourly) \"], axis=1, inplace=True)\n",
    "\n",
    "#get_monthly"
   ]
  },
  {
   "cell_type": "markdown",
   "metadata": {},
   "source": [
    "## Get Monthly Cost Data\n",
    "\n",
    "Change units from Joules to therms and kWh<br>\n",
    "Add cost multiplier, variable needs to be defined above"
   ]
  },
  {
   "cell_type": "code",
   "execution_count": 33,
   "metadata": {},
   "outputs": [],
   "source": [
    "# Copy dataframe to modify and leave original df intact\n",
    "get_monthly_costs = all_data2.copy(deep=True)\n",
    "\n",
    "#get_monthly"
   ]
  },
  {
   "cell_type": "code",
   "execution_count": 34,
   "metadata": {},
   "outputs": [],
   "source": [
    "# Convert Joules to KBtu in dataframe and add cost multiplier\n",
    "# Gas kbtu => Mbtu => therms: (kbtu/1000) * 10\n",
    "# Elec kbtu => Kwh (kbtu * .000000277777778)\n",
    "get_monthly_costs[\"FanCost($)\"] = (get_monthly_costs[\"FanEnergy[J](Hourly)\"] * .000000277777778) * elec\n",
    "get_monthly_costs[\"HeatingCost($)\"] = ((get_monthly_costs[\"HeatingEnergy[J](Hourly)\"] * .00000094781712)/1000) * 10  * gas\n",
    "get_monthly_costs[\"CoolingCost($)\"] = (get_monthly_costs[\"CoolingEnergy[J](Hourly) \"] * .000000277777778) * elec\n",
    "\n",
    "#get_monthly_costs"
   ]
  },
  {
   "cell_type": "code",
   "execution_count": 35,
   "metadata": {},
   "outputs": [],
   "source": [
    "# Drop columns\n",
    "get_monthly_costs.drop(columns = [\"FanEnergy[J](Hourly)\", \"HeatingEnergy[J](Hourly)\", \"CoolingEnergy[J](Hourly) \"], axis=1, inplace=True)\n",
    "\n",
    "#get_monthly_costs"
   ]
  },
  {
   "cell_type": "markdown",
   "metadata": {},
   "source": [
    "---\n",
    "\n",
    "## Combine Monthly Energy and Cost Data\n",
    "Combine two dfs<br>\n",
    "Create Month Column<br>\n",
    "Establish baseline <br>\n",
    "Export combine file"
   ]
  },
  {
   "cell_type": "code",
   "execution_count": 36,
   "metadata": {},
   "outputs": [],
   "source": [
    "# Combine data for energy and cost\n",
    "allMonthlyData = pd.merge(get_monthly, get_monthly_costs, how=\"inner\" )\n",
    "\n",
    "#allMonthlyData"
   ]
  },
  {
   "cell_type": "code",
   "execution_count": 37,
   "metadata": {},
   "outputs": [],
   "source": [
    "# Add cost totals, don't total energy...in different units\n",
    "totalCostMonthly = allMonthlyData[\"FanCost($)\"] + allMonthlyData[\"HeatingCost($)\"] + allMonthlyData[\"CoolingCost($)\"]\n",
    "allMonthlyData[\"MonthlyCost($)\"] = totalCostMonthly\n",
    "\n",
    "#allMonthlyData"
   ]
  },
  {
   "cell_type": "code",
   "execution_count": 38,
   "metadata": {
    "scrolled": true
   },
   "outputs": [],
   "source": [
    "allMonthlyData[\"Month\"] = allMonthlyData.Date_Time.str.slice(0,3)\n",
    "\n",
    "#allMonthlyData"
   ]
  },
  {
   "cell_type": "markdown",
   "metadata": {},
   "source": [
    "\n",
    "### Establish Monthly Energy and Cost Baseline Data\n"
   ]
  },
  {
   "cell_type": "code",
   "execution_count": 39,
   "metadata": {
    "scrolled": true
   },
   "outputs": [
    {
     "data": {
      "text/html": [
       "<div>\n",
       "<style scoped>\n",
       "    .dataframe tbody tr th:only-of-type {\n",
       "        vertical-align: middle;\n",
       "    }\n",
       "\n",
       "    .dataframe tbody tr th {\n",
       "        vertical-align: top;\n",
       "    }\n",
       "\n",
       "    .dataframe thead th {\n",
       "        text-align: right;\n",
       "    }\n",
       "</style>\n",
       "<table border=\"1\" class=\"dataframe\">\n",
       "  <thead>\n",
       "    <tr style=\"text-align: right;\">\n",
       "      <th></th>\n",
       "      <th>Scenario</th>\n",
       "      <th>Date_Time</th>\n",
       "      <th>Illuminance(lux)</th>\n",
       "      <th>FanEnergy(kWh)</th>\n",
       "      <th>HeatingEnergy(therms)</th>\n",
       "      <th>CoolingEnergy(kWh)</th>\n",
       "      <th>FanCost($)</th>\n",
       "      <th>HeatingCost($)</th>\n",
       "      <th>CoolingCost($)</th>\n",
       "      <th>MonthlyCost($)</th>\n",
       "      <th>Month</th>\n",
       "    </tr>\n",
       "  </thead>\n",
       "  <tbody>\n",
       "    <tr>\n",
       "      <th>385440</th>\n",
       "      <td>Clear/Clear-VB0</td>\n",
       "      <td>01/01  01:00:00</td>\n",
       "      <td>0.0</td>\n",
       "      <td>0.129081</td>\n",
       "      <td>0.284288</td>\n",
       "      <td>0.0</td>\n",
       "      <td>0.016961</td>\n",
       "      <td>0.235959</td>\n",
       "      <td>0.0</td>\n",
       "      <td>0.252920</td>\n",
       "      <td>01</td>\n",
       "    </tr>\n",
       "    <tr>\n",
       "      <th>385441</th>\n",
       "      <td>Clear/Clear-VB0</td>\n",
       "      <td>01/01  02:00:00</td>\n",
       "      <td>0.0</td>\n",
       "      <td>0.144110</td>\n",
       "      <td>0.317387</td>\n",
       "      <td>0.0</td>\n",
       "      <td>0.018936</td>\n",
       "      <td>0.263432</td>\n",
       "      <td>0.0</td>\n",
       "      <td>0.282368</td>\n",
       "      <td>01</td>\n",
       "    </tr>\n",
       "    <tr>\n",
       "      <th>385442</th>\n",
       "      <td>Clear/Clear-VB0</td>\n",
       "      <td>01/01  03:00:00</td>\n",
       "      <td>0.0</td>\n",
       "      <td>0.147442</td>\n",
       "      <td>0.324726</td>\n",
       "      <td>0.0</td>\n",
       "      <td>0.019374</td>\n",
       "      <td>0.269523</td>\n",
       "      <td>0.0</td>\n",
       "      <td>0.288897</td>\n",
       "      <td>01</td>\n",
       "    </tr>\n",
       "    <tr>\n",
       "      <th>385443</th>\n",
       "      <td>Clear/Clear-VB0</td>\n",
       "      <td>01/01  04:00:00</td>\n",
       "      <td>0.0</td>\n",
       "      <td>0.146993</td>\n",
       "      <td>0.323736</td>\n",
       "      <td>0.0</td>\n",
       "      <td>0.019315</td>\n",
       "      <td>0.268701</td>\n",
       "      <td>0.0</td>\n",
       "      <td>0.288016</td>\n",
       "      <td>01</td>\n",
       "    </tr>\n",
       "    <tr>\n",
       "      <th>385444</th>\n",
       "      <td>Clear/Clear-VB0</td>\n",
       "      <td>01/01  05:00:00</td>\n",
       "      <td>0.0</td>\n",
       "      <td>0.149455</td>\n",
       "      <td>0.329159</td>\n",
       "      <td>0.0</td>\n",
       "      <td>0.019638</td>\n",
       "      <td>0.273202</td>\n",
       "      <td>0.0</td>\n",
       "      <td>0.292841</td>\n",
       "      <td>01</td>\n",
       "    </tr>\n",
       "    <tr>\n",
       "      <th>...</th>\n",
       "      <td>...</td>\n",
       "      <td>...</td>\n",
       "      <td>...</td>\n",
       "      <td>...</td>\n",
       "      <td>...</td>\n",
       "      <td>...</td>\n",
       "      <td>...</td>\n",
       "      <td>...</td>\n",
       "      <td>...</td>\n",
       "      <td>...</td>\n",
       "      <td>...</td>\n",
       "    </tr>\n",
       "    <tr>\n",
       "      <th>394195</th>\n",
       "      <td>Clear/Clear-VB0</td>\n",
       "      <td>12/31  20:00:00</td>\n",
       "      <td>0.0</td>\n",
       "      <td>0.088982</td>\n",
       "      <td>0.195974</td>\n",
       "      <td>0.0</td>\n",
       "      <td>0.011692</td>\n",
       "      <td>0.162658</td>\n",
       "      <td>0.0</td>\n",
       "      <td>0.174350</td>\n",
       "      <td>12</td>\n",
       "    </tr>\n",
       "    <tr>\n",
       "      <th>394196</th>\n",
       "      <td>Clear/Clear-VB0</td>\n",
       "      <td>12/31  21:00:00</td>\n",
       "      <td>0.0</td>\n",
       "      <td>0.088945</td>\n",
       "      <td>0.195893</td>\n",
       "      <td>0.0</td>\n",
       "      <td>0.011687</td>\n",
       "      <td>0.162591</td>\n",
       "      <td>0.0</td>\n",
       "      <td>0.174278</td>\n",
       "      <td>12</td>\n",
       "    </tr>\n",
       "    <tr>\n",
       "      <th>394197</th>\n",
       "      <td>Clear/Clear-VB0</td>\n",
       "      <td>12/31  22:00:00</td>\n",
       "      <td>0.0</td>\n",
       "      <td>0.092107</td>\n",
       "      <td>0.202857</td>\n",
       "      <td>0.0</td>\n",
       "      <td>0.012103</td>\n",
       "      <td>0.168371</td>\n",
       "      <td>0.0</td>\n",
       "      <td>0.180474</td>\n",
       "      <td>12</td>\n",
       "    </tr>\n",
       "    <tr>\n",
       "      <th>394198</th>\n",
       "      <td>Clear/Clear-VB0</td>\n",
       "      <td>12/31  23:00:00</td>\n",
       "      <td>0.0</td>\n",
       "      <td>0.096148</td>\n",
       "      <td>0.211756</td>\n",
       "      <td>0.0</td>\n",
       "      <td>0.012634</td>\n",
       "      <td>0.175758</td>\n",
       "      <td>0.0</td>\n",
       "      <td>0.188392</td>\n",
       "      <td>12</td>\n",
       "    </tr>\n",
       "    <tr>\n",
       "      <th>394199</th>\n",
       "      <td>Clear/Clear-VB0</td>\n",
       "      <td>12/31  24:00:00</td>\n",
       "      <td>0.0</td>\n",
       "      <td>0.095551</td>\n",
       "      <td>0.210441</td>\n",
       "      <td>0.0</td>\n",
       "      <td>0.012555</td>\n",
       "      <td>0.174666</td>\n",
       "      <td>0.0</td>\n",
       "      <td>0.187221</td>\n",
       "      <td>12</td>\n",
       "    </tr>\n",
       "  </tbody>\n",
       "</table>\n",
       "<p>8760 rows × 11 columns</p>\n",
       "</div>"
      ],
      "text/plain": [
       "               Scenario         Date_Time  Illuminance(lux)  FanEnergy(kWh)  \\\n",
       "385440  Clear/Clear-VB0   01/01  01:00:00               0.0        0.129081   \n",
       "385441  Clear/Clear-VB0   01/01  02:00:00               0.0        0.144110   \n",
       "385442  Clear/Clear-VB0   01/01  03:00:00               0.0        0.147442   \n",
       "385443  Clear/Clear-VB0   01/01  04:00:00               0.0        0.146993   \n",
       "385444  Clear/Clear-VB0   01/01  05:00:00               0.0        0.149455   \n",
       "...                 ...               ...               ...             ...   \n",
       "394195  Clear/Clear-VB0   12/31  20:00:00               0.0        0.088982   \n",
       "394196  Clear/Clear-VB0   12/31  21:00:00               0.0        0.088945   \n",
       "394197  Clear/Clear-VB0   12/31  22:00:00               0.0        0.092107   \n",
       "394198  Clear/Clear-VB0   12/31  23:00:00               0.0        0.096148   \n",
       "394199  Clear/Clear-VB0   12/31  24:00:00               0.0        0.095551   \n",
       "\n",
       "        HeatingEnergy(therms)  CoolingEnergy(kWh)  FanCost($)  HeatingCost($)  \\\n",
       "385440               0.284288                 0.0    0.016961        0.235959   \n",
       "385441               0.317387                 0.0    0.018936        0.263432   \n",
       "385442               0.324726                 0.0    0.019374        0.269523   \n",
       "385443               0.323736                 0.0    0.019315        0.268701   \n",
       "385444               0.329159                 0.0    0.019638        0.273202   \n",
       "...                       ...                 ...         ...             ...   \n",
       "394195               0.195974                 0.0    0.011692        0.162658   \n",
       "394196               0.195893                 0.0    0.011687        0.162591   \n",
       "394197               0.202857                 0.0    0.012103        0.168371   \n",
       "394198               0.211756                 0.0    0.012634        0.175758   \n",
       "394199               0.210441                 0.0    0.012555        0.174666   \n",
       "\n",
       "        CoolingCost($)  MonthlyCost($) Month  \n",
       "385440             0.0        0.252920    01  \n",
       "385441             0.0        0.282368    01  \n",
       "385442             0.0        0.288897    01  \n",
       "385443             0.0        0.288016    01  \n",
       "385444             0.0        0.292841    01  \n",
       "...                ...             ...   ...  \n",
       "394195             0.0        0.174350    12  \n",
       "394196             0.0        0.174278    12  \n",
       "394197             0.0        0.180474    12  \n",
       "394198             0.0        0.188392    12  \n",
       "394199             0.0        0.187221    12  \n",
       "\n",
       "[8760 rows x 11 columns]"
      ]
     },
     "execution_count": 39,
     "metadata": {},
     "output_type": "execute_result"
    }
   ],
   "source": [
    "# Establish energy target. % improvement from the average of Heat + Cool + Fan of Clear/Clear-VB0 (dual clear with a Venetian Blind at 0 degrees).\n",
    "baseline_monthly = allMonthlyData[allMonthlyData[\"Scenario\"] == \"Clear/Clear-VB0\"]\n",
    "\n",
    "baseline_monthly"
   ]
  },
  {
   "cell_type": "code",
   "execution_count": 40,
   "metadata": {
    "scrolled": true
   },
   "outputs": [
    {
     "name": "stderr",
     "output_type": "stream",
     "text": [
      "C:\\Users\\khagl\\anaconda3\\envs\\PythonData\\lib\\site-packages\\ipykernel_launcher.py:1: SettingWithCopyWarning: \n",
      "A value is trying to be set on a copy of a slice from a DataFrame.\n",
      "Try using .loc[row_indexer,col_indexer] = value instead\n",
      "\n",
      "See the caveats in the documentation: https://pandas.pydata.org/pandas-docs/stable/user_guide/indexing.html#returning-a-view-versus-a-copy\n",
      "  \"\"\"Entry point for launching an IPython kernel.\n"
     ]
    },
    {
     "data": {
      "text/html": [
       "<div>\n",
       "<style scoped>\n",
       "    .dataframe tbody tr th:only-of-type {\n",
       "        vertical-align: middle;\n",
       "    }\n",
       "\n",
       "    .dataframe tbody tr th {\n",
       "        vertical-align: top;\n",
       "    }\n",
       "\n",
       "    .dataframe thead th {\n",
       "        text-align: right;\n",
       "    }\n",
       "</style>\n",
       "<table border=\"1\" class=\"dataframe\">\n",
       "  <thead>\n",
       "    <tr style=\"text-align: right;\">\n",
       "      <th></th>\n",
       "      <th>Scenario</th>\n",
       "      <th>Date_Time</th>\n",
       "      <th>Illuminance(lux)</th>\n",
       "      <th>FanEnergy(kWh)</th>\n",
       "      <th>HeatingEnergy(therms)</th>\n",
       "      <th>CoolingEnergy(kWh)</th>\n",
       "      <th>FanCost($)</th>\n",
       "      <th>HeatingCost($)</th>\n",
       "      <th>CoolingCost($)</th>\n",
       "      <th>MonthlyCost($)</th>\n",
       "      <th>Month</th>\n",
       "    </tr>\n",
       "  </thead>\n",
       "  <tbody>\n",
       "    <tr>\n",
       "      <th>385440</th>\n",
       "      <td>Clear/Clear-VB0</td>\n",
       "      <td>01/01  01:00:00</td>\n",
       "      <td>0.0</td>\n",
       "      <td>0.129081</td>\n",
       "      <td>0.284288</td>\n",
       "      <td>0.0</td>\n",
       "      <td>0.016961</td>\n",
       "      <td>0.235959</td>\n",
       "      <td>0.0</td>\n",
       "      <td>0.252920</td>\n",
       "      <td>01</td>\n",
       "    </tr>\n",
       "    <tr>\n",
       "      <th>385441</th>\n",
       "      <td>Clear/Clear-VB0</td>\n",
       "      <td>01/01  02:00:00</td>\n",
       "      <td>0.0</td>\n",
       "      <td>0.144110</td>\n",
       "      <td>0.317387</td>\n",
       "      <td>0.0</td>\n",
       "      <td>0.018936</td>\n",
       "      <td>0.263432</td>\n",
       "      <td>0.0</td>\n",
       "      <td>0.282368</td>\n",
       "      <td>01</td>\n",
       "    </tr>\n",
       "    <tr>\n",
       "      <th>385442</th>\n",
       "      <td>Clear/Clear-VB0</td>\n",
       "      <td>01/01  03:00:00</td>\n",
       "      <td>0.0</td>\n",
       "      <td>0.147442</td>\n",
       "      <td>0.324726</td>\n",
       "      <td>0.0</td>\n",
       "      <td>0.019374</td>\n",
       "      <td>0.269523</td>\n",
       "      <td>0.0</td>\n",
       "      <td>0.288897</td>\n",
       "      <td>01</td>\n",
       "    </tr>\n",
       "    <tr>\n",
       "      <th>385443</th>\n",
       "      <td>Clear/Clear-VB0</td>\n",
       "      <td>01/01  04:00:00</td>\n",
       "      <td>0.0</td>\n",
       "      <td>0.146993</td>\n",
       "      <td>0.323736</td>\n",
       "      <td>0.0</td>\n",
       "      <td>0.019315</td>\n",
       "      <td>0.268701</td>\n",
       "      <td>0.0</td>\n",
       "      <td>0.288016</td>\n",
       "      <td>01</td>\n",
       "    </tr>\n",
       "    <tr>\n",
       "      <th>385444</th>\n",
       "      <td>Clear/Clear-VB0</td>\n",
       "      <td>01/01  05:00:00</td>\n",
       "      <td>0.0</td>\n",
       "      <td>0.149455</td>\n",
       "      <td>0.329159</td>\n",
       "      <td>0.0</td>\n",
       "      <td>0.019638</td>\n",
       "      <td>0.273202</td>\n",
       "      <td>0.0</td>\n",
       "      <td>0.292841</td>\n",
       "      <td>01</td>\n",
       "    </tr>\n",
       "    <tr>\n",
       "      <th>...</th>\n",
       "      <td>...</td>\n",
       "      <td>...</td>\n",
       "      <td>...</td>\n",
       "      <td>...</td>\n",
       "      <td>...</td>\n",
       "      <td>...</td>\n",
       "      <td>...</td>\n",
       "      <td>...</td>\n",
       "      <td>...</td>\n",
       "      <td>...</td>\n",
       "      <td>...</td>\n",
       "    </tr>\n",
       "    <tr>\n",
       "      <th>394195</th>\n",
       "      <td>Clear/Clear-VB0</td>\n",
       "      <td>12/31  20:00:00</td>\n",
       "      <td>0.0</td>\n",
       "      <td>0.088982</td>\n",
       "      <td>0.195974</td>\n",
       "      <td>0.0</td>\n",
       "      <td>0.011692</td>\n",
       "      <td>0.162658</td>\n",
       "      <td>0.0</td>\n",
       "      <td>0.174350</td>\n",
       "      <td>12</td>\n",
       "    </tr>\n",
       "    <tr>\n",
       "      <th>394196</th>\n",
       "      <td>Clear/Clear-VB0</td>\n",
       "      <td>12/31  21:00:00</td>\n",
       "      <td>0.0</td>\n",
       "      <td>0.088945</td>\n",
       "      <td>0.195893</td>\n",
       "      <td>0.0</td>\n",
       "      <td>0.011687</td>\n",
       "      <td>0.162591</td>\n",
       "      <td>0.0</td>\n",
       "      <td>0.174278</td>\n",
       "      <td>12</td>\n",
       "    </tr>\n",
       "    <tr>\n",
       "      <th>394197</th>\n",
       "      <td>Clear/Clear-VB0</td>\n",
       "      <td>12/31  22:00:00</td>\n",
       "      <td>0.0</td>\n",
       "      <td>0.092107</td>\n",
       "      <td>0.202857</td>\n",
       "      <td>0.0</td>\n",
       "      <td>0.012103</td>\n",
       "      <td>0.168371</td>\n",
       "      <td>0.0</td>\n",
       "      <td>0.180474</td>\n",
       "      <td>12</td>\n",
       "    </tr>\n",
       "    <tr>\n",
       "      <th>394198</th>\n",
       "      <td>Clear/Clear-VB0</td>\n",
       "      <td>12/31  23:00:00</td>\n",
       "      <td>0.0</td>\n",
       "      <td>0.096148</td>\n",
       "      <td>0.211756</td>\n",
       "      <td>0.0</td>\n",
       "      <td>0.012634</td>\n",
       "      <td>0.175758</td>\n",
       "      <td>0.0</td>\n",
       "      <td>0.188392</td>\n",
       "      <td>12</td>\n",
       "    </tr>\n",
       "    <tr>\n",
       "      <th>394199</th>\n",
       "      <td>Clear/Clear-VB0</td>\n",
       "      <td>12/31  24:00:00</td>\n",
       "      <td>0.0</td>\n",
       "      <td>0.095551</td>\n",
       "      <td>0.210441</td>\n",
       "      <td>0.0</td>\n",
       "      <td>0.012555</td>\n",
       "      <td>0.174666</td>\n",
       "      <td>0.0</td>\n",
       "      <td>0.187221</td>\n",
       "      <td>12</td>\n",
       "    </tr>\n",
       "  </tbody>\n",
       "</table>\n",
       "<p>8760 rows × 11 columns</p>\n",
       "</div>"
      ],
      "text/plain": [
       "               Scenario         Date_Time  Illuminance(lux)  FanEnergy(kWh)  \\\n",
       "385440  Clear/Clear-VB0   01/01  01:00:00               0.0        0.129081   \n",
       "385441  Clear/Clear-VB0   01/01  02:00:00               0.0        0.144110   \n",
       "385442  Clear/Clear-VB0   01/01  03:00:00               0.0        0.147442   \n",
       "385443  Clear/Clear-VB0   01/01  04:00:00               0.0        0.146993   \n",
       "385444  Clear/Clear-VB0   01/01  05:00:00               0.0        0.149455   \n",
       "...                 ...               ...               ...             ...   \n",
       "394195  Clear/Clear-VB0   12/31  20:00:00               0.0        0.088982   \n",
       "394196  Clear/Clear-VB0   12/31  21:00:00               0.0        0.088945   \n",
       "394197  Clear/Clear-VB0   12/31  22:00:00               0.0        0.092107   \n",
       "394198  Clear/Clear-VB0   12/31  23:00:00               0.0        0.096148   \n",
       "394199  Clear/Clear-VB0   12/31  24:00:00               0.0        0.095551   \n",
       "\n",
       "        HeatingEnergy(therms)  CoolingEnergy(kWh)  FanCost($)  HeatingCost($)  \\\n",
       "385440               0.284288                 0.0    0.016961        0.235959   \n",
       "385441               0.317387                 0.0    0.018936        0.263432   \n",
       "385442               0.324726                 0.0    0.019374        0.269523   \n",
       "385443               0.323736                 0.0    0.019315        0.268701   \n",
       "385444               0.329159                 0.0    0.019638        0.273202   \n",
       "...                       ...                 ...         ...             ...   \n",
       "394195               0.195974                 0.0    0.011692        0.162658   \n",
       "394196               0.195893                 0.0    0.011687        0.162591   \n",
       "394197               0.202857                 0.0    0.012103        0.168371   \n",
       "394198               0.211756                 0.0    0.012634        0.175758   \n",
       "394199               0.210441                 0.0    0.012555        0.174666   \n",
       "\n",
       "        CoolingCost($)  MonthlyCost($) Month  \n",
       "385440             0.0        0.252920    01  \n",
       "385441             0.0        0.282368    01  \n",
       "385442             0.0        0.288897    01  \n",
       "385443             0.0        0.288016    01  \n",
       "385444             0.0        0.292841    01  \n",
       "...                ...             ...   ...  \n",
       "394195             0.0        0.174350    12  \n",
       "394196             0.0        0.174278    12  \n",
       "394197             0.0        0.180474    12  \n",
       "394198             0.0        0.188392    12  \n",
       "394199             0.0        0.187221    12  \n",
       "\n",
       "[8760 rows x 11 columns]"
      ]
     },
     "execution_count": 40,
     "metadata": {},
     "output_type": "execute_result"
    }
   ],
   "source": [
    "baseline_monthly[\"Month\"] = baseline_monthly.Date_Time.str.slice(0,3)\n",
    "\n",
    "baseline_monthly"
   ]
  },
  {
   "cell_type": "code",
   "execution_count": 41,
   "metadata": {
    "scrolled": true
   },
   "outputs": [
    {
     "data": {
      "text/html": [
       "<div>\n",
       "<style scoped>\n",
       "    .dataframe tbody tr th:only-of-type {\n",
       "        vertical-align: middle;\n",
       "    }\n",
       "\n",
       "    .dataframe tbody tr th {\n",
       "        vertical-align: top;\n",
       "    }\n",
       "\n",
       "    .dataframe thead th {\n",
       "        text-align: right;\n",
       "    }\n",
       "</style>\n",
       "<table border=\"1\" class=\"dataframe\">\n",
       "  <thead>\n",
       "    <tr style=\"text-align: right;\">\n",
       "      <th></th>\n",
       "      <th>Month</th>\n",
       "      <th>Illuminance(lux)</th>\n",
       "      <th>FanEnergy(kWh)</th>\n",
       "      <th>HeatingEnergy(therms)</th>\n",
       "      <th>CoolingEnergy(kWh)</th>\n",
       "      <th>FanCost($)</th>\n",
       "      <th>HeatingCost($)</th>\n",
       "      <th>CoolingCost($)</th>\n",
       "      <th>MonthlyCost($)</th>\n",
       "    </tr>\n",
       "  </thead>\n",
       "  <tbody>\n",
       "    <tr>\n",
       "      <th>0</th>\n",
       "      <td>01</td>\n",
       "      <td>863062.838677</td>\n",
       "      <td>123.481090</td>\n",
       "      <td>271.954336</td>\n",
       "      <td>0.000000</td>\n",
       "      <td>16.225415</td>\n",
       "      <td>225.722099</td>\n",
       "      <td>0.000000</td>\n",
       "      <td>241.947514</td>\n",
       "    </tr>\n",
       "    <tr>\n",
       "      <th>1</th>\n",
       "      <td>02</td>\n",
       "      <td>439661.106454</td>\n",
       "      <td>76.975698</td>\n",
       "      <td>169.531017</td>\n",
       "      <td>0.000000</td>\n",
       "      <td>10.114607</td>\n",
       "      <td>140.710744</td>\n",
       "      <td>0.000000</td>\n",
       "      <td>150.825351</td>\n",
       "    </tr>\n",
       "    <tr>\n",
       "      <th>2</th>\n",
       "      <td>03</td>\n",
       "      <td>458072.653237</td>\n",
       "      <td>53.448594</td>\n",
       "      <td>116.807008</td>\n",
       "      <td>3.851997</td>\n",
       "      <td>7.023145</td>\n",
       "      <td>96.949817</td>\n",
       "      <td>0.506152</td>\n",
       "      <td>104.479115</td>\n",
       "    </tr>\n",
       "    <tr>\n",
       "      <th>3</th>\n",
       "      <td>04</td>\n",
       "      <td>441383.426370</td>\n",
       "      <td>37.543794</td>\n",
       "      <td>64.194870</td>\n",
       "      <td>87.610774</td>\n",
       "      <td>4.933255</td>\n",
       "      <td>53.281742</td>\n",
       "      <td>11.512056</td>\n",
       "      <td>69.727052</td>\n",
       "    </tr>\n",
       "    <tr>\n",
       "      <th>4</th>\n",
       "      <td>05</td>\n",
       "      <td>458332.737111</td>\n",
       "      <td>30.960764</td>\n",
       "      <td>9.873026</td>\n",
       "      <td>272.913961</td>\n",
       "      <td>4.068244</td>\n",
       "      <td>8.194612</td>\n",
       "      <td>35.860894</td>\n",
       "      <td>48.123751</td>\n",
       "    </tr>\n",
       "    <tr>\n",
       "      <th>5</th>\n",
       "      <td>06</td>\n",
       "      <td>452845.181610</td>\n",
       "      <td>52.698153</td>\n",
       "      <td>1.639673</td>\n",
       "      <td>540.620049</td>\n",
       "      <td>6.924537</td>\n",
       "      <td>1.360928</td>\n",
       "      <td>71.037474</td>\n",
       "      <td>79.322940</td>\n",
       "    </tr>\n",
       "    <tr>\n",
       "      <th>6</th>\n",
       "      <td>07</td>\n",
       "      <td>455399.808794</td>\n",
       "      <td>81.916086</td>\n",
       "      <td>0.000000</td>\n",
       "      <td>885.880535</td>\n",
       "      <td>10.763774</td>\n",
       "      <td>0.000000</td>\n",
       "      <td>116.404702</td>\n",
       "      <td>127.168476</td>\n",
       "    </tr>\n",
       "    <tr>\n",
       "      <th>7</th>\n",
       "      <td>08</td>\n",
       "      <td>473569.855359</td>\n",
       "      <td>55.264156</td>\n",
       "      <td>0.282724</td>\n",
       "      <td>578.672427</td>\n",
       "      <td>7.261710</td>\n",
       "      <td>0.234661</td>\n",
       "      <td>76.037557</td>\n",
       "      <td>83.533928</td>\n",
       "    </tr>\n",
       "    <tr>\n",
       "      <th>8</th>\n",
       "      <td>09</td>\n",
       "      <td>432456.317898</td>\n",
       "      <td>34.903700</td>\n",
       "      <td>14.470172</td>\n",
       "      <td>293.152749</td>\n",
       "      <td>4.586346</td>\n",
       "      <td>12.010242</td>\n",
       "      <td>38.520271</td>\n",
       "      <td>55.116860</td>\n",
       "    </tr>\n",
       "    <tr>\n",
       "      <th>9</th>\n",
       "      <td>10</td>\n",
       "      <td>415077.653640</td>\n",
       "      <td>25.896133</td>\n",
       "      <td>52.715066</td>\n",
       "      <td>18.353773</td>\n",
       "      <td>3.402752</td>\n",
       "      <td>43.753505</td>\n",
       "      <td>2.411686</td>\n",
       "      <td>49.567943</td>\n",
       "    </tr>\n",
       "    <tr>\n",
       "      <th>10</th>\n",
       "      <td>11</td>\n",
       "      <td>495902.314590</td>\n",
       "      <td>61.002929</td>\n",
       "      <td>134.310459</td>\n",
       "      <td>0.172562</td>\n",
       "      <td>8.015785</td>\n",
       "      <td>111.477681</td>\n",
       "      <td>0.022675</td>\n",
       "      <td>119.516141</td>\n",
       "    </tr>\n",
       "    <tr>\n",
       "      <th>11</th>\n",
       "      <td>12</td>\n",
       "      <td>773175.639385</td>\n",
       "      <td>104.036003</td>\n",
       "      <td>229.128540</td>\n",
       "      <td>0.000000</td>\n",
       "      <td>13.670331</td>\n",
       "      <td>190.176689</td>\n",
       "      <td>0.000000</td>\n",
       "      <td>203.847019</td>\n",
       "    </tr>\n",
       "  </tbody>\n",
       "</table>\n",
       "</div>"
      ],
      "text/plain": [
       "   Month  Illuminance(lux)  FanEnergy(kWh)  HeatingEnergy(therms)  \\\n",
       "0     01     863062.838677      123.481090             271.954336   \n",
       "1     02     439661.106454       76.975698             169.531017   \n",
       "2     03     458072.653237       53.448594             116.807008   \n",
       "3     04     441383.426370       37.543794              64.194870   \n",
       "4     05     458332.737111       30.960764               9.873026   \n",
       "5     06     452845.181610       52.698153               1.639673   \n",
       "6     07     455399.808794       81.916086               0.000000   \n",
       "7     08     473569.855359       55.264156               0.282724   \n",
       "8     09     432456.317898       34.903700              14.470172   \n",
       "9     10     415077.653640       25.896133              52.715066   \n",
       "10    11     495902.314590       61.002929             134.310459   \n",
       "11    12     773175.639385      104.036003             229.128540   \n",
       "\n",
       "    CoolingEnergy(kWh)  FanCost($)  HeatingCost($)  CoolingCost($)  \\\n",
       "0             0.000000   16.225415      225.722099        0.000000   \n",
       "1             0.000000   10.114607      140.710744        0.000000   \n",
       "2             3.851997    7.023145       96.949817        0.506152   \n",
       "3            87.610774    4.933255       53.281742       11.512056   \n",
       "4           272.913961    4.068244        8.194612       35.860894   \n",
       "5           540.620049    6.924537        1.360928       71.037474   \n",
       "6           885.880535   10.763774        0.000000      116.404702   \n",
       "7           578.672427    7.261710        0.234661       76.037557   \n",
       "8           293.152749    4.586346       12.010242       38.520271   \n",
       "9            18.353773    3.402752       43.753505        2.411686   \n",
       "10            0.172562    8.015785      111.477681        0.022675   \n",
       "11            0.000000   13.670331      190.176689        0.000000   \n",
       "\n",
       "    MonthlyCost($)  \n",
       "0       241.947514  \n",
       "1       150.825351  \n",
       "2       104.479115  \n",
       "3        69.727052  \n",
       "4        48.123751  \n",
       "5        79.322940  \n",
       "6       127.168476  \n",
       "7        83.533928  \n",
       "8        55.116860  \n",
       "9        49.567943  \n",
       "10      119.516141  \n",
       "11      203.847019  "
      ]
     },
     "execution_count": 41,
     "metadata": {},
     "output_type": "execute_result"
    }
   ],
   "source": [
    "# Group by scenario and date/time for export to graphing\n",
    "baseline_monthly_all = baseline_monthly.groupby([\"Month\"], as_index=False).sum()\n",
    "\n",
    "baseline_monthly_all"
   ]
  },
  {
   "cell_type": "code",
   "execution_count": 42,
   "metadata": {},
   "outputs": [],
   "source": [
    "# Rename Columns\n",
    "baseline_monthly_all = baseline_monthly_all.rename(columns={\"Month\":\"Month\",\n",
    "                              \"FanEnergy(kWh)\":\"Base_FanEnergy(kWh)\",\n",
    "                             \"HeatingEnergy(therms)\":\"Base_HeatingEnergy(therms)\",\n",
    "                             \"CoolingEnergy(kWh)\":\"Base_CoolingEnergy(kWh)\",\n",
    "                             \"FanCost($)\":\"Base_FanCost($)\",\n",
    "                             \"HeatingCost($)\":\"Base_HeatingCost($)\",\n",
    "                             \"CoolingCost($)\":\"CoolingCost($)\",\n",
    "                             \"MonthlyCost($)\":\"Base_MonthlyCost($)\"\n",
    "                             })\n",
    "#baseline_monthly_all\n"
   ]
  },
  {
   "cell_type": "code",
   "execution_count": 43,
   "metadata": {
    "scrolled": true
   },
   "outputs": [
    {
     "data": {
      "text/html": [
       "<div>\n",
       "<style scoped>\n",
       "    .dataframe tbody tr th:only-of-type {\n",
       "        vertical-align: middle;\n",
       "    }\n",
       "\n",
       "    .dataframe tbody tr th {\n",
       "        vertical-align: top;\n",
       "    }\n",
       "\n",
       "    .dataframe thead th {\n",
       "        text-align: right;\n",
       "    }\n",
       "</style>\n",
       "<table border=\"1\" class=\"dataframe\">\n",
       "  <thead>\n",
       "    <tr style=\"text-align: right;\">\n",
       "      <th></th>\n",
       "      <th>Month</th>\n",
       "      <th>Base_FanEnergy(kWh)</th>\n",
       "      <th>Base_HeatingEnergy(therms)</th>\n",
       "      <th>Base_CoolingEnergy(kWh)</th>\n",
       "      <th>Base_FanCost($)</th>\n",
       "      <th>Base_HeatingCost($)</th>\n",
       "      <th>CoolingCost($)</th>\n",
       "      <th>Base_MonthlyCost($)</th>\n",
       "    </tr>\n",
       "  </thead>\n",
       "  <tbody>\n",
       "    <tr>\n",
       "      <th>0</th>\n",
       "      <td>01</td>\n",
       "      <td>123.481090</td>\n",
       "      <td>271.954336</td>\n",
       "      <td>0.000000</td>\n",
       "      <td>16.225415</td>\n",
       "      <td>225.722099</td>\n",
       "      <td>0.000000</td>\n",
       "      <td>241.947514</td>\n",
       "    </tr>\n",
       "    <tr>\n",
       "      <th>1</th>\n",
       "      <td>02</td>\n",
       "      <td>76.975698</td>\n",
       "      <td>169.531017</td>\n",
       "      <td>0.000000</td>\n",
       "      <td>10.114607</td>\n",
       "      <td>140.710744</td>\n",
       "      <td>0.000000</td>\n",
       "      <td>150.825351</td>\n",
       "    </tr>\n",
       "    <tr>\n",
       "      <th>2</th>\n",
       "      <td>03</td>\n",
       "      <td>53.448594</td>\n",
       "      <td>116.807008</td>\n",
       "      <td>3.851997</td>\n",
       "      <td>7.023145</td>\n",
       "      <td>96.949817</td>\n",
       "      <td>0.506152</td>\n",
       "      <td>104.479115</td>\n",
       "    </tr>\n",
       "    <tr>\n",
       "      <th>3</th>\n",
       "      <td>04</td>\n",
       "      <td>37.543794</td>\n",
       "      <td>64.194870</td>\n",
       "      <td>87.610774</td>\n",
       "      <td>4.933255</td>\n",
       "      <td>53.281742</td>\n",
       "      <td>11.512056</td>\n",
       "      <td>69.727052</td>\n",
       "    </tr>\n",
       "    <tr>\n",
       "      <th>4</th>\n",
       "      <td>05</td>\n",
       "      <td>30.960764</td>\n",
       "      <td>9.873026</td>\n",
       "      <td>272.913961</td>\n",
       "      <td>4.068244</td>\n",
       "      <td>8.194612</td>\n",
       "      <td>35.860894</td>\n",
       "      <td>48.123751</td>\n",
       "    </tr>\n",
       "    <tr>\n",
       "      <th>5</th>\n",
       "      <td>06</td>\n",
       "      <td>52.698153</td>\n",
       "      <td>1.639673</td>\n",
       "      <td>540.620049</td>\n",
       "      <td>6.924537</td>\n",
       "      <td>1.360928</td>\n",
       "      <td>71.037474</td>\n",
       "      <td>79.322940</td>\n",
       "    </tr>\n",
       "    <tr>\n",
       "      <th>6</th>\n",
       "      <td>07</td>\n",
       "      <td>81.916086</td>\n",
       "      <td>0.000000</td>\n",
       "      <td>885.880535</td>\n",
       "      <td>10.763774</td>\n",
       "      <td>0.000000</td>\n",
       "      <td>116.404702</td>\n",
       "      <td>127.168476</td>\n",
       "    </tr>\n",
       "    <tr>\n",
       "      <th>7</th>\n",
       "      <td>08</td>\n",
       "      <td>55.264156</td>\n",
       "      <td>0.282724</td>\n",
       "      <td>578.672427</td>\n",
       "      <td>7.261710</td>\n",
       "      <td>0.234661</td>\n",
       "      <td>76.037557</td>\n",
       "      <td>83.533928</td>\n",
       "    </tr>\n",
       "    <tr>\n",
       "      <th>8</th>\n",
       "      <td>09</td>\n",
       "      <td>34.903700</td>\n",
       "      <td>14.470172</td>\n",
       "      <td>293.152749</td>\n",
       "      <td>4.586346</td>\n",
       "      <td>12.010242</td>\n",
       "      <td>38.520271</td>\n",
       "      <td>55.116860</td>\n",
       "    </tr>\n",
       "    <tr>\n",
       "      <th>9</th>\n",
       "      <td>10</td>\n",
       "      <td>25.896133</td>\n",
       "      <td>52.715066</td>\n",
       "      <td>18.353773</td>\n",
       "      <td>3.402752</td>\n",
       "      <td>43.753505</td>\n",
       "      <td>2.411686</td>\n",
       "      <td>49.567943</td>\n",
       "    </tr>\n",
       "    <tr>\n",
       "      <th>10</th>\n",
       "      <td>11</td>\n",
       "      <td>61.002929</td>\n",
       "      <td>134.310459</td>\n",
       "      <td>0.172562</td>\n",
       "      <td>8.015785</td>\n",
       "      <td>111.477681</td>\n",
       "      <td>0.022675</td>\n",
       "      <td>119.516141</td>\n",
       "    </tr>\n",
       "    <tr>\n",
       "      <th>11</th>\n",
       "      <td>12</td>\n",
       "      <td>104.036003</td>\n",
       "      <td>229.128540</td>\n",
       "      <td>0.000000</td>\n",
       "      <td>13.670331</td>\n",
       "      <td>190.176689</td>\n",
       "      <td>0.000000</td>\n",
       "      <td>203.847019</td>\n",
       "    </tr>\n",
       "  </tbody>\n",
       "</table>\n",
       "</div>"
      ],
      "text/plain": [
       "   Month  Base_FanEnergy(kWh)  Base_HeatingEnergy(therms)  \\\n",
       "0     01           123.481090                  271.954336   \n",
       "1     02            76.975698                  169.531017   \n",
       "2     03            53.448594                  116.807008   \n",
       "3     04            37.543794                   64.194870   \n",
       "4     05            30.960764                    9.873026   \n",
       "5     06            52.698153                    1.639673   \n",
       "6     07            81.916086                    0.000000   \n",
       "7     08            55.264156                    0.282724   \n",
       "8     09            34.903700                   14.470172   \n",
       "9     10            25.896133                   52.715066   \n",
       "10    11            61.002929                  134.310459   \n",
       "11    12           104.036003                  229.128540   \n",
       "\n",
       "    Base_CoolingEnergy(kWh)  Base_FanCost($)  Base_HeatingCost($)  \\\n",
       "0                  0.000000        16.225415           225.722099   \n",
       "1                  0.000000        10.114607           140.710744   \n",
       "2                  3.851997         7.023145            96.949817   \n",
       "3                 87.610774         4.933255            53.281742   \n",
       "4                272.913961         4.068244             8.194612   \n",
       "5                540.620049         6.924537             1.360928   \n",
       "6                885.880535        10.763774             0.000000   \n",
       "7                578.672427         7.261710             0.234661   \n",
       "8                293.152749         4.586346            12.010242   \n",
       "9                 18.353773         3.402752            43.753505   \n",
       "10                 0.172562         8.015785           111.477681   \n",
       "11                 0.000000        13.670331           190.176689   \n",
       "\n",
       "    CoolingCost($)  Base_MonthlyCost($)  \n",
       "0         0.000000           241.947514  \n",
       "1         0.000000           150.825351  \n",
       "2         0.506152           104.479115  \n",
       "3        11.512056            69.727052  \n",
       "4        35.860894            48.123751  \n",
       "5        71.037474            79.322940  \n",
       "6       116.404702           127.168476  \n",
       "7        76.037557            83.533928  \n",
       "8        38.520271            55.116860  \n",
       "9         2.411686            49.567943  \n",
       "10        0.022675           119.516141  \n",
       "11        0.000000           203.847019  "
      ]
     },
     "execution_count": 43,
     "metadata": {},
     "output_type": "execute_result"
    }
   ],
   "source": [
    "# Drop Illuminance column...don't need the totals\n",
    "baseline_monthly_all.drop(columns = [\"Illuminance(lux)\"], axis=1, inplace=True)\n",
    "\n",
    "baseline_monthly_all"
   ]
  },
  {
   "cell_type": "code",
   "execution_count": 44,
   "metadata": {
    "scrolled": true
   },
   "outputs": [],
   "source": [
    "# Export grouped file to csv to be used as the baseline data\n",
    "baseline_monthly_all.round(2).to_csv(\"../Scraper_Output/msp_monthly_baseline.csv\", header=True, index=False)"
   ]
  },
  {
   "cell_type": "markdown",
   "metadata": {},
   "source": [
    "## Group and Export Monthly Data\n",
    "Group dataframe by scenario and month<br>\n",
    "Add baselines to dataframe<br>\n",
    "Export to file"
   ]
  },
  {
   "cell_type": "code",
   "execution_count": 45,
   "metadata": {
    "scrolled": true
   },
   "outputs": [],
   "source": [
    "# Group by scenario and date/time for export to graphing\n",
    "MonthlyData2 = allMonthlyData.groupby([\"Scenario\", \"Month\"], as_index=True)\n",
    "\n",
    "#MonthlyData.sum()"
   ]
  },
  {
   "cell_type": "code",
   "execution_count": 46,
   "metadata": {
    "scrolled": false
   },
   "outputs": [],
   "source": [
    "MonthlyDataFinal = MonthlyData2.sum()\n",
    "\n",
    "#MonthlyDataFinal"
   ]
  },
  {
   "cell_type": "code",
   "execution_count": 47,
   "metadata": {},
   "outputs": [],
   "source": [
    "# Drop Illuminance column...don't need the totals\n",
    "MonthlyDataFinal.drop(columns = [\"Illuminance(lux)\"], axis=1, inplace=True)"
   ]
  },
  {
   "cell_type": "code",
   "execution_count": 48,
   "metadata": {},
   "outputs": [],
   "source": [
    "# Export grouped file to csv (used before grouped by month)\n",
    "MonthlyDataFinal.round(2).to_csv(\"../Scraper_Output/msp_monthly_data.csv\", header=True, index=True)"
   ]
  },
  {
   "cell_type": "markdown",
   "metadata": {},
   "source": [
    "## Get Monthly Average Illuminance\n",
    "Get just the illuminance column<br>\n",
    "Group by scenario <br>\n",
    "Groups by month <br>"
   ]
  },
  {
   "cell_type": "code",
   "execution_count": 49,
   "metadata": {},
   "outputs": [],
   "source": [
    "Illuminance = allMonthlyData[[\"Scenario\", \"Date_Time\", \"Illuminance(lux)\", \"Month\"]]\n",
    "\n",
    "#Illuminance"
   ]
  },
  {
   "cell_type": "code",
   "execution_count": 50,
   "metadata": {},
   "outputs": [],
   "source": [
    "# Group by scenario\n",
    "MonthlyIlluminance = Illuminance.groupby([\"Scenario\", \"Month\"])\n",
    "\n",
    "#MonthlyIlluminance.mean()"
   ]
  },
  {
   "cell_type": "code",
   "execution_count": 51,
   "metadata": {},
   "outputs": [],
   "source": [
    "# Export grouped file to csv\n",
    "MonthlyIlluminance.mean().round(2).to_csv(\"../Scraper_Output/msp_monthly_illuminance.csv\", header=True, index=True)"
   ]
  },
  {
   "cell_type": "markdown",
   "metadata": {},
   "source": [
    "------\n",
    "\n",
    "## Get Hourly Energy Data\n",
    "Change units from Joules to therms and kWh<br>\n",
    "Drop unwanted columns"
   ]
  },
  {
   "cell_type": "code",
   "execution_count": 52,
   "metadata": {},
   "outputs": [],
   "source": [
    "# Copy dataframe to modify and leave original df intact\n",
    "all_data3 = all_data1.copy(deep=True)\n",
    "\n",
    "#all_data3"
   ]
  },
  {
   "cell_type": "code",
   "execution_count": 53,
   "metadata": {},
   "outputs": [],
   "source": [
    "# Get wanted columns\n",
    "# Include hourly illumance\n",
    "all_data3 = all_data3[[\"Scenario\",\n",
    "               \"Date/Time\",\n",
    "                             \"LIVING_UNIT1 DAYLIGHTINGCONTROLS:Daylighting Reference Point 1 Illuminance [lux](Hourly)\",\n",
    "                             \"SUPPLY FAN_UNIT1:Fan Electricity Energy [J](Hourly)\",\n",
    "                             \"MAIN GAS HEATING COIL_UNIT1:Heating Coil NaturalGas Energy [J](Hourly)\",\n",
    "                             \"DX COOLING COIL_UNIT1:Cooling Coil Electricity Energy [J](Hourly) \"\n",
    "                      ]]\n",
    "\n",
    "#all_data3"
   ]
  },
  {
   "cell_type": "code",
   "execution_count": 54,
   "metadata": {},
   "outputs": [],
   "source": [
    "# Rename Columns\n",
    "get_hourly = all_data3.rename(columns={\"Scenario\":\"Scenario\",\n",
    "                              \"Date/Time\":\"Date_Time\",\n",
    "                             \"LIVING_UNIT1 DAYLIGHTINGCONTROLS:Daylighting Reference Point 1 Illuminance [lux](Hourly)\":\"Illuminance(lux)\",\n",
    "                             \"SUPPLY FAN_UNIT1:Fan Electricity Energy [J](Hourly)\":\"FanEnergy[J](Hourly)\",\n",
    "                             \"MAIN GAS HEATING COIL_UNIT1:Heating Coil NaturalGas Energy [J](Hourly)\":\"HeatingEnergy[J](Hourly)\",\n",
    "                             \"DX COOLING COIL_UNIT1:Cooling Coil Electricity Energy [J](Hourly) \":\"CoolingEnergy[J](Hourly) \"\n",
    "                             })\n",
    "\n",
    "#get_hourly"
   ]
  },
  {
   "cell_type": "code",
   "execution_count": 55,
   "metadata": {},
   "outputs": [],
   "source": [
    "# Convert Joules to kWh and therms in new dataframe\n",
    "get_hourly[\"FanEnergy(kWh)\"] = get_hourly[\"FanEnergy[J](Hourly)\"] * .000000277777778\n",
    "get_hourly[\"HeatingEnergy(therms)\"] = get_hourly[\"HeatingEnergy[J](Hourly)\"] * .0000000094781712\n",
    "get_hourly[\"CoolingEnergy(kWh)\"] = get_hourly[\"CoolingEnergy[J](Hourly) \"] * .000000277777778\n",
    "\n",
    "#get_hourly"
   ]
  },
  {
   "cell_type": "code",
   "execution_count": 56,
   "metadata": {},
   "outputs": [],
   "source": [
    "# Drop columns\n",
    "get_hourly.drop(columns = [\"FanEnergy[J](Hourly)\", \"HeatingEnergy[J](Hourly)\", \"CoolingEnergy[J](Hourly) \"], axis=1, inplace=True)\n",
    "\n",
    "#get_monthly"
   ]
  },
  {
   "cell_type": "markdown",
   "metadata": {},
   "source": [
    "------\n",
    "\n",
    "## Get Hourly Cost Data\n",
    "Change units from Joules to therms and kWh<br>\n",
    "Add cost multiplier, variable needs to be defined above"
   ]
  },
  {
   "cell_type": "code",
   "execution_count": 57,
   "metadata": {},
   "outputs": [],
   "source": [
    "# Copy dataframe to modify and leave original df intact\n",
    "get_hourly_costs = all_data3.copy(deep=True)\n",
    "\n",
    "#get_hourly_costs"
   ]
  },
  {
   "cell_type": "code",
   "execution_count": 58,
   "metadata": {},
   "outputs": [],
   "source": [
    "# Rename Columns\n",
    "get_hourly_costs = get_hourly_costs.rename(columns={\"Scenario\":\"Scenario\",\n",
    "                              \"Date/Time\":\"Date_Time\",\n",
    "                             \"LIVING_UNIT1 DAYLIGHTINGCONTROLS:Daylighting Reference Point 1 Illuminance [lux](Hourly)\":\"Illuminance(lux)\",\n",
    "                             \"SUPPLY FAN_UNIT1:Fan Electricity Energy [J](Hourly)\":\"FanEnergy[J](Hourly)\",\n",
    "                             \"MAIN GAS HEATING COIL_UNIT1:Heating Coil NaturalGas Energy [J](Hourly)\":\"HeatingEnergy[J](Hourly)\",\n",
    "                             \"DX COOLING COIL_UNIT1:Cooling Coil Electricity Energy [J](Hourly) \":\"CoolingEnergy[J](Hourly) \"\n",
    "                             })\n",
    "\n",
    "# get_hourly_costs"
   ]
  },
  {
   "cell_type": "code",
   "execution_count": 59,
   "metadata": {},
   "outputs": [],
   "source": [
    "# Convert Joules to KBtu in dataframe and add cost multiplier\n",
    "# Gas kbtu => Mbtu => therms: (kbtu/1000) * 10\n",
    "# Elec kbtu => Kwh (kbtu * .000000277777778)\n",
    "get_hourly_costs[\"FanEnergy($)\"] = (get_hourly_costs[\"FanEnergy[J](Hourly)\"] * .000000277777778) * elec\n",
    "get_hourly_costs[\"HeatingEnergy($)\"] = ((get_hourly_costs[\"HeatingEnergy[J](Hourly)\"] * .00000094781712)/1000) * 10  * gas\n",
    "get_hourly_costs[\"CoolingEnergy($)\"] = (get_hourly_costs[\"CoolingEnergy[J](Hourly) \"] * .000000277777778) * elec\n",
    "\n",
    "#get_monthly_costs"
   ]
  },
  {
   "cell_type": "code",
   "execution_count": 60,
   "metadata": {},
   "outputs": [],
   "source": [
    "# Drop columns\n",
    "get_hourly_costs.drop(columns = [\"FanEnergy[J](Hourly)\", \"HeatingEnergy[J](Hourly)\", \"CoolingEnergy[J](Hourly) \"], axis=1, inplace=True)\n",
    "\n",
    "#get_hourly_costs"
   ]
  },
  {
   "cell_type": "markdown",
   "metadata": {},
   "source": [
    "## Combine Hourly Energy and Cost Data\n",
    "Combine two dfs<br>\n",
    "Establish baseline <br>\n",
    "Export combine file"
   ]
  },
  {
   "cell_type": "code",
   "execution_count": 61,
   "metadata": {},
   "outputs": [],
   "source": [
    "# Combine data for energy and cost\n",
    "allHourlyData = pd.merge(get_hourly, get_hourly_costs, how=\"inner\")\n",
    "\n",
    "#allHourlyData"
   ]
  },
  {
   "cell_type": "code",
   "execution_count": 62,
   "metadata": {},
   "outputs": [],
   "source": [
    "# Add energy cost totals\n",
    "\n",
    "totalCosthourly = allHourlyData[\"FanEnergy($)\"] + allHourlyData[\"HeatingEnergy($)\"] + allHourlyData[\"CoolingEnergy($)\"]\n",
    "allHourlyData[\"HourlyCost($)\"] = totalCosthourly\n",
    "\n",
    "#allHourlyData"
   ]
  },
  {
   "cell_type": "markdown",
   "metadata": {},
   "source": [
    "\n",
    "### Establish Hourly Energy and Cost Baseline Data\n"
   ]
  },
  {
   "cell_type": "code",
   "execution_count": 63,
   "metadata": {
    "scrolled": true
   },
   "outputs": [],
   "source": [
    "# Establish energy target. % improvement from the average of Heat + Cool + Fan of Clear/Clear-VB0 (dual clear with a Venetian Blind at 0 degrees).\n",
    "baseline_hourly = allHourlyData[allHourlyData[\"Scenario\"] == \"Clear/Clear-VB0\"]\n",
    "\n",
    "#baseline_hourly"
   ]
  },
  {
   "cell_type": "code",
   "execution_count": 64,
   "metadata": {
    "scrolled": true
   },
   "outputs": [
    {
     "data": {
      "text/plain": [
       "0.08426108447041908"
      ]
     },
     "execution_count": 64,
     "metadata": {},
     "output_type": "execute_result"
    }
   ],
   "source": [
    "hourlyEnergy_fan = baseline_hourly[\"FanEnergy(kWh)\"].mean()\n",
    "hourlyEnergy_fan"
   ]
  },
  {
   "cell_type": "code",
   "execution_count": 65,
   "metadata": {
    "scrolled": true
   },
   "outputs": [
    {
     "data": {
      "text/plain": [
       "0.3060763500734302"
      ]
     },
     "execution_count": 65,
     "metadata": {},
     "output_type": "execute_result"
    }
   ],
   "source": [
    "hourlyEnergy_cool = baseline_hourly[\"CoolingEnergy(kWh)\"].mean()\n",
    "hourlyEnergy_cool"
   ]
  },
  {
   "cell_type": "code",
   "execution_count": 66,
   "metadata": {},
   "outputs": [
    {
     "data": {
      "text/plain": [
       "0.12156471368365519"
      ]
     },
     "execution_count": 66,
     "metadata": {},
     "output_type": "execute_result"
    }
   ],
   "source": [
    "hourlyEnergy_heat = baseline_hourly[\"HeatingEnergy(therms)\"].mean()\n",
    "hourlyEnergy_heat"
   ]
  },
  {
   "cell_type": "code",
   "execution_count": 67,
   "metadata": {
    "scrolled": true
   },
   "outputs": [
    {
     "data": {
      "text/plain": [
       "0.011071906499413016"
      ]
     },
     "execution_count": 67,
     "metadata": {},
     "output_type": "execute_result"
    }
   ],
   "source": [
    "hourlyCost_fan = baseline_hourly[\"FanEnergy($)\"].mean()\n",
    "hourlyCost_fan"
   ]
  },
  {
   "cell_type": "code",
   "execution_count": 68,
   "metadata": {
    "scrolled": true
   },
   "outputs": [
    {
     "data": {
      "text/plain": [
       "0.04021843239964872"
      ]
     },
     "execution_count": 68,
     "metadata": {},
     "output_type": "execute_result"
    }
   ],
   "source": [
    "hourlyCost_cool = baseline_hourly[\"CoolingEnergy($)\"].mean()\n",
    "hourlyCost_cool"
   ]
  },
  {
   "cell_type": "code",
   "execution_count": 69,
   "metadata": {},
   "outputs": [
    {
     "data": {
      "text/plain": [
       "0.10089871235743367"
      ]
     },
     "execution_count": 69,
     "metadata": {},
     "output_type": "execute_result"
    }
   ],
   "source": [
    "hourlyCost_heat = baseline_hourly[\"HeatingEnergy($)\"].mean()\n",
    "hourlyCost_heat"
   ]
  },
  {
   "cell_type": "code",
   "execution_count": 70,
   "metadata": {
    "scrolled": true
   },
   "outputs": [
    {
     "data": {
      "text/plain": [
       "0.1521890512564954"
      ]
     },
     "execution_count": 70,
     "metadata": {},
     "output_type": "execute_result"
    }
   ],
   "source": [
    "hourlyCost = (hourlyCost_fan + hourlyCost_cool + hourlyCost_heat)\n",
    "hourlyCost"
   ]
  },
  {
   "cell_type": "markdown",
   "metadata": {},
   "source": [
    "## Export Hourly Data\n",
    "\n",
    "Add baselines to dataframe<br>\n",
    "Export to file"
   ]
  },
  {
   "cell_type": "code",
   "execution_count": 71,
   "metadata": {
    "scrolled": true
   },
   "outputs": [
    {
     "data": {
      "text/html": [
       "<div>\n",
       "<style scoped>\n",
       "    .dataframe tbody tr th:only-of-type {\n",
       "        vertical-align: middle;\n",
       "    }\n",
       "\n",
       "    .dataframe tbody tr th {\n",
       "        vertical-align: top;\n",
       "    }\n",
       "\n",
       "    .dataframe thead th {\n",
       "        text-align: right;\n",
       "    }\n",
       "</style>\n",
       "<table border=\"1\" class=\"dataframe\">\n",
       "  <thead>\n",
       "    <tr style=\"text-align: right;\">\n",
       "      <th></th>\n",
       "      <th>Scenario</th>\n",
       "      <th>Date_Time</th>\n",
       "      <th>Illuminance(lux)</th>\n",
       "      <th>FanEnergy(kWh)</th>\n",
       "      <th>HeatingEnergy(therms)</th>\n",
       "      <th>CoolingEnergy(kWh)</th>\n",
       "      <th>FanEnergy($)</th>\n",
       "      <th>HeatingEnergy($)</th>\n",
       "      <th>CoolingEnergy($)</th>\n",
       "      <th>HourlyCost($)</th>\n",
       "      <th>DeltaFanFromBase</th>\n",
       "      <th>DeltaCoolFromBase</th>\n",
       "      <th>DeltaHeatFromBase</th>\n",
       "      <th>DeltaCostFromBase</th>\n",
       "    </tr>\n",
       "  </thead>\n",
       "  <tbody>\n",
       "    <tr>\n",
       "      <th>0</th>\n",
       "      <td>Clear/lowE(3)-VB-15</td>\n",
       "      <td>01/01  01:00:00</td>\n",
       "      <td>0.0</td>\n",
       "      <td>0.12</td>\n",
       "      <td>0.26</td>\n",
       "      <td>0.0</td>\n",
       "      <td>0.02</td>\n",
       "      <td>0.22</td>\n",
       "      <td>0.0</td>\n",
       "      <td>0.23</td>\n",
       "      <td>0.04</td>\n",
       "      <td>-0.31</td>\n",
       "      <td>0.14</td>\n",
       "      <td>0.08</td>\n",
       "    </tr>\n",
       "    <tr>\n",
       "      <th>1</th>\n",
       "      <td>Clear/lowE(3)-VB-15</td>\n",
       "      <td>01/01  02:00:00</td>\n",
       "      <td>0.0</td>\n",
       "      <td>0.13</td>\n",
       "      <td>0.30</td>\n",
       "      <td>0.0</td>\n",
       "      <td>0.02</td>\n",
       "      <td>0.25</td>\n",
       "      <td>0.0</td>\n",
       "      <td>0.26</td>\n",
       "      <td>0.05</td>\n",
       "      <td>-0.31</td>\n",
       "      <td>0.17</td>\n",
       "      <td>0.11</td>\n",
       "    </tr>\n",
       "    <tr>\n",
       "      <th>2</th>\n",
       "      <td>Clear/lowE(3)-VB-15</td>\n",
       "      <td>01/01  03:00:00</td>\n",
       "      <td>0.0</td>\n",
       "      <td>0.14</td>\n",
       "      <td>0.30</td>\n",
       "      <td>0.0</td>\n",
       "      <td>0.02</td>\n",
       "      <td>0.25</td>\n",
       "      <td>0.0</td>\n",
       "      <td>0.27</td>\n",
       "      <td>0.05</td>\n",
       "      <td>-0.31</td>\n",
       "      <td>0.18</td>\n",
       "      <td>0.12</td>\n",
       "    </tr>\n",
       "    <tr>\n",
       "      <th>3</th>\n",
       "      <td>Clear/lowE(3)-VB-15</td>\n",
       "      <td>01/01  04:00:00</td>\n",
       "      <td>0.0</td>\n",
       "      <td>0.14</td>\n",
       "      <td>0.30</td>\n",
       "      <td>0.0</td>\n",
       "      <td>0.02</td>\n",
       "      <td>0.25</td>\n",
       "      <td>0.0</td>\n",
       "      <td>0.27</td>\n",
       "      <td>0.05</td>\n",
       "      <td>-0.31</td>\n",
       "      <td>0.18</td>\n",
       "      <td>0.12</td>\n",
       "    </tr>\n",
       "    <tr>\n",
       "      <th>4</th>\n",
       "      <td>Clear/lowE(3)-VB-15</td>\n",
       "      <td>01/01  05:00:00</td>\n",
       "      <td>0.0</td>\n",
       "      <td>0.14</td>\n",
       "      <td>0.31</td>\n",
       "      <td>0.0</td>\n",
       "      <td>0.02</td>\n",
       "      <td>0.26</td>\n",
       "      <td>0.0</td>\n",
       "      <td>0.27</td>\n",
       "      <td>0.06</td>\n",
       "      <td>-0.31</td>\n",
       "      <td>0.19</td>\n",
       "      <td>0.12</td>\n",
       "    </tr>\n",
       "    <tr>\n",
       "      <th>...</th>\n",
       "      <td>...</td>\n",
       "      <td>...</td>\n",
       "      <td>...</td>\n",
       "      <td>...</td>\n",
       "      <td>...</td>\n",
       "      <td>...</td>\n",
       "      <td>...</td>\n",
       "      <td>...</td>\n",
       "      <td>...</td>\n",
       "      <td>...</td>\n",
       "      <td>...</td>\n",
       "      <td>...</td>\n",
       "      <td>...</td>\n",
       "      <td>...</td>\n",
       "    </tr>\n",
       "    <tr>\n",
       "      <th>1716955</th>\n",
       "      <td>lowE(2)/lowE(4)-BBG75</td>\n",
       "      <td>12/31  20:00:00</td>\n",
       "      <td>0.0</td>\n",
       "      <td>0.08</td>\n",
       "      <td>0.18</td>\n",
       "      <td>0.0</td>\n",
       "      <td>0.01</td>\n",
       "      <td>0.15</td>\n",
       "      <td>0.0</td>\n",
       "      <td>0.16</td>\n",
       "      <td>-0.00</td>\n",
       "      <td>-0.31</td>\n",
       "      <td>0.06</td>\n",
       "      <td>0.01</td>\n",
       "    </tr>\n",
       "    <tr>\n",
       "      <th>1716956</th>\n",
       "      <td>lowE(2)/lowE(4)-BBG75</td>\n",
       "      <td>12/31  21:00:00</td>\n",
       "      <td>0.0</td>\n",
       "      <td>0.08</td>\n",
       "      <td>0.18</td>\n",
       "      <td>0.0</td>\n",
       "      <td>0.01</td>\n",
       "      <td>0.15</td>\n",
       "      <td>0.0</td>\n",
       "      <td>0.16</td>\n",
       "      <td>-0.00</td>\n",
       "      <td>-0.31</td>\n",
       "      <td>0.06</td>\n",
       "      <td>0.01</td>\n",
       "    </tr>\n",
       "    <tr>\n",
       "      <th>1716957</th>\n",
       "      <td>lowE(2)/lowE(4)-BBG75</td>\n",
       "      <td>12/31  22:00:00</td>\n",
       "      <td>0.0</td>\n",
       "      <td>0.08</td>\n",
       "      <td>0.18</td>\n",
       "      <td>0.0</td>\n",
       "      <td>0.01</td>\n",
       "      <td>0.15</td>\n",
       "      <td>0.0</td>\n",
       "      <td>0.16</td>\n",
       "      <td>-0.00</td>\n",
       "      <td>-0.31</td>\n",
       "      <td>0.06</td>\n",
       "      <td>0.01</td>\n",
       "    </tr>\n",
       "    <tr>\n",
       "      <th>1716958</th>\n",
       "      <td>lowE(2)/lowE(4)-BBG75</td>\n",
       "      <td>12/31  23:00:00</td>\n",
       "      <td>0.0</td>\n",
       "      <td>0.09</td>\n",
       "      <td>0.19</td>\n",
       "      <td>0.0</td>\n",
       "      <td>0.01</td>\n",
       "      <td>0.16</td>\n",
       "      <td>0.0</td>\n",
       "      <td>0.17</td>\n",
       "      <td>0.00</td>\n",
       "      <td>-0.31</td>\n",
       "      <td>0.07</td>\n",
       "      <td>0.02</td>\n",
       "    </tr>\n",
       "    <tr>\n",
       "      <th>1716959</th>\n",
       "      <td>lowE(2)/lowE(4)-BBG75</td>\n",
       "      <td>12/31  24:00:00</td>\n",
       "      <td>0.0</td>\n",
       "      <td>0.09</td>\n",
       "      <td>0.19</td>\n",
       "      <td>0.0</td>\n",
       "      <td>0.01</td>\n",
       "      <td>0.16</td>\n",
       "      <td>0.0</td>\n",
       "      <td>0.17</td>\n",
       "      <td>0.00</td>\n",
       "      <td>-0.31</td>\n",
       "      <td>0.07</td>\n",
       "      <td>0.02</td>\n",
       "    </tr>\n",
       "  </tbody>\n",
       "</table>\n",
       "<p>1716960 rows × 14 columns</p>\n",
       "</div>"
      ],
      "text/plain": [
       "                      Scenario         Date_Time  Illuminance(lux)  \\\n",
       "0          Clear/lowE(3)-VB-15   01/01  01:00:00               0.0   \n",
       "1          Clear/lowE(3)-VB-15   01/01  02:00:00               0.0   \n",
       "2          Clear/lowE(3)-VB-15   01/01  03:00:00               0.0   \n",
       "3          Clear/lowE(3)-VB-15   01/01  04:00:00               0.0   \n",
       "4          Clear/lowE(3)-VB-15   01/01  05:00:00               0.0   \n",
       "...                        ...               ...               ...   \n",
       "1716955  lowE(2)/lowE(4)-BBG75   12/31  20:00:00               0.0   \n",
       "1716956  lowE(2)/lowE(4)-BBG75   12/31  21:00:00               0.0   \n",
       "1716957  lowE(2)/lowE(4)-BBG75   12/31  22:00:00               0.0   \n",
       "1716958  lowE(2)/lowE(4)-BBG75   12/31  23:00:00               0.0   \n",
       "1716959  lowE(2)/lowE(4)-BBG75   12/31  24:00:00               0.0   \n",
       "\n",
       "         FanEnergy(kWh)  HeatingEnergy(therms)  CoolingEnergy(kWh)  \\\n",
       "0                  0.12                   0.26                 0.0   \n",
       "1                  0.13                   0.30                 0.0   \n",
       "2                  0.14                   0.30                 0.0   \n",
       "3                  0.14                   0.30                 0.0   \n",
       "4                  0.14                   0.31                 0.0   \n",
       "...                 ...                    ...                 ...   \n",
       "1716955            0.08                   0.18                 0.0   \n",
       "1716956            0.08                   0.18                 0.0   \n",
       "1716957            0.08                   0.18                 0.0   \n",
       "1716958            0.09                   0.19                 0.0   \n",
       "1716959            0.09                   0.19                 0.0   \n",
       "\n",
       "         FanEnergy($)  HeatingEnergy($)  CoolingEnergy($)  HourlyCost($)  \\\n",
       "0                0.02              0.22               0.0           0.23   \n",
       "1                0.02              0.25               0.0           0.26   \n",
       "2                0.02              0.25               0.0           0.27   \n",
       "3                0.02              0.25               0.0           0.27   \n",
       "4                0.02              0.26               0.0           0.27   \n",
       "...               ...               ...               ...            ...   \n",
       "1716955          0.01              0.15               0.0           0.16   \n",
       "1716956          0.01              0.15               0.0           0.16   \n",
       "1716957          0.01              0.15               0.0           0.16   \n",
       "1716958          0.01              0.16               0.0           0.17   \n",
       "1716959          0.01              0.16               0.0           0.17   \n",
       "\n",
       "         DeltaFanFromBase  DeltaCoolFromBase  DeltaHeatFromBase  \\\n",
       "0                    0.04              -0.31               0.14   \n",
       "1                    0.05              -0.31               0.17   \n",
       "2                    0.05              -0.31               0.18   \n",
       "3                    0.05              -0.31               0.18   \n",
       "4                    0.06              -0.31               0.19   \n",
       "...                   ...                ...                ...   \n",
       "1716955             -0.00              -0.31               0.06   \n",
       "1716956             -0.00              -0.31               0.06   \n",
       "1716957             -0.00              -0.31               0.06   \n",
       "1716958              0.00              -0.31               0.07   \n",
       "1716959              0.00              -0.31               0.07   \n",
       "\n",
       "         DeltaCostFromBase  \n",
       "0                     0.08  \n",
       "1                     0.11  \n",
       "2                     0.12  \n",
       "3                     0.12  \n",
       "4                     0.12  \n",
       "...                    ...  \n",
       "1716955               0.01  \n",
       "1716956               0.01  \n",
       "1716957               0.01  \n",
       "1716958               0.02  \n",
       "1716959               0.02  \n",
       "\n",
       "[1716960 rows x 14 columns]"
      ]
     },
     "execution_count": 71,
     "metadata": {},
     "output_type": "execute_result"
    }
   ],
   "source": [
    "# Add columns for delta from base\n",
    "allHourlyData[\"DeltaFanFromBase\"] = allHourlyData[\"FanEnergy(kWh)\"] - hourlyEnergy_fan\n",
    "allHourlyData[\"DeltaCoolFromBase\"] = allHourlyData[\"CoolingEnergy(kWh)\"] - hourlyEnergy_cool\n",
    "allHourlyData[\"DeltaHeatFromBase\"] = allHourlyData[\"HeatingEnergy(therms)\"] - hourlyEnergy_heat\n",
    "allHourlyData[\"DeltaCostFromBase\"] = allHourlyData[\"HourlyCost($)\"] - hourlyCost\n",
    "\n",
    "allHourlyData.round(2)"
   ]
  },
  {
   "cell_type": "code",
   "execution_count": 72,
   "metadata": {},
   "outputs": [],
   "source": [
    "# Export grouped file to csv for daily cost sums\n",
    "allHourlyData.to_csv(\"../Scraper_Output/msp_daily.csv\", header=True, index=False)"
   ]
  }
 ],
 "metadata": {
  "kernelspec": {
   "display_name": "Python 3",
   "language": "python",
   "name": "python3"
  },
  "language_info": {
   "codemirror_mode": {
    "name": "ipython",
    "version": 3
   },
   "file_extension": ".py",
   "mimetype": "text/x-python",
   "name": "python",
   "nbconvert_exporter": "python",
   "pygments_lexer": "ipython3",
   "version": "3.6.10"
  },
  "varInspector": {
   "cols": {
    "lenName": 16,
    "lenType": 16,
    "lenVar": 40
   },
   "kernels_config": {
    "python": {
     "delete_cmd_postfix": "",
     "delete_cmd_prefix": "del ",
     "library": "var_list.py",
     "varRefreshCmd": "print(var_dic_list())"
    },
    "r": {
     "delete_cmd_postfix": ") ",
     "delete_cmd_prefix": "rm(",
     "library": "var_list.r",
     "varRefreshCmd": "cat(var_dic_list()) "
    }
   },
   "types_to_exclude": [
    "module",
    "function",
    "builtin_function_or_method",
    "instance",
    "_Feature"
   ],
   "window_display": false
  }
 },
 "nbformat": 4,
 "nbformat_minor": 2
}
