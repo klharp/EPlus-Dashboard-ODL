{
 "cells": [
  {
   "cell_type": "markdown",
   "metadata": {},
   "source": [
    "# Minneapolis, MN Simulations\n",
    "8760 rows per simulation<br>\n",
    "196 files (removed cell-in-cell)"
   ]
  },
  {
   "cell_type": "code",
   "execution_count": 1,
   "metadata": {},
   "outputs": [],
   "source": [
    "# Dependencies\n",
    "import pandas as pd\n",
    "import os\n",
    "import numpy as np\n",
    "import pprint\n",
    "from pathlib import Path\n",
    "from datetime import datetime"
   ]
  },
  {
   "cell_type": "markdown",
   "metadata": {},
   "source": [
    "## Energy Conversions\n",
    "\n",
    "As per E* Documentation<br>\n",
    "\n",
    "Joules --> kBtu (multiply by .00000094781712)<br>\n",
    "Joules --> kWh (multiply by .000000277777778) or (divide by 3600000)<br>\n",
    "Joules --> therms (multiply by .0000000094781712<br>\n",
    "\n",
    "foot-candles --> Lux (multiply by 10.7642)"
   ]
  },
  {
   "cell_type": "markdown",
   "metadata": {},
   "source": [
    "<div>\n",
    "    <img src=\"static/images/elect_conv.png\" width=\"400\"/>\n",
    "     <img src=\"static/images/gas_conv.png\" width=\"400\"/>\n",
    "</div"
   ]
  },
  {
   "cell_type": "code",
   "execution_count": 2,
   "metadata": {},
   "outputs": [],
   "source": [
    "# 2018 Egrid Costs (elec $/kWh, gas $/therm), change values per city\n",
    "gas = 0.83\n",
    "elec = 0.1314"
   ]
  },
  {
   "cell_type": "markdown",
   "metadata": {},
   "source": [
    "---\n",
    "\n",
    "## Combine CSV Files in Directory"
   ]
  },
  {
   "cell_type": "code",
   "execution_count": 3,
   "metadata": {},
   "outputs": [],
   "source": [
    "# Create variable for files in directory\n",
    "files = [f for f in os.listdir(\"data/msp/\") if f.endswith(\".csv\")]\n",
    "\n",
    "# files"
   ]
  },
  {
   "cell_type": "code",
   "execution_count": 4,
   "metadata": {},
   "outputs": [],
   "source": [
    "# https://stackoverflow.com/questions/63886787/how-to-create-a-dataframe-from-multiple-csv-files\n",
    "# Initialize and empty dataframe\n",
    "all_data = pd.DataFrame()\n",
    "\n",
    "# Iterate through files and contents, then concatenate the data into the dataframe\n",
    "for file in files:\n",
    "    df = pd.read_csv(\"data/msp/\" + file)\n",
    "    all_data = pd.concat([all_data, df])\n",
    "    \n",
    "#all_data\n",
    "\n",
    "# 1716960  rows, 73 columns"
   ]
  },
  {
   "cell_type": "code",
   "execution_count": 5,
   "metadata": {},
   "outputs": [],
   "source": [
    "# all_data.dtypes"
   ]
  },
  {
   "cell_type": "code",
   "execution_count": 6,
   "metadata": {},
   "outputs": [],
   "source": [
    "# Get wanted columns\n",
    "all_data1 = all_data[[\"Scenario\",\n",
    "               \"Date/Time\",\n",
    "              \"LIVING_UNIT1 DAYLIGHTINGCONTROLS:Daylighting Reference Point 1 Illuminance [lux](Hourly)\",\n",
    "              \"SUPPLY FAN_UNIT1:Fan Electricity Energy [J](Hourly)\",\n",
    "              \"MAIN GAS HEATING COIL_UNIT1:Heating Coil NaturalGas Energy [J](Hourly)\",\n",
    "              \"DX COOLING COIL_UNIT1:Cooling Coil Electricity Energy [J](Hourly) \"]]\n",
    "\n",
    "#all_data1"
   ]
  },
  {
   "cell_type": "code",
   "execution_count": 7,
   "metadata": {},
   "outputs": [],
   "source": [
    "all_data1 = all_data1.dropna().reset_index(drop=True)\n",
    "\n",
    "#all_data1\n",
    "\n",
    "#1716960  rows, 73 columns"
   ]
  },
  {
   "cell_type": "markdown",
   "metadata": {},
   "source": [
    "-----\n",
    "\n",
    "## Get the Wanted Data (columns)"
   ]
  },
  {
   "cell_type": "code",
   "execution_count": 8,
   "metadata": {
    "scrolled": true
   },
   "outputs": [],
   "source": [
    "# Rename Columns\n",
    "all_data2 = all_data1.rename(columns={\"Scenario\":\"Scenario\",\n",
    "                              \"Date/Time\":\"Date_Time\",\n",
    "                             \"LIVING_UNIT1 DAYLIGHTINGCONTROLS:Daylighting Reference Point 1 Illuminance [lux](Hourly)\":\"Illuminance(lux)\",\n",
    "                             \"SUPPLY FAN_UNIT1:Fan Electricity Energy [J](Hourly)\":\"FanEnergy[J](Hourly)\",\n",
    "                             \"MAIN GAS HEATING COIL_UNIT1:Heating Coil NaturalGas Energy [J](Hourly)\":\"HeatingEnergy[J](Hourly)\",\n",
    "                             \"DX COOLING COIL_UNIT1:Cooling Coil Electricity Energy [J](Hourly) \":\"CoolingEnergy[J](Hourly) \"\n",
    "                             })\n",
    "\n",
    "#all_data2\n",
    "\n",
    "#1716960  rows, 6 columns"
   ]
  },
  {
   "cell_type": "markdown",
   "metadata": {},
   "source": [
    "-----\n",
    "\n",
    "## Get Annual Energy Data\n",
    "Convert units from Joules to kBtu<br>\n",
    "Drop Illuminance column<br>\n"
   ]
  },
  {
   "cell_type": "code",
   "execution_count": 9,
   "metadata": {},
   "outputs": [],
   "source": [
    "# Copy dataframe to modify and leave original df intact\n",
    "get_annual = all_data2.copy(deep=True)\n",
    "\n",
    "#get_annual"
   ]
  },
  {
   "cell_type": "code",
   "execution_count": 10,
   "metadata": {},
   "outputs": [],
   "source": [
    "# Convert Joules to KBtu in dataframe\n",
    "get_annual[\"FanEnergy(kBtu)\"] = get_annual[\"FanEnergy[J](Hourly)\"] * .00000094781712\n",
    "get_annual[\"HeatingEnergy(kBtu)\"] = get_annual[\"HeatingEnergy[J](Hourly)\"] * .00000094781712\n",
    "get_annual[\"CoolingEnergy(kBtu)\"] = get_annual[\"CoolingEnergy[J](Hourly) \"] * .00000094781712\n",
    "\n",
    "#get_annual"
   ]
  },
  {
   "cell_type": "code",
   "execution_count": 11,
   "metadata": {},
   "outputs": [],
   "source": [
    "# Drop columns\n",
    "get_annual.drop(columns = [\"FanEnergy[J](Hourly)\", \"HeatingEnergy[J](Hourly)\", \"CoolingEnergy[J](Hourly) \"], axis=1, inplace=True)\n",
    "\n",
    "#get_annual"
   ]
  },
  {
   "cell_type": "markdown",
   "metadata": {},
   "source": [
    "---\n",
    "\n",
    "## Get Annual Cost Data\n",
    "Convert units from Joules to kBtu<br>\n",
    "Drop Illuminance column<br>\n",
    "Add cost multiplier, variables defined above"
   ]
  },
  {
   "cell_type": "code",
   "execution_count": 12,
   "metadata": {},
   "outputs": [],
   "source": [
    "# Get annual costs\n",
    "get_annual_costs = all_data2.copy(deep=True)"
   ]
  },
  {
   "cell_type": "code",
   "execution_count": 13,
   "metadata": {},
   "outputs": [],
   "source": [
    "# Convert Joules to KBtu in dataframe and add cost multiplier\n",
    "# Gas kbtu => Mbtu => therms: (kbtu/1000) * 10\n",
    "# Elec kbtu => Kwh (kbtu * .000000277777778)\n",
    "get_annual_costs[\"FanCost($)\"] = (get_annual_costs[\"FanEnergy[J](Hourly)\"] * .000000277777778) * elec\n",
    "get_annual_costs[\"HeatingCost($)\"] = ((get_annual_costs[\"HeatingEnergy[J](Hourly)\"] * .00000094781712)/1000) * 10  * gas\n",
    "get_annual_costs[\"CoolingCost($)\"] = (get_annual_costs[\"CoolingEnergy[J](Hourly) \"] * .000000277777778) * elec\n",
    "\n",
    "#get_annual_costs"
   ]
  },
  {
   "cell_type": "code",
   "execution_count": 14,
   "metadata": {},
   "outputs": [],
   "source": [
    "# Drop columns\n",
    "get_annual_costs.drop(columns = [\"Illuminance(lux)\",\"FanEnergy[J](Hourly)\", \"HeatingEnergy[J](Hourly)\", \"CoolingEnergy[J](Hourly) \"], axis=1, inplace=True)\n",
    "\n",
    "#get_annual_costs"
   ]
  },
  {
   "cell_type": "markdown",
   "metadata": {},
   "source": [
    "---\n",
    "\n",
    "## Combine Annual Energy and Cost Data\n",
    "Combine two dfs<br>\n",
    "Add baseline data <br>\n",
    "Export combine file"
   ]
  },
  {
   "cell_type": "code",
   "execution_count": 15,
   "metadata": {},
   "outputs": [],
   "source": [
    "# Combine data for energy and cost\n",
    "allAnnualData = pd.merge(get_annual, get_annual_costs)\n",
    "\n",
    "#allAnnualData"
   ]
  },
  {
   "cell_type": "code",
   "execution_count": 16,
   "metadata": {},
   "outputs": [],
   "source": [
    "# Add energy and cost totals\n",
    "totalEnergy = allAnnualData[\"FanEnergy(kBtu)\"] + allAnnualData[\"HeatingEnergy(kBtu)\"] + allAnnualData[\"CoolingEnergy(kBtu)\"]\n",
    "allAnnualData[\"AnnualEnergy(kBtu)\"] = totalEnergy\n",
    "\n",
    "totalCost = allAnnualData[\"FanCost($)\"] + allAnnualData[\"HeatingCost($)\"] + allAnnualData[\"CoolingCost($)\"]\n",
    "allAnnualData[\"AnnualCost($)\"] = totalCost\n",
    "\n",
    "#allAnnualData"
   ]
  },
  {
   "cell_type": "code",
   "execution_count": 17,
   "metadata": {},
   "outputs": [],
   "source": [
    "# Export hourly data to csv, keeping units in kBtus to be able to combine heating, cooling and fans for baseline comparison\n",
    "allAnnualData.to_csv(\"../Scraper_Output/msp_hourly_data.csv\", header=True, index=True)"
   ]
  },
  {
   "cell_type": "markdown",
   "metadata": {},
   "source": [
    "---\n",
    "## Group and Export Annual Data\n",
    "Group dataframe by scenario<br>\n",
    "Add baselines to dataframe<br>\n",
    "Export to file"
   ]
  },
  {
   "cell_type": "code",
   "execution_count": 18,
   "metadata": {},
   "outputs": [],
   "source": [
    "# Group by scenario\n",
    "annualData = allAnnualData.groupby([\"Scenario\"], as_index=True)\n",
    "\n",
    "#annualData.sum().round(2)"
   ]
  },
  {
   "cell_type": "code",
   "execution_count": 19,
   "metadata": {},
   "outputs": [],
   "source": [
    "annualDataFinal = annualData.sum().round(2)\n",
    "\n",
    "#annualDataFinal"
   ]
  },
  {
   "cell_type": "code",
   "execution_count": 21,
   "metadata": {},
   "outputs": [],
   "source": [
    "# Export grouped file to csv\n",
    "annualDataFinal.to_csv(\"../Scraper_Output/msp_annual_data.csv\", header=True, index=True)"
   ]
  },
  {
   "cell_type": "markdown",
   "metadata": {},
   "source": [
    "-----\n",
    "\n",
    "## Get Monthly Energy Data\n",
    "Change units from Joules to therms and kWh<br>\n",
    "Drop unwanted columns"
   ]
  },
  {
   "cell_type": "code",
   "execution_count": 22,
   "metadata": {},
   "outputs": [],
   "source": [
    "# Copy dataframe to modify and leave original df intact\n",
    "get_monthly = all_data2.copy(deep=True)\n",
    "\n",
    "#get_monthly"
   ]
  },
  {
   "cell_type": "code",
   "execution_count": 23,
   "metadata": {},
   "outputs": [],
   "source": [
    "# Convert Joules to kWh and therms in new dataframe\n",
    "get_monthly[\"FanEnergy(kWh)\"] = get_monthly[\"FanEnergy[J](Hourly)\"] * .000000277777778\n",
    "get_monthly[\"HeatingEnergy(therms)\"] = get_monthly[\"HeatingEnergy[J](Hourly)\"] * .0000000094781712\n",
    "get_monthly[\"CoolingEnergy(kWh)\"] = get_monthly[\"CoolingEnergy[J](Hourly) \"] * .000000277777778\n",
    "\n",
    "#get_monthly"
   ]
  },
  {
   "cell_type": "code",
   "execution_count": 24,
   "metadata": {},
   "outputs": [],
   "source": [
    "# Drop columns\n",
    "get_monthly.drop(columns = [\"FanEnergy[J](Hourly)\", \"HeatingEnergy[J](Hourly)\", \"CoolingEnergy[J](Hourly) \"], axis=1, inplace=True)\n",
    "\n",
    "#get_monthly"
   ]
  },
  {
   "cell_type": "markdown",
   "metadata": {},
   "source": [
    "## Get Monthly Cost Data\n",
    "\n",
    "Change units from Joules to therms and kWh<br>\n",
    "Add cost multiplier, variable needs to be defined above"
   ]
  },
  {
   "cell_type": "code",
   "execution_count": 25,
   "metadata": {},
   "outputs": [],
   "source": [
    "# Copy dataframe to modify and leave original df intact\n",
    "get_monthly_costs = all_data2.copy(deep=True)\n",
    "\n",
    "#get_monthly"
   ]
  },
  {
   "cell_type": "code",
   "execution_count": 26,
   "metadata": {},
   "outputs": [],
   "source": [
    "# Convert Joules to KBtu in dataframe and add cost multiplier\n",
    "# Gas kbtu => Mbtu => therms: (kbtu/1000) * 10\n",
    "# Elec kbtu => Kwh (kbtu * .000000277777778)\n",
    "get_monthly_costs[\"FanCost($)\"] = (get_monthly_costs[\"FanEnergy[J](Hourly)\"] * .000000277777778) * elec\n",
    "get_monthly_costs[\"HeatingCost($)\"] = ((get_monthly_costs[\"HeatingEnergy[J](Hourly)\"] * .00000094781712)/1000) * 10  * gas\n",
    "get_monthly_costs[\"CoolingCost($)\"] = (get_monthly_costs[\"CoolingEnergy[J](Hourly) \"] * .000000277777778) * elec\n",
    "\n",
    "#get_monthly_costs"
   ]
  },
  {
   "cell_type": "code",
   "execution_count": 27,
   "metadata": {},
   "outputs": [],
   "source": [
    "# Drop columns\n",
    "get_monthly_costs.drop(columns = [\"FanEnergy[J](Hourly)\", \"HeatingEnergy[J](Hourly)\", \"CoolingEnergy[J](Hourly) \"], axis=1, inplace=True)\n",
    "\n",
    "#get_monthly_costs"
   ]
  },
  {
   "cell_type": "markdown",
   "metadata": {},
   "source": [
    "---\n",
    "\n",
    "## Combine Monthly Energy and Cost Data\n",
    "Combine two dfs<br>\n",
    "Create Month Column<br>\n",
    "Establish baseline <br>\n",
    "Export combine file"
   ]
  },
  {
   "cell_type": "code",
   "execution_count": 28,
   "metadata": {},
   "outputs": [],
   "source": [
    "# Combine data for energy and cost\n",
    "allMonthlyData = pd.merge(get_monthly, get_monthly_costs, how=\"inner\" )\n",
    "\n",
    "#allMonthlyData"
   ]
  },
  {
   "cell_type": "code",
   "execution_count": 29,
   "metadata": {},
   "outputs": [],
   "source": [
    "# Add cost totals, don't total energy...in different units\n",
    "totalCostMonthly = allMonthlyData[\"FanCost($)\"] + allMonthlyData[\"HeatingCost($)\"] + allMonthlyData[\"CoolingCost($)\"]\n",
    "allMonthlyData[\"MonthlyCost($)\"] = totalCostMonthly\n",
    "\n",
    "#allMonthlyData"
   ]
  },
  {
   "cell_type": "code",
   "execution_count": 30,
   "metadata": {
    "scrolled": true
   },
   "outputs": [],
   "source": [
    "allMonthlyData[\"Month\"] = allMonthlyData.Date_Time.str.slice(0,3)\n",
    "\n",
    "#allMonthlyData"
   ]
  },
  {
   "cell_type": "markdown",
   "metadata": {},
   "source": [
    "## Group and Export Monthly Data\n",
    "Group dataframe by scenario and month<br>\n",
    "Add baselines to dataframe<br>\n",
    "Export to file"
   ]
  },
  {
   "cell_type": "code",
   "execution_count": 31,
   "metadata": {
    "scrolled": true
   },
   "outputs": [],
   "source": [
    "# Group by scenario and date/time for export to graphing\n",
    "MonthlyData2 = allMonthlyData.groupby([\"Scenario\", \"Month\"], as_index=True)\n",
    "\n",
    "#MonthlyData.sum()"
   ]
  },
  {
   "cell_type": "code",
   "execution_count": 32,
   "metadata": {
    "scrolled": false
   },
   "outputs": [],
   "source": [
    "MonthlyDataFinal = MonthlyData2.sum()\n",
    "\n",
    "#MonthlyDataFinal"
   ]
  },
  {
   "cell_type": "code",
   "execution_count": 33,
   "metadata": {},
   "outputs": [],
   "source": [
    "# Drop Illuminance column...don't need the totals\n",
    "MonthlyDataFinal.drop(columns = [\"Illuminance(lux)\"], axis=1, inplace=True)"
   ]
  },
  {
   "cell_type": "code",
   "execution_count": 34,
   "metadata": {},
   "outputs": [],
   "source": [
    "# Export grouped file to csv (used before grouped by month)\n",
    "MonthlyDataFinal.round(2).to_csv(\"../Scraper_Output/msp_monthly_data.csv\", header=True, index=True)"
   ]
  },
  {
   "cell_type": "markdown",
   "metadata": {},
   "source": [
    "## Get Monthly Average Illuminance\n",
    "Get just the illuminance column<br>\n",
    "Group by scenario <br>\n",
    "Groups by month <br>"
   ]
  },
  {
   "cell_type": "code",
   "execution_count": 35,
   "metadata": {},
   "outputs": [],
   "source": [
    "Illuminance = allMonthlyData[[\"Scenario\", \"Date_Time\", \"Illuminance(lux)\", \"Month\"]]\n",
    "\n",
    "#Illuminance"
   ]
  },
  {
   "cell_type": "code",
   "execution_count": 36,
   "metadata": {},
   "outputs": [],
   "source": [
    "# Group by scenario\n",
    "MonthlyIlluminance = Illuminance.groupby([\"Scenario\", \"Month\"])\n",
    "\n",
    "#MonthlyIlluminance.mean()"
   ]
  },
  {
   "cell_type": "code",
   "execution_count": 37,
   "metadata": {},
   "outputs": [],
   "source": [
    "# Export grouped file to csv\n",
    "MonthlyIlluminance.mean().round(2).to_csv(\"../Scraper_Output/msp_monthly_illuminance.csv\", header=True, index=True)"
   ]
  },
  {
   "cell_type": "markdown",
   "metadata": {},
   "source": [
    "------\n",
    "\n",
    "## Get Hourly Energy Data\n",
    "Change units from Joules to therms and kWh<br>\n",
    "Drop unwanted columns"
   ]
  },
  {
   "cell_type": "code",
   "execution_count": 38,
   "metadata": {},
   "outputs": [],
   "source": [
    "# Copy dataframe to modify and leave original df intact\n",
    "all_data3 = all_data1.copy(deep=True)\n",
    "\n",
    "#all_data3"
   ]
  },
  {
   "cell_type": "code",
   "execution_count": 39,
   "metadata": {},
   "outputs": [],
   "source": [
    "# Get wanted columns\n",
    "# Include hourly illumance\n",
    "all_data3 = all_data3[[\"Scenario\",\n",
    "               \"Date/Time\",\n",
    "                             \"LIVING_UNIT1 DAYLIGHTINGCONTROLS:Daylighting Reference Point 1 Illuminance [lux](Hourly)\",\n",
    "                             \"SUPPLY FAN_UNIT1:Fan Electricity Energy [J](Hourly)\",\n",
    "                             \"MAIN GAS HEATING COIL_UNIT1:Heating Coil NaturalGas Energy [J](Hourly)\",\n",
    "                             \"DX COOLING COIL_UNIT1:Cooling Coil Electricity Energy [J](Hourly) \"\n",
    "                      ]]\n",
    "\n",
    "#all_data3"
   ]
  },
  {
   "cell_type": "code",
   "execution_count": 40,
   "metadata": {},
   "outputs": [],
   "source": [
    "# Rename Columns\n",
    "get_hourly = all_data3.rename(columns={\"Scenario\":\"Scenario\",\n",
    "                              \"Date/Time\":\"Date_Time\",\n",
    "                             \"LIVING_UNIT1 DAYLIGHTINGCONTROLS:Daylighting Reference Point 1 Illuminance [lux](Hourly)\":\"Illuminance(lux)\",\n",
    "                             \"SUPPLY FAN_UNIT1:Fan Electricity Energy [J](Hourly)\":\"FanEnergy[J](Hourly)\",\n",
    "                             \"MAIN GAS HEATING COIL_UNIT1:Heating Coil NaturalGas Energy [J](Hourly)\":\"HeatingEnergy[J](Hourly)\",\n",
    "                             \"DX COOLING COIL_UNIT1:Cooling Coil Electricity Energy [J](Hourly) \":\"CoolingEnergy[J](Hourly) \"\n",
    "                             })\n",
    "\n",
    "#get_hourly"
   ]
  },
  {
   "cell_type": "code",
   "execution_count": 41,
   "metadata": {},
   "outputs": [],
   "source": [
    "# Convert Joules to kWh and therms in new dataframe\n",
    "get_hourly[\"FanEnergy(kWh)\"] = get_hourly[\"FanEnergy[J](Hourly)\"] * .000000277777778\n",
    "get_hourly[\"HeatingEnergy(therms)\"] = get_hourly[\"HeatingEnergy[J](Hourly)\"] * .0000000094781712\n",
    "get_hourly[\"CoolingEnergy(kWh)\"] = get_hourly[\"CoolingEnergy[J](Hourly) \"] * .000000277777778\n",
    "\n",
    "#get_hourly"
   ]
  },
  {
   "cell_type": "code",
   "execution_count": 42,
   "metadata": {},
   "outputs": [],
   "source": [
    "# Drop columns\n",
    "get_hourly.drop(columns = [\"FanEnergy[J](Hourly)\", \"HeatingEnergy[J](Hourly)\", \"CoolingEnergy[J](Hourly) \"], axis=1, inplace=True)\n",
    "\n",
    "#get_monthly"
   ]
  },
  {
   "cell_type": "markdown",
   "metadata": {},
   "source": [
    "------\n",
    "\n",
    "## Get Hourly Cost Data\n",
    "Change units from Joules to therms and kWh<br>\n",
    "Add cost multiplier, variable needs to be defined above"
   ]
  },
  {
   "cell_type": "code",
   "execution_count": 43,
   "metadata": {},
   "outputs": [],
   "source": [
    "# Copy dataframe to modify and leave original df intact\n",
    "get_hourly_costs = all_data3.copy(deep=True)\n",
    "\n",
    "#get_hourly_costs"
   ]
  },
  {
   "cell_type": "code",
   "execution_count": 44,
   "metadata": {},
   "outputs": [],
   "source": [
    "# Rename Columns\n",
    "get_hourly_costs = get_hourly_costs.rename(columns={\"Scenario\":\"Scenario\",\n",
    "                              \"Date/Time\":\"Date_Time\",\n",
    "                             \"LIVING_UNIT1 DAYLIGHTINGCONTROLS:Daylighting Reference Point 1 Illuminance [lux](Hourly)\":\"Illuminance(lux)\",\n",
    "                             \"SUPPLY FAN_UNIT1:Fan Electricity Energy [J](Hourly)\":\"FanEnergy[J](Hourly)\",\n",
    "                             \"MAIN GAS HEATING COIL_UNIT1:Heating Coil NaturalGas Energy [J](Hourly)\":\"HeatingEnergy[J](Hourly)\",\n",
    "                             \"DX COOLING COIL_UNIT1:Cooling Coil Electricity Energy [J](Hourly) \":\"CoolingEnergy[J](Hourly) \"\n",
    "                             })\n",
    "\n",
    "# get_hourly_costs"
   ]
  },
  {
   "cell_type": "code",
   "execution_count": 45,
   "metadata": {},
   "outputs": [],
   "source": [
    "# Convert Joules to KBtu in dataframe and add cost multiplier\n",
    "# Gas kbtu => Mbtu => therms: (kbtu/1000) * 10\n",
    "# Elec kbtu => Kwh (kbtu * .000000277777778)\n",
    "get_hourly_costs[\"FanEnergy($)\"] = (get_hourly_costs[\"FanEnergy[J](Hourly)\"] * .000000277777778) * elec\n",
    "get_hourly_costs[\"HeatingEnergy($)\"] = ((get_hourly_costs[\"HeatingEnergy[J](Hourly)\"] * .00000094781712)/1000) * 10  * gas\n",
    "get_hourly_costs[\"CoolingEnergy($)\"] = (get_hourly_costs[\"CoolingEnergy[J](Hourly) \"] * .000000277777778) * elec\n",
    "\n",
    "#get_monthly_costs"
   ]
  },
  {
   "cell_type": "code",
   "execution_count": 46,
   "metadata": {},
   "outputs": [],
   "source": [
    "# Drop columns\n",
    "get_hourly_costs.drop(columns = [\"FanEnergy[J](Hourly)\", \"HeatingEnergy[J](Hourly)\", \"CoolingEnergy[J](Hourly) \"], axis=1, inplace=True)\n",
    "\n",
    "#get_hourly_costs"
   ]
  },
  {
   "cell_type": "markdown",
   "metadata": {},
   "source": [
    "## Combine Hourly Energy and Cost Data\n",
    "Combine two dfs<br>\n",
    "Establish baseline <br>\n",
    "Export combine file"
   ]
  },
  {
   "cell_type": "code",
   "execution_count": 47,
   "metadata": {},
   "outputs": [],
   "source": [
    "# Combine data for energy and cost\n",
    "allHourlyData = pd.merge(get_hourly, get_hourly_costs, how=\"inner\")\n",
    "\n",
    "#allHourlyData"
   ]
  },
  {
   "cell_type": "code",
   "execution_count": 48,
   "metadata": {},
   "outputs": [],
   "source": [
    "# Add energy cost totals\n",
    "\n",
    "totalCosthourly = allHourlyData[\"FanEnergy($)\"] + allHourlyData[\"HeatingEnergy($)\"] + allHourlyData[\"CoolingEnergy($)\"]\n",
    "allHourlyData[\"HourlyCost($)\"] = totalCosthourly\n",
    "\n",
    "#allHourlyData"
   ]
  },
  {
   "cell_type": "code",
   "execution_count": null,
   "metadata": {},
   "outputs": [],
   "source": []
  }
 ],
 "metadata": {
  "kernelspec": {
   "display_name": "Python 3",
   "language": "python",
   "name": "python3"
  },
  "language_info": {
   "codemirror_mode": {
    "name": "ipython",
    "version": 3
   },
   "file_extension": ".py",
   "mimetype": "text/x-python",
   "name": "python",
   "nbconvert_exporter": "python",
   "pygments_lexer": "ipython3",
   "version": "3.6.10"
  },
  "varInspector": {
   "cols": {
    "lenName": 16,
    "lenType": 16,
    "lenVar": 40
   },
   "kernels_config": {
    "python": {
     "delete_cmd_postfix": "",
     "delete_cmd_prefix": "del ",
     "library": "var_list.py",
     "varRefreshCmd": "print(var_dic_list())"
    },
    "r": {
     "delete_cmd_postfix": ") ",
     "delete_cmd_prefix": "rm(",
     "library": "var_list.r",
     "varRefreshCmd": "cat(var_dic_list()) "
    }
   },
   "types_to_exclude": [
    "module",
    "function",
    "builtin_function_or_method",
    "instance",
    "_Feature"
   ],
   "window_display": false
  }
 },
 "nbformat": 4,
 "nbformat_minor": 2
}
