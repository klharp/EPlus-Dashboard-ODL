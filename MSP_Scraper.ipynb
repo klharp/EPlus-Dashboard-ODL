{
 "cells": [
  {
   "cell_type": "markdown",
   "metadata": {},
   "source": [
    "# Minneapolis, MN Simulations\n",
    "8760 rows per simulation<br>\n",
    "196 files (removed cell-in-cell)"
   ]
  },
  {
   "cell_type": "code",
   "execution_count": 1,
   "metadata": {},
   "outputs": [],
   "source": [
    "# Dependencies\n",
    "import pandas as pd\n",
    "import os\n",
    "import numpy as np\n",
    "import pprint\n",
    "from pathlib import Path\n",
    "from datetime import datetime"
   ]
  },
  {
   "cell_type": "markdown",
   "metadata": {},
   "source": [
    "## Energy Conversions\n",
    "\n",
    "As per E* Documentation<br>\n",
    "\n",
    "Joules --> kBtu (multiply by .00000094781712)<br>\n",
    "Joules --> kWh (multiply by .000000277777778) or (divide by 3600000)<br>\n",
    "Joules --> therms (multiply by .0000000094781712<br>\n",
    "\n",
    "foot-candles --> Lux (multiply by 10.7642)"
   ]
  },
  {
   "cell_type": "markdown",
   "metadata": {},
   "source": [
    "<div>\n",
    "    <img src=\"static/images/elect_conv.png\" width=\"400\"/>\n",
    "     <img src=\"static/images/gas_conv.png\" width=\"400\"/>\n",
    "</div"
   ]
  },
  {
   "cell_type": "code",
   "execution_count": 2,
   "metadata": {},
   "outputs": [],
   "source": [
    "# 2018 Egrid Costs (elec $/kWh, gas $/therm), change values per city\n",
    "gas = 0.83\n",
    "elec = 0.1314"
   ]
  },
  {
   "cell_type": "markdown",
   "metadata": {},
   "source": [
    "---\n",
    "\n",
    "## Combine CSV Files in Directory"
   ]
  },
  {
   "cell_type": "code",
   "execution_count": 3,
   "metadata": {},
   "outputs": [],
   "source": [
    "# Create variable for files in directory\n",
    "files = [f for f in os.listdir(\"data/msp/\") if f.endswith(\".csv\")]\n",
    "\n",
    "# files"
   ]
  },
  {
   "cell_type": "code",
   "execution_count": 4,
   "metadata": {},
   "outputs": [],
   "source": [
    "# https://stackoverflow.com/questions/63886787/how-to-create-a-dataframe-from-multiple-csv-files\n",
    "# Initialize and empty dataframe\n",
    "all_data = pd.DataFrame()\n",
    "\n",
    "# Iterate through files and contents, then concatenate the data into the dataframe\n",
    "for file in files:\n",
    "    df = pd.read_csv(\"data/msp/\" + file)\n",
    "    all_data = pd.concat([all_data, df])\n",
    "    \n",
    "#all_data\n",
    "\n",
    "# 1716960  rows, 73 columns"
   ]
  },
  {
   "cell_type": "code",
   "execution_count": 5,
   "metadata": {},
   "outputs": [],
   "source": [
    "# all_data.dtypes"
   ]
  },
  {
   "cell_type": "code",
   "execution_count": 6,
   "metadata": {},
   "outputs": [],
   "source": [
    "# print(all_data)\n",
    "# is_NaN = all_data. isnull()\n",
    "# row_has_NaN = is_NaN. any(axis=1)\n",
    "# rows_with_NaN = all_data[row_has_NaN]\n",
    "# print(rows_with_NaN)"
   ]
  },
  {
   "cell_type": "code",
   "execution_count": 7,
   "metadata": {},
   "outputs": [],
   "source": [
    "# Get wanted columns\n",
    "all_data1 = all_data[[\"Scenario\",\n",
    "               \"Date/Time\",\n",
    "              \"LIVING_UNIT1 DAYLIGHTINGCONTROLS:Daylighting Reference Point 1 Illuminance [lux](Hourly)\",\n",
    "              \"SUPPLY FAN_UNIT1:Fan Electricity Energy [J](Hourly)\",\n",
    "              \"MAIN GAS HEATING COIL_UNIT1:Heating Coil NaturalGas Energy [J](Hourly)\",\n",
    "              \"DX COOLING COIL_UNIT1:Cooling Coil Electricity Energy [J](Hourly) \"]]\n",
    "\n",
    "#all_data1"
   ]
  },
  {
   "cell_type": "code",
   "execution_count": 8,
   "metadata": {},
   "outputs": [],
   "source": [
    "all_data1 = all_data1.dropna().reset_index(drop=True)\n",
    "\n",
    "#all_data1\n",
    "\n",
    "#1716960  rows, 73 columns"
   ]
  },
  {
   "cell_type": "markdown",
   "metadata": {},
   "source": [
    "-----\n",
    "\n",
    "## Get the Wanted Data (columns)"
   ]
  },
  {
   "cell_type": "code",
   "execution_count": 9,
   "metadata": {
    "scrolled": true
   },
   "outputs": [],
   "source": [
    "# Rename Columns\n",
    "all_data2 = all_data1.rename(columns={\"Scenario\":\"Scenario\",\n",
    "                              \"Date/Time\":\"Date_Time\",\n",
    "                             \"LIVING_UNIT1 DAYLIGHTINGCONTROLS:Daylighting Reference Point 1 Illuminance [lux](Hourly)\":\"Illuminance(lux)\",\n",
    "                             \"SUPPLY FAN_UNIT1:Fan Electricity Energy [J](Hourly)\":\"FanEnergy[J](Hourly)\",\n",
    "                             \"MAIN GAS HEATING COIL_UNIT1:Heating Coil NaturalGas Energy [J](Hourly)\":\"HeatingEnergy[J](Hourly)\",\n",
    "                             \"DX COOLING COIL_UNIT1:Cooling Coil Electricity Energy [J](Hourly) \":\"CoolingEnergy[J](Hourly) \"\n",
    "                             })\n",
    "\n",
    "#all_data2\n",
    "\n",
    "#1716960  rows, 6 columns"
   ]
  },
  {
   "cell_type": "markdown",
   "metadata": {},
   "source": [
    "-----\n",
    "\n",
    "## Get Annual Energy Data\n",
    "Convert units from Joules to kBtu<br>\n",
    "Drop Illuminance column<br>\n"
   ]
  },
  {
   "cell_type": "code",
   "execution_count": 10,
   "metadata": {},
   "outputs": [],
   "source": [
    "# Copy dataframe to modify and leave original df intact\n",
    "get_annual = all_data2.copy(deep=True)\n",
    "\n",
    "#get_annual"
   ]
  },
  {
   "cell_type": "code",
   "execution_count": 11,
   "metadata": {},
   "outputs": [],
   "source": [
    "# Convert Joules to KBtu in dataframe\n",
    "get_annual[\"FanEnergy(kBtu)\"] = get_annual[\"FanEnergy[J](Hourly)\"] * .00000094781712\n",
    "get_annual[\"HeatingEnergy(kBtu)\"] = get_annual[\"HeatingEnergy[J](Hourly)\"] * .00000094781712\n",
    "get_annual[\"CoolingEnergy(kBtu)\"] = get_annual[\"CoolingEnergy[J](Hourly) \"] * .00000094781712\n",
    "\n",
    "#get_annual"
   ]
  },
  {
   "cell_type": "code",
   "execution_count": 12,
   "metadata": {},
   "outputs": [],
   "source": [
    "# Drop columns\n",
    "get_annual.drop(columns = [\"Illuminance(lux)\", \"FanEnergy[J](Hourly)\", \"HeatingEnergy[J](Hourly)\", \"CoolingEnergy[J](Hourly) \"], axis=1, inplace=True)\n",
    "\n",
    "#get_annual"
   ]
  },
  {
   "cell_type": "markdown",
   "metadata": {},
   "source": [
    "---\n",
    "\n",
    "## Get Annual Cost Data\n",
    "Convert units from Joules to kBtu<br>\n",
    "Drop Illuminance column<br>\n",
    "Add cost multiplier, variables defined above"
   ]
  },
  {
   "cell_type": "code",
   "execution_count": 13,
   "metadata": {},
   "outputs": [],
   "source": [
    "# Get annual costs\n",
    "get_annual_costs = all_data2.copy(deep=True)"
   ]
  },
  {
   "cell_type": "code",
   "execution_count": 14,
   "metadata": {},
   "outputs": [],
   "source": [
    "# Convert Joules to KBtu in dataframe and add cost multiplier\n",
    "# Gas kbtu => Mbtu => therms: (kbtu/1000) * 10\n",
    "# Elec kbtu => Kwh (kbtu * .000000277777778)\n",
    "get_annual_costs[\"FanEnergy($)\"] = (get_annual_costs[\"FanEnergy[J](Hourly)\"] * .000000277777778) * elec\n",
    "get_annual_costs[\"HeatingEnergy($)\"] = ((get_annual_costs[\"HeatingEnergy[J](Hourly)\"] * .00000094781712)/1000) * 10  * gas\n",
    "get_annual_costs[\"CoolingEnergy($)\"] = (get_annual_costs[\"CoolingEnergy[J](Hourly) \"] * .000000277777778) * elec\n",
    "\n",
    "#get_annual_costs"
   ]
  },
  {
   "cell_type": "code",
   "execution_count": 15,
   "metadata": {},
   "outputs": [],
   "source": [
    "# Drop columns\n",
    "get_annual_costs.drop(columns = [\"Illuminance(lux)\", \"FanEnergy[J](Hourly)\", \"HeatingEnergy[J](Hourly)\", \"CoolingEnergy[J](Hourly) \"], axis=1, inplace=True)\n",
    "\n",
    "#get_annual_costs"
   ]
  },
  {
   "cell_type": "markdown",
   "metadata": {},
   "source": [
    "---\n",
    "\n",
    "## Combine Annual Energy and Cost Data\n",
    "Combine two dfs<br>\n",
    "Add baseline data <br>\n",
    "Export combine file"
   ]
  },
  {
   "cell_type": "code",
   "execution_count": 16,
   "metadata": {},
   "outputs": [],
   "source": [
    "# Combine data for energy and cost\n",
    "allAnnualData = pd.merge(get_annual, get_annual_costs)\n",
    "\n",
    "#allAnnualData"
   ]
  },
  {
   "cell_type": "code",
   "execution_count": 17,
   "metadata": {},
   "outputs": [],
   "source": [
    "# Add energy and cost totals\n",
    "totalEnergy = allAnnualData[\"FanEnergy(kBtu)\"] + allAnnualData[\"HeatingEnergy(kBtu)\"] + allAnnualData[\"CoolingEnergy(kBtu)\"]\n",
    "allAnnualData[\"AnnualEnergy(kBtu)\"] = totalEnergy\n",
    "\n",
    "totalCost = allAnnualData[\"FanEnergy($)\"] + allAnnualData[\"HeatingEnergy($)\"] + allAnnualData[\"CoolingEnergy($)\"]\n",
    "allAnnualData[\"AnnualCost($)\"] = totalCost\n",
    "\n",
    "#allAnnualData"
   ]
  },
  {
   "cell_type": "markdown",
   "metadata": {},
   "source": [
    "\n",
    "### Establish Annual Energy and Cost Baseline Data\n"
   ]
  },
  {
   "cell_type": "code",
   "execution_count": 18,
   "metadata": {
    "scrolled": true
   },
   "outputs": [],
   "source": [
    "# Establish energy target. % improvement from the average of Heat + Cool + Fan of Clear/Clear-VB0 (dual clear with a Venetian Blind at 0 degrees).\n",
    "baseline_annual = allAnnualData[allAnnualData[\"Scenario\"] == \"Clear/Clear-VB0\"]\n",
    "\n",
    "#baseline_annual"
   ]
  },
  {
   "cell_type": "code",
   "execution_count": 19,
   "metadata": {
    "scrolled": true
   },
   "outputs": [
    {
     "data": {
      "text/plain": [
       "2518.5942054690404"
      ]
     },
     "execution_count": 19,
     "metadata": {},
     "output_type": "execute_result"
    }
   ],
   "source": [
    "annualEnergy_fan = baseline_annual[\"FanEnergy(kBtu)\"].sum()\n",
    "annualEnergy_fan"
   ]
  },
  {
   "cell_type": "code",
   "execution_count": 20,
   "metadata": {
    "scrolled": true
   },
   "outputs": [
    {
     "data": {
      "text/plain": [
       "9148.732496988963"
      ]
     },
     "execution_count": 20,
     "metadata": {},
     "output_type": "execute_result"
    }
   ],
   "source": [
    "annualEnergy_cool = baseline_annual[\"CoolingEnergy(kBtu)\"].sum()\n",
    "annualEnergy_cool"
   ]
  },
  {
   "cell_type": "code",
   "execution_count": 21,
   "metadata": {},
   "outputs": [
    {
     "data": {
      "text/plain": [
       "106490.68918688194"
      ]
     },
     "execution_count": 21,
     "metadata": {},
     "output_type": "execute_result"
    }
   ],
   "source": [
    "annualEnergy_heat = baseline_annual[\"HeatingEnergy(kBtu)\"].sum()\n",
    "annualEnergy_heat"
   ]
  },
  {
   "cell_type": "code",
   "execution_count": 22,
   "metadata": {},
   "outputs": [
    {
     "data": {
      "text/plain": [
       "118158.01588933993"
      ]
     },
     "execution_count": 22,
     "metadata": {},
     "output_type": "execute_result"
    }
   ],
   "source": [
    "annualEnergy = (annualEnergy_fan + annualEnergy_cool + annualEnergy_heat)\n",
    "annualEnergy"
   ]
  },
  {
   "cell_type": "code",
   "execution_count": 23,
   "metadata": {
    "scrolled": true
   },
   "outputs": [
    {
     "data": {
      "text/plain": [
       "96.98990093485853"
      ]
     },
     "execution_count": 23,
     "metadata": {},
     "output_type": "execute_result"
    }
   ],
   "source": [
    "annualCost_fan = baseline_annual[\"FanEnergy($)\"].sum()\n",
    "annualCost_fan"
   ]
  },
  {
   "cell_type": "code",
   "execution_count": 24,
   "metadata": {
    "scrolled": true
   },
   "outputs": [
    {
     "data": {
      "text/plain": [
       "352.31346782092317"
      ]
     },
     "execution_count": 24,
     "metadata": {},
     "output_type": "execute_result"
    }
   ],
   "source": [
    "annualCost_cool = baseline_annual[\"CoolingEnergy($)\"].sum()\n",
    "annualCost_cool"
   ]
  },
  {
   "cell_type": "code",
   "execution_count": 25,
   "metadata": {},
   "outputs": [
    {
     "data": {
      "text/plain": [
       "883.87272025112"
      ]
     },
     "execution_count": 25,
     "metadata": {},
     "output_type": "execute_result"
    }
   ],
   "source": [
    "annualCost_heat = baseline_annual[\"HeatingEnergy($)\"].sum()\n",
    "annualCost_heat"
   ]
  },
  {
   "cell_type": "code",
   "execution_count": 26,
   "metadata": {
    "scrolled": true
   },
   "outputs": [
    {
     "data": {
      "text/plain": [
       "1333.1760890069017"
      ]
     },
     "execution_count": 26,
     "metadata": {},
     "output_type": "execute_result"
    }
   ],
   "source": [
    "annualCost = (annualCost_fan + annualCost_cool + annualCost_heat)\n",
    "annualCost"
   ]
  },
  {
   "cell_type": "markdown",
   "metadata": {},
   "source": [
    "---\n",
    "## Group and Export Annual Data\n",
    "Group dataframe by scenario<br>\n",
    "Add baselines to dataframe<br>\n",
    "Export to file"
   ]
  },
  {
   "cell_type": "code",
   "execution_count": 27,
   "metadata": {},
   "outputs": [],
   "source": [
    "# Group by scenario\n",
    "annualData = allAnnualData.groupby([\"Scenario\"], as_index=False)\n",
    "\n",
    "#annualData.sum().round(2)"
   ]
  },
  {
   "cell_type": "code",
   "execution_count": 28,
   "metadata": {},
   "outputs": [],
   "source": [
    "annualDataFinal = annualData.sum().round(2)\n",
    "\n",
    "#annualDataFinal"
   ]
  },
  {
   "cell_type": "code",
   "execution_count": 29,
   "metadata": {},
   "outputs": [],
   "source": [
    "# Add columns for delta from base\n",
    "annualDataFinal[\"DeltaEnergyFromBase\"] = annualDataFinal[\"AnnualEnergy(kBtu)\"] - annualEnergy\n",
    "annualDataFinal[\"DeltaCostFromBase\"] = annualDataFinal[\"AnnualCost($)\"] - annualCost\n",
    "\n",
    "#annualDataFinal.round(2)"
   ]
  },
  {
   "cell_type": "code",
   "execution_count": 30,
   "metadata": {},
   "outputs": [],
   "source": [
    "# Export grouped file to csv\n",
    "annualDataFinal.to_csv(\"../Scraper_Output/msp_annual_data.csv\", header=True, index=True)"
   ]
  },
  {
   "cell_type": "markdown",
   "metadata": {},
   "source": [
    "-----\n",
    "\n",
    "## Get Monthly Energy Data\n",
    "Change units from Joules to therms and kWh<br>\n",
    "Drop unwanted columns"
   ]
  },
  {
   "cell_type": "code",
   "execution_count": 31,
   "metadata": {},
   "outputs": [],
   "source": [
    "# Copy dataframe to modify and leave original df intact\n",
    "get_monthly = all_data2.copy(deep=True)\n",
    "\n",
    "#get_monthly"
   ]
  },
  {
   "cell_type": "code",
   "execution_count": 32,
   "metadata": {},
   "outputs": [],
   "source": [
    "# Convert Joules to kWh and therms in new dataframe\n",
    "get_monthly[\"FanEnergy(kWh)\"] = get_monthly[\"FanEnergy[J](Hourly)\"] * .000000277777778\n",
    "get_monthly[\"HeatingEnergy(therms)\"] = get_monthly[\"HeatingEnergy[J](Hourly)\"] * .0000000094781712\n",
    "get_monthly[\"CoolingEnergy(kWh)\"] = get_monthly[\"CoolingEnergy[J](Hourly) \"] * .000000277777778\n",
    "\n",
    "#get_monthly"
   ]
  },
  {
   "cell_type": "code",
   "execution_count": 33,
   "metadata": {},
   "outputs": [],
   "source": [
    "# Drop columns\n",
    "get_monthly.drop(columns = [\"FanEnergy[J](Hourly)\", \"HeatingEnergy[J](Hourly)\", \"CoolingEnergy[J](Hourly) \"], axis=1, inplace=True)\n",
    "\n",
    "#get_monthly"
   ]
  },
  {
   "cell_type": "code",
   "execution_count": 34,
   "metadata": {},
   "outputs": [],
   "source": [
    "# get_monthly[\"Month\"] = get_monthly[\"Date_Time\"].apply(lambda x: str(x)[0:3])\n",
    "\n",
    "# get_monthly"
   ]
  },
  {
   "cell_type": "markdown",
   "metadata": {},
   "source": [
    "## Get Monthly Cost Data\n",
    "\n",
    "Change units from Joules to therms and kWh<br>\n",
    "Add cost multiplier, variable needs to be defined above"
   ]
  },
  {
   "cell_type": "code",
   "execution_count": 35,
   "metadata": {},
   "outputs": [],
   "source": [
    "# Copy dataframe to modify and leave original df intact\n",
    "get_monthly_costs = all_data2.copy(deep=True)\n",
    "\n",
    "#get_monthly"
   ]
  },
  {
   "cell_type": "code",
   "execution_count": 36,
   "metadata": {},
   "outputs": [],
   "source": [
    "# Convert Joules to KBtu in dataframe and add cost multiplier\n",
    "# Gas kbtu => Mbtu => therms: (kbtu/1000) * 10\n",
    "# Elec kbtu => Kwh (kbtu * .000000277777778)\n",
    "get_monthly_costs[\"FanEnergy($)\"] = (get_monthly_costs[\"FanEnergy[J](Hourly)\"] * .000000277777778) * elec\n",
    "get_monthly_costs[\"HeatingEnergy($)\"] = ((get_monthly_costs[\"HeatingEnergy[J](Hourly)\"] * .00000094781712)/1000) * 10  * gas\n",
    "get_monthly_costs[\"CoolingEnergy($)\"] = (get_monthly_costs[\"CoolingEnergy[J](Hourly) \"] * .000000277777778) * elec\n",
    "\n",
    "#get_monthly_costs"
   ]
  },
  {
   "cell_type": "code",
   "execution_count": 37,
   "metadata": {},
   "outputs": [],
   "source": [
    "# Drop columns\n",
    "get_monthly_costs.drop(columns = [\"FanEnergy[J](Hourly)\", \"HeatingEnergy[J](Hourly)\", \"CoolingEnergy[J](Hourly) \"], axis=1, inplace=True)\n",
    "\n",
    "#get_monthly_costs"
   ]
  },
  {
   "cell_type": "code",
   "execution_count": 38,
   "metadata": {},
   "outputs": [],
   "source": [
    "# get_monthly_costs[\"Month\"] = get_monthly_costs[\"Date_Time\"].apply(lambda x: str(x)[0:3])\n",
    "\n",
    "# get_monthly_costs"
   ]
  },
  {
   "cell_type": "markdown",
   "metadata": {},
   "source": [
    "---\n",
    "\n",
    "## Combine Monthly Energy and Cost Data\n",
    "Combine two dfs<br>\n",
    "Create Month Column<br>\n",
    "Establish baseline <br>\n",
    "Export combine file"
   ]
  },
  {
   "cell_type": "code",
   "execution_count": 39,
   "metadata": {},
   "outputs": [],
   "source": [
    "# Combine data for energy and cost\n",
    "allMonthlyData = pd.merge(get_monthly, get_monthly_costs, how=\"inner\" )\n",
    "\n",
    "#allMonthlyData"
   ]
  },
  {
   "cell_type": "code",
   "execution_count": 40,
   "metadata": {},
   "outputs": [],
   "source": [
    "# Add energy and cost totals\n",
    "# totalEnergyMonthly = allMonthlyData[\"FanEnergy(kWh)\"] + allMonthlyData[\"HeatingEnergy(therms)\"] + allMonthlyData[\"CoolingEnergy(kWh)\"]\n",
    "# allMonthlyData[\"MonthlyEnergy(kBtu)\"] = totalEnergyMonthly\n",
    "\n",
    "totalCostMonthly = allMonthlyData[\"FanEnergy($)\"] + allMonthlyData[\"HeatingEnergy($)\"] + allMonthlyData[\"CoolingEnergy($)\"]\n",
    "allMonthlyData[\"MonthlyCost($)\"] = totalCostMonthly\n",
    "\n",
    "averageIlluminanceMonthly = allMonthlyData[\"Illuminance(lux)\"].mean()\n",
    "\n",
    "#allMonthlyData"
   ]
  },
  {
   "cell_type": "code",
   "execution_count": 41,
   "metadata": {
    "scrolled": true
   },
   "outputs": [],
   "source": [
    "allMonthlyData[\"Month\"] = allMonthlyData.Date_Time.str.slice(0,3)\n",
    "\n",
    "#allMonthlyData"
   ]
  },
  {
   "cell_type": "code",
   "execution_count": 42,
   "metadata": {},
   "outputs": [],
   "source": [
    "# Drop Illuminance column...don't need the totals\n",
    "allMonthlyData2 = allMonthlyData.drop([\"Illuminance(lux)\"], axis=1)\n",
    "#allMonthlyData2"
   ]
  },
  {
   "cell_type": "markdown",
   "metadata": {},
   "source": [
    "\n",
    "### Establish Monthly Energy and Cost Baseline Data\n"
   ]
  },
  {
   "cell_type": "code",
   "execution_count": 43,
   "metadata": {
    "scrolled": true
   },
   "outputs": [],
   "source": [
    "# Establish energy target. % improvement from the average of Heat + Cool + Fan of Clear/Clear-VB0 (dual clear with a Venetian Blind at 0 degrees).\n",
    "baseline_monthly = allMonthlyData2[allMonthlyData2[\"Scenario\"] == \"Clear/Clear-VB0\"]\n",
    "\n",
    "#baseline_monthly"
   ]
  },
  {
   "cell_type": "code",
   "execution_count": 44,
   "metadata": {
    "scrolled": true
   },
   "outputs": [
    {
     "data": {
      "text/plain": [
       "738.1270999608715"
      ]
     },
     "execution_count": 44,
     "metadata": {},
     "output_type": "execute_result"
    }
   ],
   "source": [
    "monthlyEnergy_fan = baseline_monthly[\"FanEnergy(kWh)\"].sum()\n",
    "monthlyEnergy_fan"
   ]
  },
  {
   "cell_type": "code",
   "execution_count": 45,
   "metadata": {
    "scrolled": true
   },
   "outputs": [
    {
     "data": {
      "text/plain": [
       "2681.228826643251"
      ]
     },
     "execution_count": 45,
     "metadata": {},
     "output_type": "execute_result"
    }
   ],
   "source": [
    "monthlyEnergy_cool = baseline_monthly[\"CoolingEnergy(kWh)\"].sum()\n",
    "monthlyEnergy_cool"
   ]
  },
  {
   "cell_type": "code",
   "execution_count": 46,
   "metadata": {},
   "outputs": [
    {
     "data": {
      "text/plain": [
       "1064.9068918688192"
      ]
     },
     "execution_count": 46,
     "metadata": {},
     "output_type": "execute_result"
    }
   ],
   "source": [
    "monthlyEnergy_heat = baseline_monthly[\"HeatingEnergy(therms)\"].sum()\n",
    "monthlyEnergy_heat"
   ]
  },
  {
   "cell_type": "code",
   "execution_count": 47,
   "metadata": {
    "scrolled": true
   },
   "outputs": [
    {
     "data": {
      "text/plain": [
       "96.98990093485853"
      ]
     },
     "execution_count": 47,
     "metadata": {},
     "output_type": "execute_result"
    }
   ],
   "source": [
    "monthlyCost_fan = baseline_monthly[\"FanEnergy($)\"].sum()\n",
    "monthlyCost_fan"
   ]
  },
  {
   "cell_type": "code",
   "execution_count": 48,
   "metadata": {
    "scrolled": true
   },
   "outputs": [
    {
     "data": {
      "text/plain": [
       "352.31346782092317"
      ]
     },
     "execution_count": 48,
     "metadata": {},
     "output_type": "execute_result"
    }
   ],
   "source": [
    "monthlyCost_cool = baseline_monthly[\"CoolingEnergy($)\"].sum()\n",
    "monthlyCost_cool"
   ]
  },
  {
   "cell_type": "code",
   "execution_count": 49,
   "metadata": {},
   "outputs": [
    {
     "data": {
      "text/plain": [
       "883.87272025112"
      ]
     },
     "execution_count": 49,
     "metadata": {},
     "output_type": "execute_result"
    }
   ],
   "source": [
    "monthlyCost_heat = baseline_monthly[\"HeatingEnergy($)\"].sum()\n",
    "monthlyCost_heat"
   ]
  },
  {
   "cell_type": "code",
   "execution_count": 50,
   "metadata": {
    "scrolled": true
   },
   "outputs": [
    {
     "data": {
      "text/plain": [
       "1333.1760890069017"
      ]
     },
     "execution_count": 50,
     "metadata": {},
     "output_type": "execute_result"
    }
   ],
   "source": [
    "monthlyCost = (monthlyCost_fan + monthlyCost_cool + monthlyCost_heat)\n",
    "monthlyCost"
   ]
  },
  {
   "cell_type": "markdown",
   "metadata": {},
   "source": [
    "## Group and Export Monthly Data\n",
    "Group dataframe by scenario and month<br>\n",
    "Add baselines to dataframe<br>\n",
    "Export to file"
   ]
  },
  {
   "cell_type": "code",
   "execution_count": 51,
   "metadata": {
    "scrolled": true
   },
   "outputs": [],
   "source": [
    "# Group by scenario and date/time for export to graphing\n",
    "MonthlyData = allMonthlyData2.groupby([\"Scenario\", \"Month\"], as_index=False)\n",
    "\n",
    "#MonthlyData.sum()"
   ]
  },
  {
   "cell_type": "code",
   "execution_count": 52,
   "metadata": {
    "scrolled": false
   },
   "outputs": [],
   "source": [
    "MonthlyDataFinal = MonthlyData.sum()\n",
    "\n",
    "#MonthlyDataFinal"
   ]
  },
  {
   "cell_type": "code",
   "execution_count": 53,
   "metadata": {
    "scrolled": true
   },
   "outputs": [],
   "source": [
    "# Add columns for delta from base\n",
    "MonthlyDataFinal[\"DeltaFanFromBase\"] = MonthlyDataFinal[\"FanEnergy(kWh)\"] - monthlyEnergy_fan\n",
    "MonthlyDataFinal[\"DeltaCoolFromBase\"] = MonthlyDataFinal[\"CoolingEnergy(kWh)\"] - monthlyEnergy_cool\n",
    "MonthlyDataFinal[\"DeltaHeatFromBase\"] = MonthlyDataFinal[\"HeatingEnergy(therms)\"] - monthlyEnergy_heat\n",
    "MonthlyDataFinal[\"DeltaCostFromBase\"] = MonthlyDataFinal[\"MonthlyCost($)\"] - monthlyCost\n",
    "\n",
    "#MonthlyDataFinal.round(2)"
   ]
  },
  {
   "cell_type": "code",
   "execution_count": 54,
   "metadata": {},
   "outputs": [],
   "source": [
    "# Export grouped file to csv (used before grouped by month)\n",
    "MonthlyDataFinal.round(2).to_csv(\"../Scraper_Output/msp_monthly_data.csv\", header=True, index=True)"
   ]
  },
  {
   "cell_type": "code",
   "execution_count": 55,
   "metadata": {},
   "outputs": [],
   "source": [
    "# # Group by scenario and date/time for export to graphing\n",
    "# MonthlyData2Final = allMonthlyData2.groupby([\"Scenario\", \"Month\"], as_index=False)\n",
    "\n",
    "# MonthlyData2Final.sum()"
   ]
  },
  {
   "cell_type": "code",
   "execution_count": 56,
   "metadata": {},
   "outputs": [],
   "source": [
    "# # Export grouped file to csv\n",
    "# MonthlyData2Final.sum().round(2).to_csv(\"../Scraper_Output/msp_monthly2_data.csv\", header=True, index=True)"
   ]
  },
  {
   "cell_type": "markdown",
   "metadata": {},
   "source": [
    "## Get Monthly Average Illuminance\n",
    "Get just the illuminance column<br>\n",
    "Group by scenario <br>\n",
    "Groups by month <br>"
   ]
  },
  {
   "cell_type": "code",
   "execution_count": 57,
   "metadata": {},
   "outputs": [],
   "source": [
    "Illuminance = allMonthlyData[[\"Scenario\", \"Date_Time\", \"Illuminance(lux)\", \"Month\"]]\n",
    "\n",
    "#Illuminance"
   ]
  },
  {
   "cell_type": "code",
   "execution_count": 58,
   "metadata": {},
   "outputs": [],
   "source": [
    "# Group by scenario\n",
    "MonthlyIlluminance = Illuminance.groupby([\"Scenario\", \"Month\"])\n",
    "\n",
    "#MonthlyIlluminance.mean()"
   ]
  },
  {
   "cell_type": "code",
   "execution_count": 59,
   "metadata": {},
   "outputs": [],
   "source": [
    "# Export grouped file to csv\n",
    "MonthlyIlluminance.mean().round(2).to_csv(\"../Scraper_Output/msp_monthly_illuminance.csv\", header=True, index=True)"
   ]
  },
  {
   "cell_type": "markdown",
   "metadata": {},
   "source": [
    "------\n",
    "\n",
    "## Get Hourly Energy Data\n",
    "Change units from Joules to therms and kWh<br>\n",
    "Drop unwanted columns"
   ]
  },
  {
   "cell_type": "code",
   "execution_count": 60,
   "metadata": {},
   "outputs": [],
   "source": [
    "# Copy dataframe to modify and leave original df intact\n",
    "all_data3 = all_data1.copy(deep=True)\n",
    "\n",
    "#all_data3"
   ]
  },
  {
   "cell_type": "code",
   "execution_count": 61,
   "metadata": {},
   "outputs": [],
   "source": [
    "# Get wanted columns\n",
    "# Include hourly illumance\n",
    "all_data3 = all_data3[[\"Scenario\",\n",
    "               \"Date/Time\",\n",
    "                             \"LIVING_UNIT1 DAYLIGHTINGCONTROLS:Daylighting Reference Point 1 Illuminance [lux](Hourly)\",\n",
    "                             \"SUPPLY FAN_UNIT1:Fan Electricity Energy [J](Hourly)\",\n",
    "                             \"MAIN GAS HEATING COIL_UNIT1:Heating Coil NaturalGas Energy [J](Hourly)\",\n",
    "                             \"DX COOLING COIL_UNIT1:Cooling Coil Electricity Energy [J](Hourly) \"\n",
    "                      ]]\n",
    "\n",
    "#all_data3"
   ]
  },
  {
   "cell_type": "code",
   "execution_count": 62,
   "metadata": {},
   "outputs": [],
   "source": [
    "# Rename Columns\n",
    "get_hourly = all_data3.rename(columns={\"Scenario\":\"Scenario\",\n",
    "                              \"Date/Time\":\"Date_Time\",\n",
    "                             \"LIVING_UNIT1 DAYLIGHTINGCONTROLS:Daylighting Reference Point 1 Illuminance [lux](Hourly)\":\"Illuminance(lux)\",\n",
    "                             \"SUPPLY FAN_UNIT1:Fan Electricity Energy [J](Hourly)\":\"FanEnergy[J](Hourly)\",\n",
    "                             \"MAIN GAS HEATING COIL_UNIT1:Heating Coil NaturalGas Energy [J](Hourly)\":\"HeatingEnergy[J](Hourly)\",\n",
    "                             \"DX COOLING COIL_UNIT1:Cooling Coil Electricity Energy [J](Hourly) \":\"CoolingEnergy[J](Hourly) \"\n",
    "                             })\n",
    "\n",
    "#get_hourly"
   ]
  },
  {
   "cell_type": "code",
   "execution_count": 63,
   "metadata": {},
   "outputs": [],
   "source": [
    "# Convert Joules to kWh and therms in new dataframe\n",
    "get_hourly[\"FanEnergy(kWh)\"] = get_hourly[\"FanEnergy[J](Hourly)\"] * .000000277777778\n",
    "get_hourly[\"HeatingEnergy(therms)\"] = get_hourly[\"HeatingEnergy[J](Hourly)\"] * .0000000094781712\n",
    "get_hourly[\"CoolingEnergy(kWh)\"] = get_hourly[\"CoolingEnergy[J](Hourly) \"] * .000000277777778\n",
    "\n",
    "#get_hourly"
   ]
  },
  {
   "cell_type": "code",
   "execution_count": 64,
   "metadata": {},
   "outputs": [],
   "source": [
    "# Drop columns\n",
    "get_hourly.drop(columns = [\"FanEnergy[J](Hourly)\", \"HeatingEnergy[J](Hourly)\", \"CoolingEnergy[J](Hourly) \"], axis=1, inplace=True)\n",
    "\n",
    "#get_monthly"
   ]
  },
  {
   "cell_type": "markdown",
   "metadata": {},
   "source": [
    "------\n",
    "\n",
    "## Get Hourly Cost Data\n",
    "Change units from Joules to therms and kWh<br>\n",
    "Add cost multiplier, variable needs to be defined above"
   ]
  },
  {
   "cell_type": "code",
   "execution_count": 65,
   "metadata": {},
   "outputs": [],
   "source": [
    "# Copy dataframe to modify and leave original df intact\n",
    "get_hourly_costs = all_data3.copy(deep=True)\n",
    "\n",
    "#get_hourly_costs"
   ]
  },
  {
   "cell_type": "code",
   "execution_count": 66,
   "metadata": {},
   "outputs": [],
   "source": [
    "# Rename Columns\n",
    "get_hourly_costs = get_hourly_costs.rename(columns={\"Scenario\":\"Scenario\",\n",
    "                              \"Date/Time\":\"Date_Time\",\n",
    "                             \"LIVING_UNIT1 DAYLIGHTINGCONTROLS:Daylighting Reference Point 1 Illuminance [lux](Hourly)\":\"Illuminance(lux)\",\n",
    "                             \"SUPPLY FAN_UNIT1:Fan Electricity Energy [J](Hourly)\":\"FanEnergy[J](Hourly)\",\n",
    "                             \"MAIN GAS HEATING COIL_UNIT1:Heating Coil NaturalGas Energy [J](Hourly)\":\"HeatingEnergy[J](Hourly)\",\n",
    "                             \"DX COOLING COIL_UNIT1:Cooling Coil Electricity Energy [J](Hourly) \":\"CoolingEnergy[J](Hourly) \"\n",
    "                             })\n",
    "\n",
    "# get_hourly_costs"
   ]
  },
  {
   "cell_type": "code",
   "execution_count": 67,
   "metadata": {},
   "outputs": [],
   "source": [
    "# Convert Joules to KBtu in dataframe and add cost multiplier\n",
    "# Gas kbtu => Mbtu => therms: (kbtu/1000) * 10\n",
    "# Elec kbtu => Kwh (kbtu * .000000277777778)\n",
    "get_hourly_costs[\"FanEnergy($)\"] = (get_hourly_costs[\"FanEnergy[J](Hourly)\"] * .000000277777778) * elec\n",
    "get_hourly_costs[\"HeatingEnergy($)\"] = ((get_hourly_costs[\"HeatingEnergy[J](Hourly)\"] * .00000094781712)/1000) * 10  * gas\n",
    "get_hourly_costs[\"CoolingEnergy($)\"] = (get_hourly_costs[\"CoolingEnergy[J](Hourly) \"] * .000000277777778) * elec\n",
    "\n",
    "#get_monthly_costs"
   ]
  },
  {
   "cell_type": "code",
   "execution_count": 68,
   "metadata": {},
   "outputs": [],
   "source": [
    "# Drop columns\n",
    "get_hourly_costs.drop(columns = [\"FanEnergy[J](Hourly)\", \"HeatingEnergy[J](Hourly)\", \"CoolingEnergy[J](Hourly) \"], axis=1, inplace=True)\n",
    "\n",
    "#get_hourly_costs"
   ]
  },
  {
   "cell_type": "markdown",
   "metadata": {},
   "source": [
    "## Combine Hourly Energy and Cost Data\n",
    "Combine two dfs<br>\n",
    "Establish baseline <br>\n",
    "Export combine file"
   ]
  },
  {
   "cell_type": "code",
   "execution_count": 69,
   "metadata": {},
   "outputs": [],
   "source": [
    "# Combine data for energy and cost\n",
    "allHourlyData = pd.merge(get_hourly, get_hourly_costs, how=\"inner\" )\n",
    "\n",
    "#allHourlyData"
   ]
  },
  {
   "cell_type": "code",
   "execution_count": 70,
   "metadata": {},
   "outputs": [],
   "source": [
    "# Add energy cost totals\n",
    "\n",
    "totalCosthourly = allHourlyData[\"FanEnergy($)\"] + allHourlyData[\"HeatingEnergy($)\"] + allHourlyData[\"CoolingEnergy($)\"]\n",
    "allHourlyData[\"HourlyCost($)\"] = totalCosthourly\n",
    "\n",
    "#allHourlyData"
   ]
  },
  {
   "cell_type": "markdown",
   "metadata": {},
   "source": [
    "\n",
    "### Establish Hourly Energy and Cost Baseline Data\n"
   ]
  },
  {
   "cell_type": "code",
   "execution_count": 71,
   "metadata": {
    "scrolled": true
   },
   "outputs": [],
   "source": [
    "# Establish energy target. % improvement from the average of Heat + Cool + Fan of Clear/Clear-VB0 (dual clear with a Venetian Blind at 0 degrees).\n",
    "baseline_hourly = allHourlyData[allHourlyData[\"Scenario\"] == \"Clear/Clear-VB0\"]\n",
    "\n",
    "#baseline_hourly"
   ]
  },
  {
   "cell_type": "code",
   "execution_count": 72,
   "metadata": {
    "scrolled": true
   },
   "outputs": [
    {
     "data": {
      "text/plain": [
       "0.08426108447041908"
      ]
     },
     "execution_count": 72,
     "metadata": {},
     "output_type": "execute_result"
    }
   ],
   "source": [
    "hourlyEnergy_fan = baseline_hourly[\"FanEnergy(kWh)\"].mean()\n",
    "hourlyEnergy_fan"
   ]
  },
  {
   "cell_type": "code",
   "execution_count": 73,
   "metadata": {
    "scrolled": true
   },
   "outputs": [
    {
     "data": {
      "text/plain": [
       "0.3060763500734302"
      ]
     },
     "execution_count": 73,
     "metadata": {},
     "output_type": "execute_result"
    }
   ],
   "source": [
    "hourlyEnergy_cool = baseline_hourly[\"CoolingEnergy(kWh)\"].mean()\n",
    "hourlyEnergy_cool"
   ]
  },
  {
   "cell_type": "code",
   "execution_count": 74,
   "metadata": {},
   "outputs": [
    {
     "data": {
      "text/plain": [
       "0.12156471368365519"
      ]
     },
     "execution_count": 74,
     "metadata": {},
     "output_type": "execute_result"
    }
   ],
   "source": [
    "hourlyEnergy_heat = baseline_hourly[\"HeatingEnergy(therms)\"].mean()\n",
    "hourlyEnergy_heat"
   ]
  },
  {
   "cell_type": "code",
   "execution_count": 75,
   "metadata": {
    "scrolled": true
   },
   "outputs": [
    {
     "data": {
      "text/plain": [
       "0.011071906499413016"
      ]
     },
     "execution_count": 75,
     "metadata": {},
     "output_type": "execute_result"
    }
   ],
   "source": [
    "hourlyCost_fan = baseline_hourly[\"FanEnergy($)\"].mean()\n",
    "hourlyCost_fan"
   ]
  },
  {
   "cell_type": "code",
   "execution_count": 76,
   "metadata": {
    "scrolled": true
   },
   "outputs": [
    {
     "data": {
      "text/plain": [
       "0.04021843239964872"
      ]
     },
     "execution_count": 76,
     "metadata": {},
     "output_type": "execute_result"
    }
   ],
   "source": [
    "hourlyCost_cool = baseline_hourly[\"CoolingEnergy($)\"].mean()\n",
    "hourlyCost_cool"
   ]
  },
  {
   "cell_type": "code",
   "execution_count": 77,
   "metadata": {},
   "outputs": [
    {
     "data": {
      "text/plain": [
       "0.10089871235743367"
      ]
     },
     "execution_count": 77,
     "metadata": {},
     "output_type": "execute_result"
    }
   ],
   "source": [
    "hourlyCost_heat = baseline_hourly[\"HeatingEnergy($)\"].mean()\n",
    "hourlyCost_heat"
   ]
  },
  {
   "cell_type": "code",
   "execution_count": 78,
   "metadata": {
    "scrolled": true
   },
   "outputs": [
    {
     "data": {
      "text/plain": [
       "0.1521890512564954"
      ]
     },
     "execution_count": 78,
     "metadata": {},
     "output_type": "execute_result"
    }
   ],
   "source": [
    "hourlyCost = (hourlyCost_fan + hourlyCost_cool + hourlyCost_heat)\n",
    "hourlyCost"
   ]
  },
  {
   "cell_type": "markdown",
   "metadata": {},
   "source": [
    "## Export Hourly Data\n",
    "\n",
    "Add baselines to dataframe<br>\n",
    "Export to file"
   ]
  },
  {
   "cell_type": "code",
   "execution_count": 79,
   "metadata": {
    "scrolled": true
   },
   "outputs": [
    {
     "data": {
      "text/html": [
       "<div>\n",
       "<style scoped>\n",
       "    .dataframe tbody tr th:only-of-type {\n",
       "        vertical-align: middle;\n",
       "    }\n",
       "\n",
       "    .dataframe tbody tr th {\n",
       "        vertical-align: top;\n",
       "    }\n",
       "\n",
       "    .dataframe thead th {\n",
       "        text-align: right;\n",
       "    }\n",
       "</style>\n",
       "<table border=\"1\" class=\"dataframe\">\n",
       "  <thead>\n",
       "    <tr style=\"text-align: right;\">\n",
       "      <th></th>\n",
       "      <th>Scenario</th>\n",
       "      <th>Date_Time</th>\n",
       "      <th>Illuminance(lux)</th>\n",
       "      <th>FanEnergy(kWh)</th>\n",
       "      <th>HeatingEnergy(therms)</th>\n",
       "      <th>CoolingEnergy(kWh)</th>\n",
       "      <th>FanEnergy($)</th>\n",
       "      <th>HeatingEnergy($)</th>\n",
       "      <th>CoolingEnergy($)</th>\n",
       "      <th>HourlyCost($)</th>\n",
       "      <th>DeltaFanFromBase</th>\n",
       "      <th>DeltaCoolFromBase</th>\n",
       "      <th>DeltaHeatFromBase</th>\n",
       "      <th>DeltaCostFromBase</th>\n",
       "    </tr>\n",
       "  </thead>\n",
       "  <tbody>\n",
       "    <tr>\n",
       "      <th>0</th>\n",
       "      <td>Clear/lowE(3)-VB-15</td>\n",
       "      <td>01/01  01:00:00</td>\n",
       "      <td>0.0</td>\n",
       "      <td>0.12</td>\n",
       "      <td>0.26</td>\n",
       "      <td>0.0</td>\n",
       "      <td>0.02</td>\n",
       "      <td>0.22</td>\n",
       "      <td>0.0</td>\n",
       "      <td>0.23</td>\n",
       "      <td>0.04</td>\n",
       "      <td>-0.31</td>\n",
       "      <td>0.14</td>\n",
       "      <td>0.08</td>\n",
       "    </tr>\n",
       "    <tr>\n",
       "      <th>1</th>\n",
       "      <td>Clear/lowE(3)-VB-15</td>\n",
       "      <td>01/01  02:00:00</td>\n",
       "      <td>0.0</td>\n",
       "      <td>0.13</td>\n",
       "      <td>0.30</td>\n",
       "      <td>0.0</td>\n",
       "      <td>0.02</td>\n",
       "      <td>0.25</td>\n",
       "      <td>0.0</td>\n",
       "      <td>0.26</td>\n",
       "      <td>0.05</td>\n",
       "      <td>-0.31</td>\n",
       "      <td>0.17</td>\n",
       "      <td>0.11</td>\n",
       "    </tr>\n",
       "    <tr>\n",
       "      <th>2</th>\n",
       "      <td>Clear/lowE(3)-VB-15</td>\n",
       "      <td>01/01  03:00:00</td>\n",
       "      <td>0.0</td>\n",
       "      <td>0.14</td>\n",
       "      <td>0.30</td>\n",
       "      <td>0.0</td>\n",
       "      <td>0.02</td>\n",
       "      <td>0.25</td>\n",
       "      <td>0.0</td>\n",
       "      <td>0.27</td>\n",
       "      <td>0.05</td>\n",
       "      <td>-0.31</td>\n",
       "      <td>0.18</td>\n",
       "      <td>0.12</td>\n",
       "    </tr>\n",
       "    <tr>\n",
       "      <th>3</th>\n",
       "      <td>Clear/lowE(3)-VB-15</td>\n",
       "      <td>01/01  04:00:00</td>\n",
       "      <td>0.0</td>\n",
       "      <td>0.14</td>\n",
       "      <td>0.30</td>\n",
       "      <td>0.0</td>\n",
       "      <td>0.02</td>\n",
       "      <td>0.25</td>\n",
       "      <td>0.0</td>\n",
       "      <td>0.27</td>\n",
       "      <td>0.05</td>\n",
       "      <td>-0.31</td>\n",
       "      <td>0.18</td>\n",
       "      <td>0.12</td>\n",
       "    </tr>\n",
       "    <tr>\n",
       "      <th>4</th>\n",
       "      <td>Clear/lowE(3)-VB-15</td>\n",
       "      <td>01/01  05:00:00</td>\n",
       "      <td>0.0</td>\n",
       "      <td>0.14</td>\n",
       "      <td>0.31</td>\n",
       "      <td>0.0</td>\n",
       "      <td>0.02</td>\n",
       "      <td>0.26</td>\n",
       "      <td>0.0</td>\n",
       "      <td>0.27</td>\n",
       "      <td>0.06</td>\n",
       "      <td>-0.31</td>\n",
       "      <td>0.19</td>\n",
       "      <td>0.12</td>\n",
       "    </tr>\n",
       "    <tr>\n",
       "      <th>...</th>\n",
       "      <td>...</td>\n",
       "      <td>...</td>\n",
       "      <td>...</td>\n",
       "      <td>...</td>\n",
       "      <td>...</td>\n",
       "      <td>...</td>\n",
       "      <td>...</td>\n",
       "      <td>...</td>\n",
       "      <td>...</td>\n",
       "      <td>...</td>\n",
       "      <td>...</td>\n",
       "      <td>...</td>\n",
       "      <td>...</td>\n",
       "      <td>...</td>\n",
       "    </tr>\n",
       "    <tr>\n",
       "      <th>1733323</th>\n",
       "      <td>lowE(2)/lowE(4)-BBG75</td>\n",
       "      <td>12/31  20:00:00</td>\n",
       "      <td>0.0</td>\n",
       "      <td>0.08</td>\n",
       "      <td>0.18</td>\n",
       "      <td>0.0</td>\n",
       "      <td>0.01</td>\n",
       "      <td>0.15</td>\n",
       "      <td>0.0</td>\n",
       "      <td>0.16</td>\n",
       "      <td>-0.00</td>\n",
       "      <td>-0.31</td>\n",
       "      <td>0.06</td>\n",
       "      <td>0.01</td>\n",
       "    </tr>\n",
       "    <tr>\n",
       "      <th>1733324</th>\n",
       "      <td>lowE(2)/lowE(4)-BBG75</td>\n",
       "      <td>12/31  21:00:00</td>\n",
       "      <td>0.0</td>\n",
       "      <td>0.08</td>\n",
       "      <td>0.18</td>\n",
       "      <td>0.0</td>\n",
       "      <td>0.01</td>\n",
       "      <td>0.15</td>\n",
       "      <td>0.0</td>\n",
       "      <td>0.16</td>\n",
       "      <td>-0.00</td>\n",
       "      <td>-0.31</td>\n",
       "      <td>0.06</td>\n",
       "      <td>0.01</td>\n",
       "    </tr>\n",
       "    <tr>\n",
       "      <th>1733325</th>\n",
       "      <td>lowE(2)/lowE(4)-BBG75</td>\n",
       "      <td>12/31  22:00:00</td>\n",
       "      <td>0.0</td>\n",
       "      <td>0.08</td>\n",
       "      <td>0.18</td>\n",
       "      <td>0.0</td>\n",
       "      <td>0.01</td>\n",
       "      <td>0.15</td>\n",
       "      <td>0.0</td>\n",
       "      <td>0.16</td>\n",
       "      <td>-0.00</td>\n",
       "      <td>-0.31</td>\n",
       "      <td>0.06</td>\n",
       "      <td>0.01</td>\n",
       "    </tr>\n",
       "    <tr>\n",
       "      <th>1733326</th>\n",
       "      <td>lowE(2)/lowE(4)-BBG75</td>\n",
       "      <td>12/31  23:00:00</td>\n",
       "      <td>0.0</td>\n",
       "      <td>0.09</td>\n",
       "      <td>0.19</td>\n",
       "      <td>0.0</td>\n",
       "      <td>0.01</td>\n",
       "      <td>0.16</td>\n",
       "      <td>0.0</td>\n",
       "      <td>0.17</td>\n",
       "      <td>0.00</td>\n",
       "      <td>-0.31</td>\n",
       "      <td>0.07</td>\n",
       "      <td>0.02</td>\n",
       "    </tr>\n",
       "    <tr>\n",
       "      <th>1733327</th>\n",
       "      <td>lowE(2)/lowE(4)-BBG75</td>\n",
       "      <td>12/31  24:00:00</td>\n",
       "      <td>0.0</td>\n",
       "      <td>0.09</td>\n",
       "      <td>0.19</td>\n",
       "      <td>0.0</td>\n",
       "      <td>0.01</td>\n",
       "      <td>0.16</td>\n",
       "      <td>0.0</td>\n",
       "      <td>0.17</td>\n",
       "      <td>0.00</td>\n",
       "      <td>-0.31</td>\n",
       "      <td>0.07</td>\n",
       "      <td>0.02</td>\n",
       "    </tr>\n",
       "  </tbody>\n",
       "</table>\n",
       "<p>1733328 rows × 14 columns</p>\n",
       "</div>"
      ],
      "text/plain": [
       "                      Scenario         Date_Time  Illuminance(lux)  \\\n",
       "0          Clear/lowE(3)-VB-15   01/01  01:00:00               0.0   \n",
       "1          Clear/lowE(3)-VB-15   01/01  02:00:00               0.0   \n",
       "2          Clear/lowE(3)-VB-15   01/01  03:00:00               0.0   \n",
       "3          Clear/lowE(3)-VB-15   01/01  04:00:00               0.0   \n",
       "4          Clear/lowE(3)-VB-15   01/01  05:00:00               0.0   \n",
       "...                        ...               ...               ...   \n",
       "1733323  lowE(2)/lowE(4)-BBG75   12/31  20:00:00               0.0   \n",
       "1733324  lowE(2)/lowE(4)-BBG75   12/31  21:00:00               0.0   \n",
       "1733325  lowE(2)/lowE(4)-BBG75   12/31  22:00:00               0.0   \n",
       "1733326  lowE(2)/lowE(4)-BBG75   12/31  23:00:00               0.0   \n",
       "1733327  lowE(2)/lowE(4)-BBG75   12/31  24:00:00               0.0   \n",
       "\n",
       "         FanEnergy(kWh)  HeatingEnergy(therms)  CoolingEnergy(kWh)  \\\n",
       "0                  0.12                   0.26                 0.0   \n",
       "1                  0.13                   0.30                 0.0   \n",
       "2                  0.14                   0.30                 0.0   \n",
       "3                  0.14                   0.30                 0.0   \n",
       "4                  0.14                   0.31                 0.0   \n",
       "...                 ...                    ...                 ...   \n",
       "1733323            0.08                   0.18                 0.0   \n",
       "1733324            0.08                   0.18                 0.0   \n",
       "1733325            0.08                   0.18                 0.0   \n",
       "1733326            0.09                   0.19                 0.0   \n",
       "1733327            0.09                   0.19                 0.0   \n",
       "\n",
       "         FanEnergy($)  HeatingEnergy($)  CoolingEnergy($)  HourlyCost($)  \\\n",
       "0                0.02              0.22               0.0           0.23   \n",
       "1                0.02              0.25               0.0           0.26   \n",
       "2                0.02              0.25               0.0           0.27   \n",
       "3                0.02              0.25               0.0           0.27   \n",
       "4                0.02              0.26               0.0           0.27   \n",
       "...               ...               ...               ...            ...   \n",
       "1733323          0.01              0.15               0.0           0.16   \n",
       "1733324          0.01              0.15               0.0           0.16   \n",
       "1733325          0.01              0.15               0.0           0.16   \n",
       "1733326          0.01              0.16               0.0           0.17   \n",
       "1733327          0.01              0.16               0.0           0.17   \n",
       "\n",
       "         DeltaFanFromBase  DeltaCoolFromBase  DeltaHeatFromBase  \\\n",
       "0                    0.04              -0.31               0.14   \n",
       "1                    0.05              -0.31               0.17   \n",
       "2                    0.05              -0.31               0.18   \n",
       "3                    0.05              -0.31               0.18   \n",
       "4                    0.06              -0.31               0.19   \n",
       "...                   ...                ...                ...   \n",
       "1733323             -0.00              -0.31               0.06   \n",
       "1733324             -0.00              -0.31               0.06   \n",
       "1733325             -0.00              -0.31               0.06   \n",
       "1733326              0.00              -0.31               0.07   \n",
       "1733327              0.00              -0.31               0.07   \n",
       "\n",
       "         DeltaCostFromBase  \n",
       "0                     0.08  \n",
       "1                     0.11  \n",
       "2                     0.12  \n",
       "3                     0.12  \n",
       "4                     0.12  \n",
       "...                    ...  \n",
       "1733323               0.01  \n",
       "1733324               0.01  \n",
       "1733325               0.01  \n",
       "1733326               0.02  \n",
       "1733327               0.02  \n",
       "\n",
       "[1733328 rows x 14 columns]"
      ]
     },
     "execution_count": 79,
     "metadata": {},
     "output_type": "execute_result"
    }
   ],
   "source": [
    "# Add columns for delta from base\n",
    "allHourlyData[\"DeltaFanFromBase\"] = allHourlyData[\"FanEnergy(kWh)\"] - hourlyEnergy_fan\n",
    "allHourlyData[\"DeltaCoolFromBase\"] = allHourlyData[\"CoolingEnergy(kWh)\"] - hourlyEnergy_cool\n",
    "allHourlyData[\"DeltaHeatFromBase\"] = allHourlyData[\"HeatingEnergy(therms)\"] - hourlyEnergy_heat\n",
    "allHourlyData[\"DeltaCostFromBase\"] = allHourlyData[\"HourlyCost($)\"] - hourlyCost\n",
    "\n",
    "allHourlyData.round(2)"
   ]
  },
  {
   "cell_type": "code",
   "execution_count": 80,
   "metadata": {},
   "outputs": [],
   "source": [
    "# Export grouped file to csv for daily cost sums\n",
    "allHourlyData.to_csv(\"../Scraper_Output/msp_daily.csv\", header=True, index=False)"
   ]
  }
 ],
 "metadata": {
  "kernelspec": {
   "display_name": "Python 3",
   "language": "python",
   "name": "python3"
  },
  "language_info": {
   "codemirror_mode": {
    "name": "ipython",
    "version": 3
   },
   "file_extension": ".py",
   "mimetype": "text/x-python",
   "name": "python",
   "nbconvert_exporter": "python",
   "pygments_lexer": "ipython3",
   "version": "3.6.10"
  },
  "varInspector": {
   "cols": {
    "lenName": 16,
    "lenType": 16,
    "lenVar": 40
   },
   "kernels_config": {
    "python": {
     "delete_cmd_postfix": "",
     "delete_cmd_prefix": "del ",
     "library": "var_list.py",
     "varRefreshCmd": "print(var_dic_list())"
    },
    "r": {
     "delete_cmd_postfix": ") ",
     "delete_cmd_prefix": "rm(",
     "library": "var_list.r",
     "varRefreshCmd": "cat(var_dic_list()) "
    }
   },
   "types_to_exclude": [
    "module",
    "function",
    "builtin_function_or_method",
    "instance",
    "_Feature"
   ],
   "window_display": false
  }
 },
 "nbformat": 4,
 "nbformat_minor": 2
}
